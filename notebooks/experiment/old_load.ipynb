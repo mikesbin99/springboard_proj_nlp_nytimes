{
 "cells": [
  {
   "cell_type": "code",
   "execution_count": null,
   "metadata": {},
   "outputs": [],
   "source": []
  },
  {
   "cell_type": "markdown",
   "metadata": {},
   "source": [
    "## Load Training Data / Write to Pickle"
   ]
  },
  {
   "cell_type": "code",
   "execution_count": null,
   "metadata": {},
   "outputs": [],
   "source": [
    "# Load and Write Train\n",
    "df_train = pd.read_csv('..//data//raw//train.csv',parse_dates=['pub_date'])\n",
    "df_train.sort_values(by='pub_date',inplace=True,ascending=True)\n",
    "df_train.to_pickle('..//data//raw//df_train.pkl')\n",
    "\n",
    "# Load and Write Train Sample\n",
    "df_sample = df_train.sample(frac=0.2)\n",
    "df_sample.to_csv('..//data//raw//df_train_sample.csv')\n",
    "df_sample.to_pickle('..//data//raw//df_train_sample.pkl')\n",
    "\n",
    "# Load and Write Test\n",
    "df_test = pd.read_csv('..//data//raw//test.csv',parse_dates=['pub_date'])\n",
    "df_test.sort_values(by='pub_date',inplace=True,ascending=True)\n",
    "df_test.to_pickle('..//data//raw//df_test.pkl')\n",
    "\n",
    "# Load and Write Test Sample\n",
    "df_sample = df_test.sample(frac=0.2)\n",
    "df_sample.to_csv('..//data//raw//df_test_sample.csv')\n",
    "df_sample.to_pickle('..//data//raw//df_test_sample.pkl')"
   ]
  },
  {
   "cell_type": "markdown",
   "metadata": {},
   "source": [
    "# API Test\n",
    "Obtains data from NYT using scraper based on month"
   ]
  },
  {
   "cell_type": "raw",
   "metadata": {},
   "source": [
    "# API Test (Key)\n",
    "# See personal notes for API Key\n",
    "\n",
    "# Simple\n",
    "import datetime as dt\n",
    "from nytimes_scraper import run_scraper, scrape_month\n",
    "\n",
    "# months = [x for x in range(1,2)]\n",
    "\n",
    "month = 12\n",
    "\n",
    "# scrape february of 2020\n",
    "print('Month: ' + str(month))\n",
    "article_df, comment_df = scrape_month('oXfJcecuKgJOekEkgt9AkoUav1GzvGHX', date=dt.date(2020, month, 1))\n",
    "    \n",
    "# # scrape all articles month by month\n",
    "# run_scraper('oXfJcecuKgJOekEkgt9AkoUav1GzvGHX')"
   ]
  },
  {
   "cell_type": "markdown",
   "metadata": {},
   "source": [
    "## Analyze sample full article (more features)"
   ]
  },
  {
   "cell_type": "code",
   "execution_count": null,
   "metadata": {},
   "outputs": [
    {
     "data": {
      "text/plain": [
       "abstract                   The gunman who shot two parishioners at the We...\n",
       "web_url                    https://www.nytimes.com/2019/12/31/us/texas-ch...\n",
       "snippet                    The gunman who shot two parishioners at the We...\n",
       "lead_paragraph             WHITE SETTLEMENT, Texas — Given West Freeway C...\n",
       "print_section                                                              A\n",
       "print_page                                                                16\n",
       "source                                                    The New York Times\n",
       "multimedia                 [{'rank': 0, 'subtype': 'xlarge', 'caption': N...\n",
       "keywords                   [{'name': 'subject', 'value': 'Churches (Build...\n",
       "pub_date                                           2020-01-01 00:14:41+00:00\n",
       "document_type                                                        article\n",
       "news_desk                                                           National\n",
       "section_name                                                            U.S.\n",
       "type_of_material                                                        News\n",
       "word_count                                                              1295\n",
       "uri                        nyt://article/22fc94cd-2e4a-5af1-89f8-7260bf27...\n",
       "html                       <!DOCTYPE html>\\n<html lang=\"en-US\" class=\"sto...\n",
       "text                       WHITE SETTLEMENT, Texas — Given West Freeway C...\n",
       "headline.main              ‘Battling a Demon’: Drifter Sought Help Before...\n",
       "headline.kicker                                                         None\n",
       "headline.content_kicker                                                 None\n",
       "headline.print_headline          Church Had Welcomed the Man Who Opened Fire\n",
       "headline.name                                                           None\n",
       "headline.seo                                                            None\n",
       "headline.sub                                                            None\n",
       "byline.original            By Dave Montgomery, Anemona Hartocollis and Ri...\n",
       "byline.person              [{'firstname': 'Dave', 'middlename': None, 'la...\n",
       "byline.organization                                                      NaN\n",
       "subsection_name                                                          NaN\n",
       "Name: nyt://article/22fc94cd-2e4a-5af1-89f8-7260bf275729, dtype: object"
      ]
     },
     "metadata": {},
     "output_type": "display_data"
    }
   ],
   "source": [
    "df_json.iloc[0].T"
   ]
  },
  {
   "cell_type": "code",
   "execution_count": null,
   "metadata": {},
   "outputs": [
    {
     "data": {
      "text/plain": [
       "'Congress invited predatory for-profit colleges to defraud military veterans when it wrote a loophole into the rules governing federal education aid. The loophole, added to the Higher Education Act in 1998, encouraged the schools to take the education aid of Americans who had served the country while giving them valueless degrees — or no degrees at all — in return.'"
      ]
     },
     "metadata": {},
     "output_type": "display_data"
    }
   ],
   "source": [
    "df_articles_verbose.iloc[0]['lead_paragraph']"
   ]
  },
  {
   "cell_type": "code",
   "execution_count": null,
   "metadata": {},
   "outputs": [
    {
     "data": {
      "text/plain": [
       "'Congress could do much more to protect Americans who have served their country from predatory for-profit colleges.'"
      ]
     },
     "metadata": {},
     "output_type": "display_data"
    }
   ],
   "source": [
    "df_articles_verbose.iloc[0]['abstract']"
   ]
  },
  {
   "cell_type": "code",
   "execution_count": null,
   "metadata": {},
   "outputs": [
    {
     "name": "stdout",
     "output_type": "stream",
     "text": [
      "<class 'pandas.core.frame.DataFrame'>\n",
      "Int64Index: 16787 entries, 0 to 16786\n",
      "Data columns (total 19 columns):\n",
      " #   Column               Non-Null Count  Dtype              \n",
      "---  ------               --------------  -----              \n",
      " 0   newsdesk             16787 non-null  object             \n",
      " 1   section              16787 non-null  object             \n",
      " 2   subsection           5693 non-null   object             \n",
      " 3   material             16787 non-null  object             \n",
      " 4   headline             16787 non-null  object             \n",
      " 5   abstract             16784 non-null  object             \n",
      " 6   keywords             16786 non-null  object             \n",
      " 7   word_count           16787 non-null  int64              \n",
      " 8   pub_date             16787 non-null  datetime64[ns, UTC]\n",
      " 9   n_comments           16787 non-null  int64              \n",
      " 10  uniqueID             16787 non-null  object             \n",
      " 11  uri                  16787 non-null  object             \n",
      " 12  print_section        11598 non-null  object             \n",
      " 13  print_page           11598 non-null  object             \n",
      " 14  lead_paragraph       16787 non-null  object             \n",
      " 15  headline.main        16787 non-null  object             \n",
      " 16  byline.person        16787 non-null  object             \n",
      " 17  byline.organization  627 non-null    object             \n",
      " 18  headline.sub         0 non-null      object             \n",
      "dtypes: datetime64[ns, UTC](1), int64(2), object(16)\n",
      "memory usage: 2.6+ MB\n"
     ]
    }
   ],
   "source": [
    "df_articles_verbose.info()"
   ]
  },
  {
   "cell_type": "raw",
   "metadata": {},
   "source": [
    "# Webpage url                                                                                                               \n",
    "url = 'https://www.nytimes.com/2019/12/31/us/texas-church-shooting-white-settlement.html'\n"
   ]
  },
  {
   "cell_type": "raw",
   "metadata": {},
   "source": [
    "import requests\n",
    "\n",
    "URL = \"https://www.nytimes.com/2019/12/31/us/texas-church-shooting-white-settlement.html\"\n",
    "page = requests.get(URL)\n",
    "\n",
    "print(page.text)"
   ]
  }
 ],
 "metadata": {
  "language_info": {
   "name": "python"
  },
  "orig_nbformat": 4
 },
 "nbformat": 4,
 "nbformat_minor": 2
}
