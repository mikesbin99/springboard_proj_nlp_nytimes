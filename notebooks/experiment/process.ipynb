{
 "cells": [
  {
   "cell_type": "markdown",
   "metadata": {},
   "source": [
    "# Process Data"
   ]
  },
  {
   "cell_type": "markdown",
   "metadata": {},
   "source": [
    "Running through workflow on this article\n",
    "https://towardsdatascience.com/text-cleaning-methods-for-natural-language-processing-f2fc1796e8c7"
   ]
  },
  {
   "cell_type": "code",
   "execution_count": 1,
   "metadata": {},
   "outputs": [
    {
     "name": "stderr",
     "output_type": "stream",
     "text": [
      "[nltk_data] Downloading package stopwords to\n",
      "[nltk_data]     C:\\Users\\Mike\\AppData\\Roaming\\nltk_data...\n",
      "[nltk_data]   Package stopwords is already up-to-date!\n",
      "[nltk_data] Downloading package punkt to\n",
      "[nltk_data]     C:\\Users\\Mike\\AppData\\Roaming\\nltk_data...\n",
      "[nltk_data]   Package punkt is already up-to-date!\n",
      "[nltk_data] Downloading package wordnet to\n",
      "[nltk_data]     C:\\Users\\Mike\\AppData\\Roaming\\nltk_data...\n",
      "[nltk_data]   Package wordnet is already up-to-date!\n"
     ]
    }
   ],
   "source": [
    "import pandas as pd\n",
    "import re\n",
    "import string\n",
    "from nltk.tokenize import RegexpTokenizer\n",
    "\n",
    "import seaborn as sns\n",
    "\n",
    "\n",
    "from gensim.utils import tokenize\n",
    "\n",
    "import nltk\n",
    "\n",
    "import nltk.corpus\n",
    "nltk.download('stopwords')\n",
    "from nltk.corpus import stopwords\n",
    "stop = stopwords.words('english')\n",
    "\n",
    "from nltk.stem import PorterStemmer\n",
    "from nltk.tokenize import word_tokenize\n",
    "\n",
    "from nltk import sent_tokenize, word_tokenize\n",
    "from textblob import TextBlob\n",
    "\n",
    "nltk.download('punkt')\n",
    "nltk.download('wordnet')\n",
    "from nltk.stem import WordNetLemmatizer\n",
    "\n",
    "from sklearn.feature_extraction.text import TfidfVectorizer\n"
   ]
  },
  {
   "cell_type": "markdown",
   "metadata": {},
   "source": [
    "## Work with SAMPLE"
   ]
  },
  {
   "cell_type": "code",
   "execution_count": 66,
   "metadata": {},
   "outputs": [],
   "source": [
    "# Load Data\n",
    "df_test_sample = pd.read_pickle('..//data//processed//df_test_sample.pkl')\n",
    "df_train_sample = pd.read_pickle('..//data//processed//df_train_sample.pkl')\n",
    "df_comments_sample = pd.read_pickle('..//data//processed//df_comments_sample.pkl')\n",
    "df_articles_sample = pd.read_pickle('..//data//processed//df_articles_sample.pkl')"
   ]
  },
  {
   "cell_type": "code",
   "execution_count": 67,
   "metadata": {},
   "outputs": [
    {
     "data": {
      "text/html": [
       "<div>\n",
       "<style scoped>\n",
       "    .dataframe tbody tr th:only-of-type {\n",
       "        vertical-align: middle;\n",
       "    }\n",
       "\n",
       "    .dataframe tbody tr th {\n",
       "        vertical-align: top;\n",
       "    }\n",
       "\n",
       "    .dataframe thead th {\n",
       "        text-align: right;\n",
       "    }\n",
       "</style>\n",
       "<table border=\"1\" class=\"dataframe\">\n",
       "  <thead>\n",
       "    <tr style=\"text-align: right;\">\n",
       "      <th></th>\n",
       "      <th>newsdesk</th>\n",
       "      <th>section</th>\n",
       "      <th>subsection</th>\n",
       "      <th>material</th>\n",
       "      <th>headline</th>\n",
       "      <th>abstract</th>\n",
       "      <th>keywords</th>\n",
       "      <th>word_count</th>\n",
       "      <th>pub_date</th>\n",
       "      <th>is_popular</th>\n",
       "      <th>uniqueID</th>\n",
       "    </tr>\n",
       "  </thead>\n",
       "  <tbody>\n",
       "    <tr>\n",
       "      <th>1508</th>\n",
       "      <td>OpEd</td>\n",
       "      <td>Opinion</td>\n",
       "      <td>NaN</td>\n",
       "      <td>Op-Ed</td>\n",
       "      <td>Finally, a Chance for Women to Defeat Trump</td>\n",
       "      <td>How four traumatic years turned Georgia into a...</td>\n",
       "      <td>['Presidential Election of 2020', 'Women and G...</td>\n",
       "      <td>865</td>\n",
       "      <td>2020-11-03 01:08:08+00:00</td>\n",
       "      <td>1</td>\n",
       "      <td>nyt://article/4edf84b4-374a-5c62-9cdb-f8c838e5...</td>\n",
       "    </tr>\n",
       "  </tbody>\n",
       "</table>\n",
       "</div>"
      ],
      "text/plain": [
       "     newsdesk  section subsection material  \\\n",
       "1508     OpEd  Opinion        NaN    Op-Ed   \n",
       "\n",
       "                                         headline  \\\n",
       "1508  Finally, a Chance for Women to Defeat Trump   \n",
       "\n",
       "                                               abstract  \\\n",
       "1508  How four traumatic years turned Georgia into a...   \n",
       "\n",
       "                                               keywords  word_count  \\\n",
       "1508  ['Presidential Election of 2020', 'Women and G...         865   \n",
       "\n",
       "                       pub_date  is_popular  \\\n",
       "1508  2020-11-03 01:08:08+00:00           1   \n",
       "\n",
       "                                               uniqueID  \n",
       "1508  nyt://article/4edf84b4-374a-5c62-9cdb-f8c838e5...  "
      ]
     },
     "execution_count": 67,
     "metadata": {},
     "output_type": "execute_result"
    }
   ],
   "source": [
    "df_test_sample.head(1)"
   ]
  },
  {
   "cell_type": "code",
   "execution_count": 68,
   "metadata": {},
   "outputs": [
    {
     "data": {
      "text/plain": [
       "5764    The five-time Olympic gold medalist is taking ...\n",
       "Name: abstract, dtype: object"
      ]
     },
     "execution_count": 68,
     "metadata": {},
     "output_type": "execute_result"
    }
   ],
   "source": [
    "df_train_sample.head(1)['abstract']"
   ]
  },
  {
   "cell_type": "code",
   "execution_count": 69,
   "metadata": {},
   "outputs": [
    {
     "data": {
      "text/html": [
       "<div>\n",
       "<style scoped>\n",
       "    .dataframe tbody tr th:only-of-type {\n",
       "        vertical-align: middle;\n",
       "    }\n",
       "\n",
       "    .dataframe tbody tr th {\n",
       "        vertical-align: top;\n",
       "    }\n",
       "\n",
       "    .dataframe thead th {\n",
       "        text-align: right;\n",
       "    }\n",
       "</style>\n",
       "<table border=\"1\" class=\"dataframe\">\n",
       "  <thead>\n",
       "    <tr style=\"text-align: right;\">\n",
       "      <th></th>\n",
       "      <th>commentID</th>\n",
       "      <th>status</th>\n",
       "      <th>commentSequence</th>\n",
       "      <th>userID</th>\n",
       "      <th>userDisplayName</th>\n",
       "      <th>userLocation</th>\n",
       "      <th>userTitle</th>\n",
       "      <th>commentBody</th>\n",
       "      <th>createDate</th>\n",
       "      <th>updateDate</th>\n",
       "      <th>...</th>\n",
       "      <th>editorsSelection</th>\n",
       "      <th>parentID</th>\n",
       "      <th>parentUserDisplayName</th>\n",
       "      <th>depth</th>\n",
       "      <th>commentType</th>\n",
       "      <th>trusted</th>\n",
       "      <th>recommendedFlag</th>\n",
       "      <th>permID</th>\n",
       "      <th>isAnonymous</th>\n",
       "      <th>articleID</th>\n",
       "    </tr>\n",
       "  </thead>\n",
       "  <tbody>\n",
       "    <tr>\n",
       "      <th>2893132</th>\n",
       "      <td>108107200</td>\n",
       "      <td>approved</td>\n",
       "      <td>108107200</td>\n",
       "      <td>22178100</td>\n",
       "      <td>kdw</td>\n",
       "      <td>Louisville, KY</td>\n",
       "      <td>NaN</td>\n",
       "      <td>@Jo Williams Exactly I see a nightmarish Gotha...</td>\n",
       "      <td>2020-07-13 15:33:55</td>\n",
       "      <td>2020-07-14 16:47:04</td>\n",
       "      <td>...</td>\n",
       "      <td>False</td>\n",
       "      <td>108103586.0</td>\n",
       "      <td>Jo Williams</td>\n",
       "      <td>2</td>\n",
       "      <td>userReply</td>\n",
       "      <td>0</td>\n",
       "      <td>0</td>\n",
       "      <td>108107200</td>\n",
       "      <td>False</td>\n",
       "      <td>nyt://article/ceee4614-2a34-5964-afa8-e6c1aa2c...</td>\n",
       "    </tr>\n",
       "  </tbody>\n",
       "</table>\n",
       "<p>1 rows × 23 columns</p>\n",
       "</div>"
      ],
      "text/plain": [
       "         commentID    status  commentSequence    userID userDisplayName  \\\n",
       "2893132  108107200  approved        108107200  22178100             kdw   \n",
       "\n",
       "           userLocation userTitle  \\\n",
       "2893132  Louisville, KY       NaN   \n",
       "\n",
       "                                               commentBody  \\\n",
       "2893132  @Jo Williams Exactly I see a nightmarish Gotha...   \n",
       "\n",
       "                  createDate           updateDate  ... editorsSelection  \\\n",
       "2893132  2020-07-13 15:33:55  2020-07-14 16:47:04  ...            False   \n",
       "\n",
       "            parentID  parentUserDisplayName  depth  commentType trusted  \\\n",
       "2893132  108103586.0            Jo Williams      2    userReply       0   \n",
       "\n",
       "         recommendedFlag     permID  isAnonymous  \\\n",
       "2893132                0  108107200        False   \n",
       "\n",
       "                                                 articleID  \n",
       "2893132  nyt://article/ceee4614-2a34-5964-afa8-e6c1aa2c...  \n",
       "\n",
       "[1 rows x 23 columns]"
      ]
     },
     "execution_count": 69,
     "metadata": {},
     "output_type": "execute_result"
    }
   ],
   "source": [
    "df_comments_sample.head(1)"
   ]
  },
  {
   "cell_type": "code",
   "execution_count": 70,
   "metadata": {},
   "outputs": [
    {
     "data": {
      "text/plain": [
       "Index(['newsdesk', 'section', 'subsection', 'material', 'headline', 'abstract',\n",
       "       'keywords', 'word_count', 'pub_date', 'is_popular', 'uniqueID'],\n",
       "      dtype='object')"
      ]
     },
     "execution_count": 70,
     "metadata": {},
     "output_type": "execute_result"
    }
   ],
   "source": [
    "df_test_sample.columns"
   ]
  },
  {
   "cell_type": "markdown",
   "metadata": {},
   "source": [
    "# What are the lengths of the abstract columns"
   ]
  },
  {
   "cell_type": "markdown",
   "metadata": {},
   "source": [
    "## Distribution of Word Count in articles"
   ]
  },
  {
   "cell_type": "code",
   "execution_count": 137,
   "metadata": {},
   "outputs": [
    {
     "name": "stderr",
     "output_type": "stream",
     "text": [
      "C:\\Users\\Mike\\.conda\\envs\\NLP\\lib\\site-packages\\seaborn\\distributions.py:2619: FutureWarning: `distplot` is a deprecated function and will be removed in a future version. Please adapt your code to use either `displot` (a figure-level function with similar flexibility) or `histplot` (an axes-level function for histograms).\n",
      "  warnings.warn(msg, FutureWarning)\n"
     ]
    },
    {
     "data": {
      "text/plain": [
       "<AxesSubplot:xlabel='word_count', ylabel='Density'>"
      ]
     },
     "execution_count": 137,
     "metadata": {},
     "output_type": "execute_result"
    },
    {
     "data": {
      "image/png": "[encoded data removed]",
      "text/plain": [
       "<Figure size 432x288 with 1 Axes>"
      ]
     },
     "metadata": {
      "needs_background": "light"
     },
     "output_type": "display_data"
    }
   ],
   "source": [
    "df_test_sample['abstract_len'] = df_test_sample['abstract'].apply(lambda x: len(x))\n",
    "df_test_sample.reset_index(drop=True,inplace=True)"
   ]
  },
  {
   "cell_type": "code",
   "execution_count": 138,
   "metadata": {},
   "outputs": [
    {
     "name": "stderr",
     "output_type": "stream",
     "text": [
      "C:\\Users\\Mike\\.conda\\envs\\NLP\\lib\\site-packages\\seaborn\\distributions.py:2619: FutureWarning: `distplot` is a deprecated function and will be removed in a future version. Please adapt your code to use either `displot` (a figure-level function with similar flexibility) or `histplot` (an axes-level function for histograms).\n",
      "  warnings.warn(msg, FutureWarning)\n"
     ]
    },
    {
     "data": {
      "text/plain": [
       "<AxesSubplot:xlabel='abstract_len', ylabel='Density'>"
      ]
     },
     "execution_count": 138,
     "metadata": {},
     "output_type": "execute_result"
    },
    {
     "data": {
      "image/png": "[encoded data removed]",
      "text/plain": [
       "<Figure size 432x288 with 1 Axes>"
      ]
     },
     "metadata": {
      "needs_background": "light"
     },
     "output_type": "display_data"
    }
   ],
   "source": [
    "sns.distplot(df_test_sample['abstract_len'])"
   ]
  },
  {
   "cell_type": "code",
   "execution_count": 139,
   "metadata": {},
   "outputs": [
    {
     "data": {
      "text/plain": [
       "'A Canadian’s gruesome account as an Islamic State executioner in Syria, which was the subject of the “Caliphate” podcast by The New York Times, was fabricated, officials say. A Times review found no corroboration of his claim to have committed atrocities.'"
      ]
     },
     "execution_count": 139,
     "metadata": {},
     "output_type": "execute_result"
    }
   ],
   "source": [
    "df_test_sample['abstract'].iloc[6]"
   ]
  },
  {
   "cell_type": "code",
   "execution_count": 140,
   "metadata": {},
   "outputs": [
    {
     "data": {
      "text/plain": [
       "\"['internal-essential', 'Chaudhry, Shehroze', 'Islamic State in Iraq and Syria (ISIS)', 'Hoaxes and Pranks', 'Terrorism', 'New York Times', 'Podcasts', 'Caliphate (Radio Program)', 'News and News Media', 'Syria', 'Canada', 'Lahore (Pakistan)', 'Toronto (Ontario)', 'Content Type: Personal Profile']\""
      ]
     },
     "execution_count": 140,
     "metadata": {},
     "output_type": "execute_result"
    }
   ],
   "source": [
    "df_test_sample['keywords'].iloc[6]"
   ]
  },
  {
   "cell_type": "code",
   "execution_count": 72,
   "metadata": {},
   "outputs": [
    {
     "data": {
      "text/plain": [
       "['A',\n",
       " 'Canadian',\n",
       " 's',\n",
       " 'gruesome',\n",
       " 'account',\n",
       " 'as',\n",
       " 'an',\n",
       " 'Islamic',\n",
       " 'State',\n",
       " 'executioner',\n",
       " 'in',\n",
       " 'Syria',\n",
       " 'which',\n",
       " 'was',\n",
       " 'the',\n",
       " 'subject',\n",
       " 'of',\n",
       " 'the',\n",
       " 'Caliphate',\n",
       " 'podcast',\n",
       " 'by',\n",
       " 'The',\n",
       " 'New',\n",
       " 'York',\n",
       " 'Times',\n",
       " 'was',\n",
       " 'fabricated',\n",
       " 'officials',\n",
       " 'say',\n",
       " 'A',\n",
       " 'Times',\n",
       " 'review',\n",
       " 'found',\n",
       " 'no',\n",
       " 'corroboration',\n",
       " 'of',\n",
       " 'his',\n",
       " 'claim',\n",
       " 'to',\n",
       " 'have',\n",
       " 'committed',\n",
       " 'atrocities']"
      ]
     },
     "execution_count": 72,
     "metadata": {},
     "output_type": "execute_result"
    }
   ],
   "source": [
    "sentence = df_test_sample.iloc[6]['abstract']\n",
    "list(tokenize(sentence))"
   ]
  },
  {
   "cell_type": "markdown",
   "metadata": {},
   "source": [
    "### split into words and handling punctuation"
   ]
  },
  {
   "cell_type": "code",
   "execution_count": 5,
   "metadata": {},
   "outputs": [
    {
     "name": "stdout",
     "output_type": "stream",
     "text": [
      "!\"#$%&'()*+,-./:;<=>?@[\\]^_`{|}~\n"
     ]
    }
   ],
   "source": [
    "print(string.punctuation)"
   ]
  },
  {
   "cell_type": "code",
   "execution_count": 6,
   "metadata": {},
   "outputs": [
    {
     "name": "stderr",
     "output_type": "stream",
     "text": [
      "C:\\Users\\Mike\\AppData\\Local\\Temp/ipykernel_10664/1415527003.py:1: FutureWarning: The default value of regex will change from True to False in a future version.\n",
      "  text = df_test_sample['abstract'].str.replace('[^a-zA-Z]',' ')\n"
     ]
    },
    {
     "data": {
      "text/plain": [
       "1508    How four traumatic years turned Georgia into a...\n",
       "3873    On Jan     the vice president will preside as ...\n",
       "2875    One day  we ll look back on this year and bawl...\n",
       "2202    Have you seen more skateboarding parks in your...\n",
       "305     New York City had been holding off a second wa...\n",
       "                              ...                        \n",
       "1859    The  Chanel of streetwear  has a new owner  an...\n",
       "2432    The ownership of Taylor Swift s catalog return...\n",
       "992     Teenage comments in response to our recent wri...\n",
       "1116    Between a third and a half of all eligible vot...\n",
       "1369    Donald Trump has made America exceptional all ...\n",
       "Name: abstract, Length: 799, dtype: object"
      ]
     },
     "execution_count": 6,
     "metadata": {},
     "output_type": "execute_result"
    }
   ],
   "source": [
    "text = df_test_sample['abstract'].str.replace('[^a-zA-Z]',' ')\n",
    "text\n"
   ]
  },
  {
   "cell_type": "markdown",
   "metadata": {},
   "source": [
    "# Normalization\n",
    "remove the noise"
   ]
  },
  {
   "cell_type": "code",
   "execution_count": 7,
   "metadata": {},
   "outputs": [],
   "source": [
    "# Normalize\n",
    "def normalize_col(df, column, column_new):\n",
    "    #  https://towardsdatascience.com/text-cleaning-methods-\n",
    "    #  for-natural-language-processing-f2fc1796e8c7\n",
    "    df[column_new] = df[column].str.lower()\n",
    "    df[column_new] = df[column].apply\\\n",
    "        (lambda elem: re.sub(r\"(@[A-Za-z0-9]+)|([^0-9A-Za-z \\t])|\\\n",
    "        (\\w+:\\/\\/\\S+)|^rt|http.+?\", \"\", elem))  \n",
    "\n",
    "    df[column_new] = df[column].apply\\\n",
    "        (lambda elem: re.sub(r\"\\d+\", \"\", elem))\n",
    "    return df"
   ]
  },
  {
   "cell_type": "code",
   "execution_count": 8,
   "metadata": {},
   "outputs": [
    {
     "data": {
      "text/html": [
       "<div>\n",
       "<style scoped>\n",
       "    .dataframe tbody tr th:only-of-type {\n",
       "        vertical-align: middle;\n",
       "    }\n",
       "\n",
       "    .dataframe tbody tr th {\n",
       "        vertical-align: top;\n",
       "    }\n",
       "\n",
       "    .dataframe thead th {\n",
       "        text-align: right;\n",
       "    }\n",
       "</style>\n",
       "<table border=\"1\" class=\"dataframe\">\n",
       "  <thead>\n",
       "    <tr style=\"text-align: right;\">\n",
       "      <th></th>\n",
       "      <th>abstract</th>\n",
       "      <th>abstract_nrml</th>\n",
       "    </tr>\n",
       "  </thead>\n",
       "  <tbody>\n",
       "    <tr>\n",
       "      <th>1508</th>\n",
       "      <td>How four traumatic years turned Georgia into a...</td>\n",
       "      <td>How four traumatic years turned Georgia into a...</td>\n",
       "    </tr>\n",
       "    <tr>\n",
       "      <th>3873</th>\n",
       "      <td>On Jan. 6, the vice president will preside as ...</td>\n",
       "      <td>On Jan. , the vice president will preside as C...</td>\n",
       "    </tr>\n",
       "    <tr>\n",
       "      <th>2875</th>\n",
       "      <td>One day, we’ll look back on this year and bawl...</td>\n",
       "      <td>One day, we’ll look back on this year and bawl...</td>\n",
       "    </tr>\n",
       "    <tr>\n",
       "      <th>2202</th>\n",
       "      <td>Have you seen more skateboarding parks in your...</td>\n",
       "      <td>Have you seen more skateboarding parks in your...</td>\n",
       "    </tr>\n",
       "    <tr>\n",
       "      <th>305</th>\n",
       "      <td>New York City had been holding off a second wa...</td>\n",
       "      <td>New York City had been holding off a second wa...</td>\n",
       "    </tr>\n",
       "    <tr>\n",
       "      <th>...</th>\n",
       "      <td>...</td>\n",
       "      <td>...</td>\n",
       "    </tr>\n",
       "    <tr>\n",
       "      <th>1859</th>\n",
       "      <td>The “Chanel of streetwear” has a new owner, an...</td>\n",
       "      <td>The “Chanel of streetwear” has a new owner, an...</td>\n",
       "    </tr>\n",
       "    <tr>\n",
       "      <th>2432</th>\n",
       "      <td>The ownership of Taylor Swift’s catalog return...</td>\n",
       "      <td>The ownership of Taylor Swift’s catalog return...</td>\n",
       "    </tr>\n",
       "    <tr>\n",
       "      <th>992</th>\n",
       "      <td>Teenage comments in response to our recent wri...</td>\n",
       "      <td>Teenage comments in response to our recent wri...</td>\n",
       "    </tr>\n",
       "    <tr>\n",
       "      <th>1116</th>\n",
       "      <td>Between a third and a half of all eligible vot...</td>\n",
       "      <td>Between a third and a half of all eligible vot...</td>\n",
       "    </tr>\n",
       "    <tr>\n",
       "      <th>1369</th>\n",
       "      <td>Donald Trump has made America exceptional all ...</td>\n",
       "      <td>Donald Trump has made America exceptional all ...</td>\n",
       "    </tr>\n",
       "  </tbody>\n",
       "</table>\n",
       "<p>799 rows × 2 columns</p>\n",
       "</div>"
      ],
      "text/plain": [
       "                                               abstract  \\\n",
       "1508  How four traumatic years turned Georgia into a...   \n",
       "3873  On Jan. 6, the vice president will preside as ...   \n",
       "2875  One day, we’ll look back on this year and bawl...   \n",
       "2202  Have you seen more skateboarding parks in your...   \n",
       "305   New York City had been holding off a second wa...   \n",
       "...                                                 ...   \n",
       "1859  The “Chanel of streetwear” has a new owner, an...   \n",
       "2432  The ownership of Taylor Swift’s catalog return...   \n",
       "992   Teenage comments in response to our recent wri...   \n",
       "1116  Between a third and a half of all eligible vot...   \n",
       "1369  Donald Trump has made America exceptional all ...   \n",
       "\n",
       "                                          abstract_nrml  \n",
       "1508  How four traumatic years turned Georgia into a...  \n",
       "3873  On Jan. , the vice president will preside as C...  \n",
       "2875  One day, we’ll look back on this year and bawl...  \n",
       "2202  Have you seen more skateboarding parks in your...  \n",
       "305   New York City had been holding off a second wa...  \n",
       "...                                                 ...  \n",
       "1859  The “Chanel of streetwear” has a new owner, an...  \n",
       "2432  The ownership of Taylor Swift’s catalog return...  \n",
       "992   Teenage comments in response to our recent wri...  \n",
       "1116  Between a third and a half of all eligible vot...  \n",
       "1369  Donald Trump has made America exceptional all ...  \n",
       "\n",
       "[799 rows x 2 columns]"
      ]
     },
     "execution_count": 8,
     "metadata": {},
     "output_type": "execute_result"
    }
   ],
   "source": [
    "data_clean = normalize_col(df_test_sample, 'abstract', 'abstract_nrml')\n",
    "data_clean[['abstract','abstract_nrml']]"
   ]
  },
  {
   "cell_type": "markdown",
   "metadata": {},
   "source": [
    "# Stopwords"
   ]
  },
  {
   "cell_type": "code",
   "execution_count": 13,
   "metadata": {},
   "outputs": [
    {
     "data": {
      "text/plain": [
       "['i', 'me', 'my', 'myself', 'we']"
      ]
     },
     "execution_count": 13,
     "metadata": {},
     "output_type": "execute_result"
    }
   ],
   "source": [
    "# What are the stopwords\n",
    "stop[0:5]"
   ]
  },
  {
   "cell_type": "code",
   "execution_count": 14,
   "metadata": {},
   "outputs": [],
   "source": [
    "def remove_stopwords(df, column, column_new):\n",
    "    df[column_new] = df[column].apply(lambda x: ' '.join([word for word in x.split() if word not in (stop)]))\n",
    "    return df"
   ]
  },
  {
   "cell_type": "code",
   "execution_count": 15,
   "metadata": {},
   "outputs": [],
   "source": [
    "df_test_sample = remove_stopwords(df_test_sample, 'abstract_nrml','abstract_nrml_stp')"
   ]
  },
  {
   "cell_type": "code",
   "execution_count": 16,
   "metadata": {},
   "outputs": [
    {
     "data": {
      "text/html": [
       "<div>\n",
       "<style scoped>\n",
       "    .dataframe tbody tr th:only-of-type {\n",
       "        vertical-align: middle;\n",
       "    }\n",
       "\n",
       "    .dataframe tbody tr th {\n",
       "        vertical-align: top;\n",
       "    }\n",
       "\n",
       "    .dataframe thead th {\n",
       "        text-align: right;\n",
       "    }\n",
       "</style>\n",
       "<table border=\"1\" class=\"dataframe\">\n",
       "  <thead>\n",
       "    <tr style=\"text-align: right;\">\n",
       "      <th></th>\n",
       "      <th>abstract</th>\n",
       "      <th>abstract_nrml</th>\n",
       "      <th>abstract_nrml_stp</th>\n",
       "    </tr>\n",
       "  </thead>\n",
       "  <tbody>\n",
       "    <tr>\n",
       "      <th>1508</th>\n",
       "      <td>How four traumatic years turned Georgia into a...</td>\n",
       "      <td>How four traumatic years turned Georgia into a...</td>\n",
       "      <td>How four traumatic years turned Georgia swing ...</td>\n",
       "    </tr>\n",
       "    <tr>\n",
       "      <th>3873</th>\n",
       "      <td>On Jan. 6, the vice president will preside as ...</td>\n",
       "      <td>On Jan. , the vice president will preside as C...</td>\n",
       "      <td>On Jan. , vice president preside Congress coun...</td>\n",
       "    </tr>\n",
       "    <tr>\n",
       "      <th>2875</th>\n",
       "      <td>One day, we’ll look back on this year and bawl...</td>\n",
       "      <td>One day, we’ll look back on this year and bawl...</td>\n",
       "      <td>One day, we’ll look back year bawl. But also r...</td>\n",
       "    </tr>\n",
       "    <tr>\n",
       "      <th>2202</th>\n",
       "      <td>Have you seen more skateboarding parks in your...</td>\n",
       "      <td>Have you seen more skateboarding parks in your...</td>\n",
       "      <td>Have seen skateboarding parks area? Do think s...</td>\n",
       "    </tr>\n",
       "    <tr>\n",
       "      <th>305</th>\n",
       "      <td>New York City had been holding off a second wa...</td>\n",
       "      <td>New York City had been holding off a second wa...</td>\n",
       "      <td>New York City holding second wave, uptick case...</td>\n",
       "    </tr>\n",
       "    <tr>\n",
       "      <th>...</th>\n",
       "      <td>...</td>\n",
       "      <td>...</td>\n",
       "      <td>...</td>\n",
       "    </tr>\n",
       "    <tr>\n",
       "      <th>1859</th>\n",
       "      <td>The “Chanel of streetwear” has a new owner, an...</td>\n",
       "      <td>The “Chanel of streetwear” has a new owner, an...</td>\n",
       "      <td>The “Chanel streetwear” new owner, tough balan...</td>\n",
       "    </tr>\n",
       "    <tr>\n",
       "      <th>2432</th>\n",
       "      <td>The ownership of Taylor Swift’s catalog return...</td>\n",
       "      <td>The ownership of Taylor Swift’s catalog return...</td>\n",
       "      <td>The ownership Taylor Swift’s catalog returned ...</td>\n",
       "    </tr>\n",
       "    <tr>\n",
       "      <th>992</th>\n",
       "      <td>Teenage comments in response to our recent wri...</td>\n",
       "      <td>Teenage comments in response to our recent wri...</td>\n",
       "      <td>Teenage comments response recent writing promp...</td>\n",
       "    </tr>\n",
       "    <tr>\n",
       "      <th>1116</th>\n",
       "      <td>Between a third and a half of all eligible vot...</td>\n",
       "      <td>Between a third and a half of all eligible vot...</td>\n",
       "      <td>Between third half eligible voters typically s...</td>\n",
       "    </tr>\n",
       "    <tr>\n",
       "      <th>1369</th>\n",
       "      <td>Donald Trump has made America exceptional all ...</td>\n",
       "      <td>Donald Trump has made America exceptional all ...</td>\n",
       "      <td>Donald Trump made America exceptional right — ...</td>\n",
       "    </tr>\n",
       "  </tbody>\n",
       "</table>\n",
       "<p>799 rows × 3 columns</p>\n",
       "</div>"
      ],
      "text/plain": [
       "                                               abstract  \\\n",
       "1508  How four traumatic years turned Georgia into a...   \n",
       "3873  On Jan. 6, the vice president will preside as ...   \n",
       "2875  One day, we’ll look back on this year and bawl...   \n",
       "2202  Have you seen more skateboarding parks in your...   \n",
       "305   New York City had been holding off a second wa...   \n",
       "...                                                 ...   \n",
       "1859  The “Chanel of streetwear” has a new owner, an...   \n",
       "2432  The ownership of Taylor Swift’s catalog return...   \n",
       "992   Teenage comments in response to our recent wri...   \n",
       "1116  Between a third and a half of all eligible vot...   \n",
       "1369  Donald Trump has made America exceptional all ...   \n",
       "\n",
       "                                          abstract_nrml  \\\n",
       "1508  How four traumatic years turned Georgia into a...   \n",
       "3873  On Jan. , the vice president will preside as C...   \n",
       "2875  One day, we’ll look back on this year and bawl...   \n",
       "2202  Have you seen more skateboarding parks in your...   \n",
       "305   New York City had been holding off a second wa...   \n",
       "...                                                 ...   \n",
       "1859  The “Chanel of streetwear” has a new owner, an...   \n",
       "2432  The ownership of Taylor Swift’s catalog return...   \n",
       "992   Teenage comments in response to our recent wri...   \n",
       "1116  Between a third and a half of all eligible vot...   \n",
       "1369  Donald Trump has made America exceptional all ...   \n",
       "\n",
       "                                      abstract_nrml_stp  \n",
       "1508  How four traumatic years turned Georgia swing ...  \n",
       "3873  On Jan. , vice president preside Congress coun...  \n",
       "2875  One day, we’ll look back year bawl. But also r...  \n",
       "2202  Have seen skateboarding parks area? Do think s...  \n",
       "305   New York City holding second wave, uptick case...  \n",
       "...                                                 ...  \n",
       "1859  The “Chanel streetwear” new owner, tough balan...  \n",
       "2432  The ownership Taylor Swift’s catalog returned ...  \n",
       "992   Teenage comments response recent writing promp...  \n",
       "1116  Between third half eligible voters typically s...  \n",
       "1369  Donald Trump made America exceptional right — ...  \n",
       "\n",
       "[799 rows x 3 columns]"
      ]
     },
     "execution_count": 16,
     "metadata": {},
     "output_type": "execute_result"
    }
   ],
   "source": [
    "df_test_sample[['abstract','abstract_nrml','abstract_nrml_stp']]"
   ]
  },
  {
   "cell_type": "markdown",
   "metadata": {},
   "source": [
    "# Tokenize"
   ]
  },
  {
   "cell_type": "raw",
   "metadata": {},
   "source": [
    "def wrd_tokenize(df, column, column_new):\n",
    "    df[column_new] = df[column].apply(lambda x: word_tokenize(x))\n",
    "    return df"
   ]
  },
  {
   "cell_type": "raw",
   "metadata": {},
   "source": [
    "df_test_sample = wrd_tokenize(df_test_sample, 'abstract_nrml_stp','abstract_nrml_stp_tokn')"
   ]
  },
  {
   "cell_type": "raw",
   "metadata": {},
   "source": [
    "df_test_sample.columns"
   ]
  },
  {
   "cell_type": "raw",
   "metadata": {},
   "source": [
    "df_test_sample['abstract_nrml_stp_tokn']"
   ]
  },
  {
   "cell_type": "raw",
   "metadata": {},
   "source": [
    "def wrd_stemmer(text):\n",
    "    stem_text = [PorterStemmer().stem(i) for i in text]\n",
    "    return stem_text\n",
    "    # new_col_name = column + '_wrd_stemmer'\n",
    "    # df[new_col_name] = df[column].apply(lambda x: word_stemmer(x))\n",
    "    # return df"
   ]
  },
  {
   "cell_type": "raw",
   "metadata": {},
   "source": [
    "df_test_sample['abstract_clean_wrd_tokenized_stemmed'] = df_test_sample['abstract_clean_wrd_tokenized'].\\\n",
    "    apply(lambda x: wrd_stemmer(x))"
   ]
  },
  {
   "cell_type": "raw",
   "metadata": {},
   "source": [
    "df_test_sample['abstract_clean_wrd_tokenized_stemmed']"
   ]
  },
  {
   "cell_type": "markdown",
   "metadata": {},
   "source": [
    "# Lemmatization\n",
    "Make words in root form, morphological analysis"
   ]
  },
  {
   "cell_type": "code",
   "execution_count": 21,
   "metadata": {},
   "outputs": [],
   "source": [
    "def wrd_lemmatize(text):\n",
    "    lemmaed = [WordNetLemmatizer().lemmatize(i) for i in text]\n",
    "    return lemmaed\n",
    "    "
   ]
  },
  {
   "cell_type": "code",
   "execution_count": 22,
   "metadata": {},
   "outputs": [
    {
     "data": {
      "text/plain": [
       "Index(['newsdesk', 'section', 'subsection', 'material', 'headline', 'abstract',\n",
       "       'keywords', 'word_count', 'pub_date', 'is_popular', 'uniqueID',\n",
       "       'abstract_nrml', 'abstract_nrml_stp'],\n",
       "      dtype='object')"
      ]
     },
     "execution_count": 22,
     "metadata": {},
     "output_type": "execute_result"
    }
   ],
   "source": [
    "df_test_sample.columns"
   ]
  },
  {
   "cell_type": "code",
   "execution_count": 23,
   "metadata": {},
   "outputs": [],
   "source": [
    "df_test_sample['text_tokens_lemmaed'] = df_test_sample['abstract_nrml_stp'] \\\n",
    "                    .apply(lambda x: wrd_lemmatize(x))"
   ]
  },
  {
   "cell_type": "code",
   "execution_count": 24,
   "metadata": {},
   "outputs": [
    {
     "data": {
      "text/plain": [
       "1508    [H, o, w,  , f, o, u, r,  , t, r, a, u, m, a, ...\n",
       "3873    [O, n,  , J, a, n, .,  , ,,  , v, i, c, e,  , ...\n",
       "2875    [O, n, e,  , d, a, y, ,,  , w, e, ’, l, l,  , ...\n",
       "2202    [H, a, v, e,  , s, e, e, n,  , s, k, a, t, e, ...\n",
       "305     [N, e, w,  , Y, o, r, k,  , C, i, t, y,  , h, ...\n",
       "                              ...                        \n",
       "1859    [T, h, e,  , “, C, h, a, n, e, l,  , s, t, r, ...\n",
       "2432    [T, h, e,  , o, w, n, e, r, s, h, i, p,  , T, ...\n",
       "992     [T, e, e, n, a, g, e,  , c, o, m, m, e, n, t, ...\n",
       "1116    [B, e, t, w, e, e, n,  , t, h, i, r, d,  , h, ...\n",
       "1369    [D, o, n, a, l, d,  , T, r, u, m, p,  , m, a, ...\n",
       "Name: text_tokens_lemmaed, Length: 799, dtype: object"
      ]
     },
     "execution_count": 24,
     "metadata": {},
     "output_type": "execute_result"
    }
   ],
   "source": [
    "df_test_sample['text_tokens_lemmaed'] "
   ]
  },
  {
   "cell_type": "markdown",
   "metadata": {},
   "source": [
    "## TF-IDF\n",
    "https://learning.oreilly.com/library/view/natural-language-processing/9781484273517/html/475440_2_En_3_Chapter.xhtml\n",
    "Term frequency (TF) is the ratio of the count of a particular word present in a sentence to the total count of words in the same sentence. TF captures the importance of the word irrespective of the length of the document. For example, a word with a frequency of 3 in a sentence with 10 words is different from when the word length of the sentence is 100 words. It should have more importance in the first scenario, which is what TF does. TF(t) = (Number of times term t appears in a document) / (Total number of terms in the document).\n",
    "\n",
    "Inverse document frequency (IDF) is a log of the ratio of the total number of rows to the number of rows in a particular document in which a word is present. IDF = log(N/n), where N is the total number of rows, and n is the number of rows in which the word was present.\n",
    "\n",
    "IDF measures the rareness of a term. Words like a and the show up in all the corpus documents, but rare words are not in all documents. So, if a word appears in almost all the documents, that word is of no use since it does not help with classification or information retrieval. IDF nullifies this problem.\n",
    "\n",
    "TF-IDF is the simple product of TF and IDF that addresses both drawbacks, making predictions and information retrieval relevant.\n",
    "\n",
    "TF-IDF = TF * IDF"
   ]
  },
  {
   "cell_type": "code",
   "execution_count": 158,
   "metadata": {},
   "outputs": [],
   "source": [
    "sample = df_test_sample['abstract']"
   ]
  },
  {
   "cell_type": "code",
   "execution_count": 160,
   "metadata": {},
   "outputs": [
    {
     "name": "stdout",
     "output_type": "stream",
     "text": [
      "{'how': 2026, 'four': 1714, 'traumatic': 4292, 'years': 4657, 'turned': 4336, 'georgia': 1796, 'into': 2173, 'swing': 4079, 'state': 3938, 'on': 2834, 'jan': 2211, 'the': 4170, 'vice': 4463, 'president': 3162, 'will': 4595, 'preside': 3160, 'as': 309, 'congress': 903, 'counts': 986, 'electoral': 1370, 'college': 827, 'votes': 4495, 'let': 2368, 'hope': 2007, 'that': 4169, 'he': 1932, 'doesn': 1265, 'do': 1257, 'unthinkable': 4396, 'and': 227, 'unconstitutional': 4357, 'one': 2836, 'day': 1076, 'we': 4542, 'll': 2409, 'look': 2427, 'back': 362, 'this': 4193, 'year': 4656, 'bawl': 404, 'but': 613, 'should': 3756, 'also': 202, 'remember': 3434, 'there': 4182, 'were': 4566, 'professionals': 3200, 'out': 2876, 'who': 4580, 'dared': 1069, 'to': 4236, 'bring': 567, 'joy': 2244, 'our': 2874, 'screens': 3650, 'have': 1922, 'you': 4665, 'seen': 3680, 'more': 2648, 'skateboarding': 3793, 'parks': 2940, 'in': 2092, 'your': 4669, 'area': 285, 'think': 4188, 'sport': 3904, 'is': 2198, 'becoming': 418, 'mainstream': 2478, 'if': 2057, 'so': 3831, 'good': 1835, 'thing': 4186, 'new': 2737, 'york': 4662, 'city': 768, 'had': 1894, 'been': 423, 'holding': 1990, 'off': 2815, 'second': 3665, 'wave': 4538, 'an': 222, 'uptick': 4415, 'cases': 670, 'brooklyn': 582, 'queens': 3284, 'now': 2788, 'threatens': 4205, 'went': 4565, 'from': 1740, 'manual': 2499, 'labor': 2297, 'musical': 2686, 'phenomenon': 3026, 'matter': 2529, 'of': 2814, 'months': 2642, 'his': 1975, 'struggles': 4000, 'always': 206, 'music': 2685, 'canadian': 641, 'gruesome': 1879, 'account': 87, 'islamic': 2199, 'executioner': 1499, 'syria': 4088, 'which': 4577, 'was': 4528, 'subject': 4013, 'caliphate': 629, 'podcast': 3077, 'by': 619, 'times': 4229, 'fabricated': 1540, 'officials': 2825, 'say': 3625, 'review': 3525, 'found': 1712, 'no': 2750, 'corroboration': 968, 'claim': 771, 'committed': 853, 'atrocities': 332, 'nobody': 2752, 'knows': 2287, 'jookin': 2235, 'star': 3933, 'presents': 3158, 'short': 3751, 'film': 1629, 'explores': 1527, 'black': 479, 'man': 2488, 'relationship': 3416, 'dance': 1063, 'first': 1647, 'two': 4344, 'part': 2941, 'series': 3702, 'exploring': 1528, 'policies': 3089, 'presidential': 3163, 'candidates': 647, 'at': 328, 'whether': 4576, 'mr': 2672, 'trump': 4325, 'has': 1919, 'made': 2471, 'commitments': 852, '2016': 30, 'welcome': 4560, 'nova': 2785, 'scotia': 3644, 'land': 2305, 'proves': 3244, 'beating': 410, 'virus': 4479, 'possible': 3119, 'america': 213, 'be': 406, 'functioning': 1754, 'democracy': 1136, 'before': 425, 'it': 2205, 'can': 640, 'exemplary': 1502, 'los': 2432, 'angeles': 231, 'vs': 4499, 'tampa': 4112, 'bay': 405, 'big': 463, 'spenders': 3888, 'penny': 2990, 'pinchers': 3041, 'stars': 3935, 'relative': 3417, 'unknowns': 4385, 'dodgers': 1263, 'rays': 3340, 'both': 527, 'dominated': 1270, 'get': 1798, 'point': 3084, 'did': 1191, 'different': 1199, 'ways': 4541, 'pursued': 3271, 'weaken': 4544, 'insurance': 2156, 'protections': 3238, 'not': 2775, 'reflected': 3391, 'polling': 3097, 'republicans': 3465, 'democratic': 1137, 'candidate': 646, 'won': 4623, 'michigan': 2584, 'wisconsin': 4614, 'seems': 3679, 'well': 4562, 'placed': 3048, 'other': 2872, 'key': 2265, 'states': 3942, 'filed': 1624, 'lawsuits': 2330, 'block': 494, 'path': 2966, 'general': 1789, 'motors': 2660, 'said': 3603, 'would': 4645, 'longer': 2425, 'effort': 1353, 'strip': 3992, 'california': 628, 'power': 3130, 'set': 3710, 'fuel': 1745, 'economy': 1335, 'standards': 3930, 'since': 3784, 'returning': 3515, 'campaign': 636, 'trail': 4274, 'drawn': 1294, 'only': 2840, 'attention': 338, 'difficulties': 1201, 'with': 4617, 'women': 4622, 'older': 2831, 'voters': 4494, 'minimizing': 2602, 'pandemic': 2932, 'targeting': 4114, 'female': 1605, 'leaders': 2337, 'rise': 3543, 'virtual': 4477, 'learning': 2348, 'could': 975, 'mean': 2541, 'end': 1405, 'snow': 3827, 'days': 1077, 'surge': 4052, 'worldwide': 4640, 'demand': 1132, 'educators': 1347, 'for': 1689, 'low': 2450, 'cost': 970, 'laptops': 2313, 'created': 1004, 'shipment': 3741, 'delays': 1124, 'pitted': 3045, 'desperate': 1166, 'schools': 3640, 'against': 156, 'another': 242, 'districts': 1248, 'deep': 1109, 'pockets': 3075, 'often': 2827, 'win': 4603, 'particularly': 2945, 'early': 1319, 'vaccination': 4433, 'many': 2501, 'activities': 104, 'wait': 4503, 'experts': 1522, 'plan': 3051, 'keep': 2260, 'masks': 2522, 'industry': 2113, 'hit': 1980, 'hard': 1915, 'take': 4096, 'come': 840, 'going': 1829, 'very': 4458, 'slow': 3811, 'build': 595, 'initially': 2127, 'tourism': 4257, 'chief': 748, 'police': 3088, 'seize': 3682, 'kill': 2270, 'young': 4666, 'men': 2567, 'nigeria': 2745, 'then': 4176, 'pastors': 2963, 'lawyers': 2332, 'called': 631, 'human': 2033, 'rights': 3540, 'advocates': 141, 'squeeze': 3919, 'money': 2637, 'their': 4173, 'families': 1565, 'promising': 3215, 'help': 1951, 'find': 1637, 'them': 4174, 'why': 4584, 'shipping': 3742, 'free': 1727, 'united': 4380, 'taiwan': 4095, 'draw': 1292, 'closer': 795, 'propaganda': 3221, 'sending': 3692, 'message': 2572, 'china': 753, 'go': 1825, 'war': 4516, 'necessary': 2717, 'what': 4571, 'image': 2066, 'saying': 3626, 'identifying': 2054, 'child': 750, 'emotional': 1392, 'behavioral': 432, 'reactions': 3344, 'stress': 3988, 'crucial': 1031, 'especially': 1454, 'when': 4573, 'anxieties': 252, 'are': 284, 'high': 1964, 're': 3341, 'trying': 4331, 'warm': 4519, 'up': 4403, 'backyards': 367, 'winter': 4613, 'make': 2481, 'cozy': 1000, 'enough': 1422, 'actually': 108, 'use': 4423, 'nikic': 2748, '21': 37, 'became': 412, 'person': 3015, 'down': 1284, 'syndrome': 4086, 'conquer': 911, 'grueling': 1878, 'endurance': 1411, 'race': 3296, 'offering': 2819, 'lessons': 2367, 'perseverance': 3012, 'fox': 1716, 'news': 2739, 'decision': 1101, 'left': 2356, 'fuming': 1751, 'team': 4125, 'complaining': 873, 'began': 426, 'casting': 673, 'aspersions': 315, 'vote': 4491, 'terse': 4155, 'unsigned': 4392, 'orders': 2860, 'court': 991, 'deciding': 1099, 'election': 1368, 'disputes': 1238, 'its': 2207, 'shadow': 3720, 'docket': 1258, 'without': 4619, 'murmur': 2680, 'explanation': 1525, 'obstetricians': 2805, 'less': 2364, 'likely': 2385, 'than': 4165, 'male': 2486, 'colleagues': 822, 'perform': 3002, 'cesarean': 702, 'sections': 3668, 'studies': 4006, 'cherished': 744, 'mementos': 2561, 'acquired': 94, 'vacation': 4431, 'after': 152, 'lockdown': 2417, 'adults': 128, 'just': 2251, 'want': 4513, 'house': 2022, 'some': 3851, 'children': 752, 'issue': 2203, 'fraught': 1725, 'swedish': 4072, 'study': 4007, 'depression': 1152, 'or': 2854, 'mental': 2568, 'health': 1939, 'ills': 2064, 'slept': 3806, 'better': 456, 'using': 4427, 'popular': 3105, 'therapeutic': 4179, 'aids': 174, 'lesson': 2366, 'students': 4005, 'learn': 2346, 'about': 75, 'developments': 1184, 'toward': 4261, 'coronavirus': 965, 'vaccine': 4434, 'means': 2543, 'fight': 1619, 'buttery': 614, 'swordfish': 4081, 'pairs': 2926, 'eggplant': 1356, 'broiled': 577, 'simmered': 3780, 'until': 4397, 'collapses': 819, 'velvety': 4452, 'heap': 1941, 'sophisticated': 3862, 'weeknight': 4555, 'dinner': 1211, 'approaches': 274, 'still': 3960, 'need': 2719, 'vigilant': 4470, 'taking': 4100, 'precautions': 3141, 'parents': 2936, 'watch': 4532, 'unfair': 4373, 'treatment': 4301, 'tabulations': 4093, 'continue': 937, 'too': 4247, 'close': 793, 'call': 630, 'things': 4187, 'clearer': 785, 'outreach': 2886, 'university': 4384, 'law': 2326, 'woman': 4621, 'admitted': 126, 'her': 1956, 'seeing': 3674, 'walter': 4512, 'forbes': 1690, 'deadly': 1080, 'fire': 1643, 'complete': 874, 'fabrication': 1541, 'hoboken': 1987, 'jersey': 2222, 'nicknamed': 2744, 'sixth': 3792, 'boroughs': 524, 'residents': 3481, 'full': 1749, 'time': 4227, 'happened': 1910, '2020': 33, 'everyone': 1478, 'life': 2379, 'wardrobe': 4517, 'upside': 4413, 'challenges': 707, 'diagnosis': 1187, 'unclear': 4355, 'condition': 892, 'outgrown': 2882, 'simply': 3783, 'becomes': 417, 'managed': 2490, 'group': 1873, 'includes': 2097, 'lyft': 2463, 'doordash': 1278, 'spent': 3890, 'nearly': 2716, '200': 26, 'million': 2594, 'support': 4046, 'proposition': 3230, 'save': 3622, 'interim': 2165, 'finished': 1642, 'work': 4630, 'crossroads': 1027, 'department': 1145, 'handling': 1906, 'nation': 2707, 'most': 2654, 'controversial': 946, 'shootings': 3746, 'trust': 4327, 'nuclear': 2789, 'relied': 3424, 'community': 860, 'practical': 3134, 'vowed': 4498, 'reform': 3393, 'ride': 3534, 'subway': 4019, 'mayor': 2535, 'bill': 466, 'de': 1078, 'blasio': 486, 'stimulus': 3961, 'package': 2913, 'being': 436, 'negotiated': 2723, 'washington': 4529, '285': 45, 'billion': 468, 'renewed': 3446, 'paycheck': 2978, 'protection': 3237, 'program': 3203, 'voter': 4493, 'turnout': 4338, 'track': 4267, 'records': 3379, 'complicating': 879, 'counting': 982, 'process': 3191, 'mail': 2476, 'ballots': 377, 'may': 2533, 'counted': 979, 'week': 4553, 'researchers': 3475, 'ended': 1407, 'clinical': 790, 'trial': 4307, 'drug': 1303, 'because': 413, 'results': 3505, 'convincing': 951, 'effective': 1350, 'given': 1814, 'six': 3791, 'injections': 2129, 'instead': 2152, '365': 51, 'daily': 1056, 'pills': 3040, 'global': 1822, 'us': 4421, 'homebound': 1996, 'cousin': 992, 'emily': 1390, 'pittsburgh': 3046, 'existed': 1507, 'same': 3609, 'plane': 3052, 'paris': 2937, 'already': 201, 'facing': 1545, 'budget': 592, 'gap': 1773, 'next': 2742, 'recovery': 3385, 'efforts': 1354, 'hampered': 1902, 'evidence': 1482, 'much': 2674, 'content': 931, 'moving': 2670, 'online': 2839, 'bound': 531, 'duds': 1309, 'performances': 3004, 'movies': 2669, 'food': 1685, 'tech': 4128, 'boring': 522, 'awkward': 358, 'plain': 3050, 'bad': 368, 'teachers': 4124, 'show': 3757, 'middle': 2587, 'school': 3639, 'sentence': 3696, 'structure': 3997, 'models': 2626, 'they': 4184, 'pose': 3112, 'writing': 4653, 'challenge': 706, 'initial': 2126, 'tally': 4106, 'favored': 1586, 'several': 3714, 'senate': 3689, 'races': 3297, 'yet': 4660, 'soaring': 3832, 'inventory': 2182, 'discounted': 1220, 'rents': 3451, 'manhattan': 2496, 'pushed': 3274, 'median': 2549, 'lowest': 2452, 'price': 3175, 'decade': 1093, 'danger': 1066, 'battle': 399, 'endless': 1408, 'culture': 1039, 'last': 2318, 'bolivia': 510, 'suffered': 4030, 'partisan': 2948, 'clashes': 775, 'filled': 1627, 'streets': 3986, 'mistrust': 2620, 'government': 1844, 'grew': 1860, 'pulled': 3262, 'calm': 633, 'uncontested': 4358, 'teach': 4123, 'democracies': 1135, 'under': 4360, 'siege': 3770, 'latest': 2322, 'geffen': 1786, 'playhouse': 3063, 'cornered': 964, 'american': 214, 'market': 2512, 'long': 2424, 'running': 3591, 'agreeable': 167, 'theater': 4171, 'nomination': 2756, 'secretary': 3667, 'interior': 2166, 'historic': 1977, 'native': 2712, 'cabinet': 623, 'member': 2558, 'she': 3733, 'strike': 3991, 'delicate': 1125, 'balance': 372, 'even': 1472, 'elected': 1367, 'donald': 1272, 'building': 596, 'conspiracy': 922, 'theory': 4178, 'fraud': 1724, 'took': 4248, 'energy': 1415, 'political': 3092, 'fortunes': 1706, 'ebbed': 1329, 'during': 1314, 'does': 1264, 'really': 3353, 'excuse': 1497, 'him': 1972, 'role': 3565, 'administration': 122, 'family': 1566, 'separation': 3700, 'policy': 3090, 'joe': 2227, 'biden': 461, 'cal': 625, 'cunningham': 1041, 'led': 2351, 'republican': 3464, 'rivals': 3552, 'three': 4207, 'points': 3085, 'siena': 3771, 'survey': 4062, 'perhaps': 3005, 'notably': 2777, '64': 61, 'percent': 2997, 'respondents': 3491, 'voted': 4492, 'final': 1633, 'office': 2821, 'undermine': 4361, 'beijing': 435, 'showing': 3760, 'elect': 1366, 'follow': 1682, 'similar': 3778, 'pugnacity': 3259, 'hamilton': 1901, 'business': 608, 'owners': 2910, 'walking': 4510, 'tightrope': 4221, 'between': 458, 'keeping': 2261, 'people': 2994, 'safe': 3599, 'driving': 1302, 'away': 357, 'feels': 1601, 'like': 2384, 'all': 189, 'charlie': 725, 'brown': 586, 'kick': 2266, 'football': 1688, 'know': 2285, 'lucy': 2458, 'gonna': 1834, 'give': 1813, 'stephen': 3953, 'colbert': 813, 'joked': 2232, 'thursday': 4213, 'bodegas': 505, 'havens': 1924, 'crime': 1013, 'place': 3047, 'canceled': 643, 'debate': 1088, 'pair': 2923, 'network': 2733, 'prime': 3178, 'town': 4262, 'halls': 1899, 'starkly': 3934, 'contrasting': 939, 'telecasts': 4135, 'employees': 1395, 'executives': 1501, 'battling': 402, 'over': 2892, 'reduce': 3387, 'misinformation': 2612, 'hate': 1921, 'speech': 3886, 'hurting': 2044, 'company': 865, 'bottom': 528, 'line': 2392, 'across': 96, 'kinds': 2280, 'suburban': 4017, 'counties': 981, 'order': 2857, 'appeal': 263, 'prevent': 3171, 'tilt': 4224, 'regulators': 3405, 'seeking': 3675, 'break': 547, 'social': 3834, 'networking': 2734, 'giant': 1802, 'consider': 916, 'former': 1705, 'dirt': 1216, 'digging': 1202, 'hunter': 2041, '2019': 32, 'impeachment': 2079, 'associates': 322, 'far': 1573, 'exactly': 1486, 'planned': 3054, 'head': 1933, 'sunset': 4042, 'boulevard': 530, 'late': 2320, 'host': 2015, 'refusal': 3396, 'concede': 885, 'least': 2349, 'transgressions': 4285, 'finding': 1638, 'jeffrey': 2218, 'dahmer': 1055, 'illegally': 2062, 'parked': 2939, 'handicapped': 1905, 'spots': 3909, 'ledger': 2353, 'pretty': 3170, 'freezer': 1731, 'microcosm': 2585, 'financial': 1635, 'devastation': 1180, 'brought': 585, 'sports': 3906, 'those': 4196, 'rely': 3428, 'wil': 4590, 'hylton': 2045, 'hero': 1959, 'tried': 4311, 'number': 2790, 'apartments': 261, 'sold': 3843, '46': 56, 'compared': 866, 'period': 3006, 'induced': 2111, 'jobs': 2226, 'crisis': 1016, 'fallen': 1561, 'disproportionately': 1236, 'generation': 1790, 'covid': 997, '19': 12, 'effects': 1351, 'lasting': 2319, 'threat': 4202, 'posed': 3113, 'makes': 2483, 'randomized': 3319, 'controlled': 944, 'trials': 4308, 'extremely': 1535, 'difficult': 1200, 'real': 3349, 'experiments': 1520, 'important': 2087, 'alex': 185, 'eaton': 1328, 'salners': 3607, 'grid': 1861, 'faint': 1555, 'heart': 1944, 'tiny': 4232, 'holiday': 1991, 'season': 3661, 'making': 2485, 'small': 3814, 'meal': 2540, 'festive': 1611, 'whole': 4581, 'lot': 2439, 'easier': 1323, 'feast': 1593, 'extending': 1531, 'deadline': 1079, 'count': 978, 'every': 1477, 'complicated': 878, 'reversed': 3524, 'course': 989, 'critics': 1022, 'saw': 3623, 'motive': 2659, 'growing': 1876, 'body': 506, 'research': 3472, 'suggests': 4034, 'foods': 1686, 'eat': 1327, 'affect': 144, 'sleep': 3805, 'patterns': 2973, 'dietary': 1195, 'choices': 756, 'mink': 2605, 'animal': 235, 'known': 2286, 'catch': 679, 'transmit': 4287, 'shooting': 3745, 'aftermath': 153, 'guaranteed': 1880, 'ratchet': 3330, 'tensions': 4149, 'country': 985, 'edge': 1336, 'debates': 1089, 'improve': 2088, 'accountability': 88, 'looting': 2431, 'job': 2224, 'losses': 2437, 'loss': 2436, 'typically': 4348, 'gone': 1833, 'hand': 1903, 'americans': 215, 'staying': 3947, 'covered': 995, 'highly': 1969, 'anticipated': 249, 'wednesday': 4552, 'sponsored': 3901, 'zwift': 4680, 'cycling': 1054, 'app': 262, 'world': 4638, 'governing': 1843, 'test': 4156, 'controls': 945, 'cheating': 734, 'competitions': 870, 'traveled': 4294, 'capture': 655, 'dispatches': 1233, 'divided': 1255, 'sporting': 3905, 'event': 1474, 'springtime': 3915, 'iconography': 2049, 'masters': 2527, 'traditions': 4271, 'altered': 204, 'golf': 1832, 'major': 2479, 'moved': 2665, 'fall': 1560, 'trebek': 4303, 'stepped': 3954, 'answer': 243, 'board': 504, 'night': 2746, 'class': 776, 'session': 3709, 'ahead': 171, 'medical': 2550, 'cavalry': 688, 'coming': 847, 'rest': 3494, 'believe': 438, 'theories': 4177, 'rising': 3544, 'temperatures': 4140, 'melting': 2557, 'glaciers': 1816, 'changed': 715, 'aspects': 314, 'age': 158, 'old': 2830, 'peruvian': 3019, 'festival': 1610, 'qoyllur': 3280, 'rit': 3548, 'celebrations': 693, 'persist': 3014, 'titans': 4234, 'demolished': 1140, 'colts': 832, 'chiefs': 749, 'again': 155, 'broncos': 580, 'quarterback': 3281, 'crushed': 1033, 'defined': 1119, 'action': 99, 'field': 1617, 'differences': 1198, 'scrambled': 3647, 'places': 3049, 'brighter': 564, 'future': 1763, 'prospects': 3233, 'swung': 4083, 'battleground': 401, 'quite': 3295, 'methods': 2578, 'record': 3376, 'way': 4539, 'once': 2835, 'religious': 3427, 'bloc': 493, 'search': 3659, 'purchase': 3266, 'white': 4579, 'evangelicals': 1471, 'become': 416, 'past': 2959, 'tamaladas': 4108, 'tamaleras': 4109, 'press': 3165, 'tamales': 4110, 'along': 199, 'cultures': 1040, 'microeconomies': 2586, 'sustain': 4068, 'essential': 1458, 'recital': 3368, 'streamed': 3983, 'live': 2405, 'wales': 4508, 'singer': 3786, 'headlining': 1935, 'performance': 3003, 'met': 2574, '2012': 27, 'aim': 175, 'restoring': 3499, 'foreign': 1695, 'norms': 2769, 'spooked': 3903, 'defenders': 1112, 'asia': 310, 'praise': 3138, 'someone': 3852, 'willing': 4600, 'confront': 899, 'dictators': 1190, 'tournaments': 4260, 'battled': 400, 'airtime': 180, 'espn': 1456, 'headed': 1934, 'tennis': 4146, 'channel': 718, 'grow': 1875, 'lesser': 2365, 'presence': 3156, 'top': 4250, 'networks': 2735, 'potential': 3126, 'criminal': 1014, 'liability': 2375, 'understanding': 4365, 'presidency': 3161, 'leaves': 2350, 'present': 3157, 'dilemma': 1206, 'yorkers': 4663, 'bought': 529, 'homes': 1999, 'discovering': 1224, 'spend': 3887, 'while': 4578, 'care': 659, 'speaker': 3877, 'nancy': 2698, 'pelosi': 2986, 'senator': 3690, 'mitch': 2621, 'mcconnell': 2537, 'majority': 2480, 'leader': 2336, 'spoke': 3899, 'victory': 4466, 'breakthroughs': 550, 'added': 117, 'momentum': 2635, 'push': 3273, 'deal': 1081, 'kangaroos': 2256, 'wild': 4592, 'animals': 236, 'exhibit': 1504, 'interspecies': 2170, 'communication': 858, 'commonly': 856, 'evolved': 1484, 'alongside': 200, 'humans': 2035, 'miya': 2623, 'lee': 2354, '24': 39, 'joins': 2231, 'column': 833, 'creator': 1007, 'daniel': 1068, 'jones': 2234, 'produced': 3193, 'entirely': 1434, 'spotify': 3907, 'lists': 2403, 'nyt': 2795, 'cooking': 955, 'reporters': 3458, 'editors': 1341, 'shared': 3725, 'recipes': 3366, '2018': 31, 'ballot': 376, 'initiative': 2128, 'supposed': 4048, 'extend': 1530, 'franchise': 1720, 'felons': 1603, 'lack': 2298, 'information': 2125, 'threaten': 4203, 'these': 4183, 'polls': 3098, 'mackenzie': 2469, 'scott': 3646, 'donations': 1274, 'colleges': 828, 'serving': 3708, 'overlooked': 2894, 'surprise': 4057, 'potentially': 3127, 'transformational': 4282, 'celebrate': 691, 'rollout': 3567, 'vaccines': 4435, 'don': 1271, 'forget': 1699, 'standard': 3929, 'immunizations': 2076, 'steps': 3955, 'here': 1958, 'issues': 2204, 'national': 2708, 'correspondents': 967, 'watching': 4534, 'little': 2404, 'warner': 4524, 'bros': 583, 'embraced': 1386, 'digital': 1204, 'pay': 2977, 'mind': 2597, 'heads': 1937, 'dangerous': 1067, 'phase': 3025, 'management': 2491, 'private': 3186, 'sector': 3669, 'straining': 3975, 'meet': 2552, 'third': 4192, 'installment': 2151, 'read': 3345, 'writers': 4651, 'considers': 918, 'idiosyncratic': 2056, 'originality': 2868, 'author': 347, 'whose': 4583, 'influences': 2123, 'hawthorne': 1928, 'carver': 668, 'imagination': 2068, 'wholly': 4582, 'own': 2908, 'tenant': 4144, 'harbor': 1914, 'act': 97, 'intended': 2158, 'affected': 145, 'fancier': 1569, 'side': 3767, 'ends': 1410, 'ramping': 3315, 'travelers': 4295, 'wonder': 4624, 'expect': 1512, 'beyond': 459, 'feared': 1591, 'reopenings': 3453, 'might': 2589, 'spread': 3913, 'through': 4210, 'communities': 859, 'happening': 1911, 'post': 3121, 'watergate': 4537, 'laws': 2328, 'practices': 3136, 'revamping': 3520, 'charismatic': 723, 'pastor': 2962, 'helped': 1952, 'megachurch': 2554, 'athletes': 329, 'entertainers': 1431, 'temptations': 4142, 'resist': 3483, 'thanksgiving': 4167, 'gatherings': 1781, 'upended': 4408, 'christmas': 762, 'upon': 4410, 'having': 1925, 'round': 3577, 'conversations': 949, 'patients': 2969, 'sent': 3695, 'copies': 961, 'bills': 471, 'noticed': 2782, 'pattern': 2972, 'erik': 1446, 'agard': 157, 'collaborates': 815, 'wendy': 4564, 'brandes': 544, 'crossword': 1028, 'debut': 1091, 'foot': 1687, 'upstate': 4414, 'towns': 4264, 'feet': 1602, 'snowfall': 3829, 'featured': 1594, 'properties': 3224, 'five': 1652, 'bedroom': 420, 'bronxville': 581, 'rowayton': 3581, 'conn': 906, 'painter': 2921, 'ventures': 4456, 'contemporary': 930, 'traumas': 4291, 'lives': 2407, '427': 54, '300': 47, '10': 1, 'bringing': 568, 'force': 1691, 'video': 4467, 'evening': 1473, 'portrayed': 3110, 'unproven': 4390, 'antibody': 248, 'cocktail': 808, 'developed': 1181, 'maker': 2482, 'regeneron': 3398, 'miracle': 2608, 'cure': 1044, 'podcasts': 3078, 'television': 4136, 'investigator': 2185, 'creative': 1006, 'personal': 3016, 'case': 669, 'remains': 3431, 'unsolved': 4393, 've': 4449, 'living': 2408, 'inside': 2144, 'story': 3971, 'reality': 3352, 'tv': 4341, 'worldview': 4639, 'finally': 1634, 'cannot': 651, 'survive': 4064, 'environmental': 1438, 'clutch': 801, 'eggs': 1357, 'solved': 3849, 'century': 701, 'leaf': 2341, 'insect': 2143, 'mystery': 2694, 'regular': 3403, 'cycles': 1053, '26': 42, '31': 48, 'irregular': 2197, 'higher': 1965, 'risk': 3545, 'premature': 3150, 'death': 1086, 'gratitude': 1857, 'concert': 889, 'where': 4574, 'gunman': 1890, 'opened': 2845, 'outvote': 2889, 'elders': 1365, 'anywhere': 259, 'analysis': 223, 'data': 1071, 'younger': 4667, 'gave': 1782, 'approval': 275, 'wildfire': 4593, 'disaster': 1218, 'relief': 3425, 'hours': 2021, 'explained': 1523, 'receive': 3360, 'aid': 172, 'oakland': 2797, 'county': 987, 'mich': 2582, 'stronghold': 3996, '12': 4, 'ago': 164, 'solidly': 3846, 'example': 1491, 'evolution': 1483, 'suburbs': 4018, 'scientists': 3643, 'skeptical': 3794, 'mutation': 2689, 'contagious': 928, 'minds': 2598, 'flow': 1673, 'miriam': 2609, 'estrin': 1461, 'construction': 924, 'loudest': 2442, 'criticism': 1020, 'project': 3208, 'neither': 2728, 'productive': 3197, 'nor': 2764, 'scholarly': 3638, 'modest': 2630, 'success': 4022, 'romantic': 3569, 'crooner': 1024, 'played': 3061, 'reggae': 3399, 'wider': 4587, 'audience': 342, 'congressional': 904, 'groups': 1874, 'raising': 3312, 'possibility': 3118, 'economic': 1332, 'lame': 2303, 'duck': 1308, 'foliage': 1680, 'tiergarten': 4218, 'ökohaus': 4681, 'townhouse': 4263, 'complex': 876, 'model': 2625, 'freely': 1729, 'ever': 1476, 'urbanizing': 4418, 'listings': 2402, 'heights': 1948, 'island': 2200, 'turtle': 4339, 'warning': 4525, 'coal': 804, 'shortages': 3752, 'curb': 1042, 'usage': 4422, 'telling': 4138, 'electric': 1371, 'stoves': 3972, 'extinguishing': 1534, 'lights': 2383, 'facades': 1542, 'billboards': 467, 'democrats': 1138, 'angry': 233, 'see': 3673, 'disloyal': 1230, 'fashioned': 1578, 'politics': 3096, 'respond': 3490, 'anymore': 255, 'predecessor': 3145, 'came': 635, 'planning': 3056, 'postelection': 3124, 'apprentice': 271, 'underway': 4368, 'assess': 319, 'term': 4150, 'treat': 4298, 'symptoms': 4084, 'few': 1613, '100': 2, '000': 0, 'voting': 4496, 'cast': 672, 'november': 2787, 'increase': 2103, 'difference': 1197, 'runoffs': 3593, 'doctors': 1260, 'nurses': 2793, 'front': 1741, 'lines': 2393, 'empty': 1397, 'increasing': 2106, 'duress': 1313, 'surges': 4054, 'hospitals': 2014, 'overrun': 2899, 'sneak': 3823, 'preview': 3174, 'books': 518, '2021': 34, 'around': 296, 'updated': 4406, 'each': 1318, 'interview': 2171, 'science': 3641, 'reporter': 3457, 'mcneil': 2538, 'jr': 2245, 'says': 3627, 'viral': 4475, 'clip': 791, 'grotesque': 1866, 'breakfast': 548, 'dish': 1228, 'reveals': 3521, 'media': 2548, 'uses': 4426, 'cuisine': 1036, 'splinter': 3897, 'isolated': 2202, 'thanksgivings': 4168, 'opportunity': 2850, 'examine': 1489, 'pasts': 2965, 'english': 1418, 'language': 2311, 'choose': 757, 'word': 4628, 'best': 452, 'encapsulates': 1399, 'infections': 2118, 'rage': 3305, 'asked': 313, 'manage': 2489, 'risks': 3546, 'died': 1193, 'thousands': 4201, 'crowded': 1030, 'soccer': 3833, 'stadium': 3921, 'pakistan': 2927, 'recently': 3363, 'eased': 1322, 'border': 521, 'restrictions': 3503, 'warn': 4522, 'british': 573, 'variant': 4442, 'control': 943, 'measures': 2546, 'including': 2098, 'closing': 798, 'universities': 4383, 'tens': 4147, 'homeless': 1998, 'powerful': 3132, 'magnitude': 2475, 'earthquake': 1321, 'rocked': 3562, 'central': 699, 'croatia': 1023, 'killing': 2272, 'seven': 3713, 'injuring': 2131, 'dozens': 1285, 'prominent': 3211, 'publishers': 3256, 'ethnicity': 1465, 'contributing': 942, 'platforms': 3059, 'baricitinib': 382, 'arthritis': 301, 'eli': 1375, 'lilly': 2386, 'costs': 972, '500': 59, 'comes': 844, 'history': 1979, 'discovered': 1223, '600': 60, 'outcome': 2879, 'wake': 4506, 'defeat': 1111, 'survival': 4063, 'principled': 3180, 'must': 2688, 'offer': 2817, 'vision': 4480, 'williamsburg': 4598, 'morningside': 2650, 'forest': 1696, 'hills': 1971, 'explore': 1526, 'internet': 2168, 'loses': 2434, 'party': 2953, 'immense': 2072, 'damage': 1060, 'result': 3504, 'quickly': 3292, 'weeks': 4556, 'winner': 4610, 'signs': 3776, 'provide': 3245, 'chance': 711, 'behind': 433, 'scripted': 3652, 'sound': 3865, 'bites': 478, 'commercials': 851, 'substance': 4014, 'isn': 2201, 'uncertainty': 4354, 'colored': 831, 'my': 2690, 'decades': 1094, 'learned': 2347, 'metastatic': 2576, 'cancer': 645, 'nothing': 2781, 'taken': 4097, 'granted': 1855, 'amy': 221, 'coney': 895, 'barrett': 387, 'confirmation': 897, 'tilted': 4225, 'ideological': 2055, 'gets': 1799, 'decide': 1097, 'reports': 3460, 'trend': 4305, 'probably': 3189, 'great': 1858, 'educational': 1345, 'value': 4437, 'playing': 3064, 'games': 1771, 'spirits': 3896, 'raised': 3311, 'joseph': 2237, 'partakes': 2942, 'alcohol': 184, 'factors': 1547, 'misfire': 2611, 'play': 3060, 'trattoria': 4290, 'love': 2446, 'birds': 475, 'treated': 4299, 'international': 2167, 'bird': 474, 'rescue': 3471, 'severe': 3715, 'slashes': 3802, 'pouches': 3128, 'organization': 2862, 'believes': 440, 'intentionally': 2161, 'inflicted': 2120, 'socially': 3836, 'increased': 2104, 'blood': 498, 'pressure': 3167, 'report': 3455, 'tony': 4246, 'orbach': 2855, 'sunday': 4039, 'special': 3879, 'wins': 4612, 'lose': 2433, 'magazine': 2474, 'ethicist': 1464, 'columnist': 834, 'encourage': 1402, 'honesty': 2002, 'among': 217, 'exams': 1492, 'conducted': 894, 'wants': 4515, 'reinstate': 3410, 'east': 1325, 'home': 1995, 'flags': 1655, 'adventure': 131, 'ocean': 2809, 'township': 4265, 'drawing': 1293, 'relatively': 3418, 'affordable': 147, 'prices': 3176, 'voluminous': 4488, 'spending': 3889, 'blasted': 487, 'monday': 2636, 'provisions': 3250, 'strange': 3977, 'lawmakers': 2327, 'got': 1839, 'slowing': 3813, 'surging': 4055, 'quick': 3291, 'federal': 1597, 'scale': 3628, 'margin': 2507, 'predicted': 3146, 'doctor': 1259, 'surrounding': 4060, 'pregnancy': 3149, '17': 8, 'leapt': 2345, 'segregated': 3681, 'florida': 1670, 'swimming': 4078, 'pool': 3101, 'landed': 2306, 'page': 2915, 'told': 4243, 'didn': 1192, 'run': 3588, 'memorial': 2564, 'arch': 278, 'granite': 1853, 'monument': 2644, 'soldiers': 3844, 'sailors': 3604, 'plaza': 3067, 'desperately': 1167, 'needed': 2720, 'restoration': 3497, 'pubs': 3258, 'customers': 1047, 'open': 2844, 'air': 178, 'stadiums': 3922, 'incoherence': 2100, 'regulations': 3404, 'display': 1234, 'sohla': 3840, 'el': 1362, 'waylly': 4540, 'griddles': 1862, 'sandwich': 3614, 'filling': 1628, 'fries': 1737, 'croutons': 1029, 'simmers': 3781, 'dumplings': 1311, 'soup': 3866, 'built': 597, 'career': 660, 'portraying': 3111, 'giants': 1803, 'fictional': 1616, 'character': 722, 'transformed': 4283, 'kind': 2277, 'figure': 1621, 'politicians': 3095, 'activists': 103, 'figuring': 1623, 'gained': 1768, 'public': 3254, 'urge': 4419, 'avoid': 353, 'mixing': 2622, 'households': 2023, 'windows': 4606, 'brad': 539, 'wilber': 4591, 'doug': 1283, 'peterson': 3022, 'racket': 3301, 'saturday': 3621, 'hoping': 2010, 'flights': 1664, 'outdoor': 2880, 'lure': 2461, 'visitors': 4483, 'countries': 984, 'caribbean': 662, 'latin': 2323, 'helping': 1953, 'measure': 2545, 'protect': 3235, 'voice': 4484, 'working': 4633, 'together': 4240, 'bipartisan': 473, 'feuding': 1612, 'compromise': 883, 'template': 4141, 'diversity': 1252, 'inclusion': 2099, 'programs': 3204, 'elites': 1377, 'tokens': 4241, 'large': 2314, 'wage': 4501, 'benefit': 446, 'discover': 1222, 'benefits': 447, 'humor': 2037, 'add': 116, 'levity': 2373, 'letter': 2369, 'azar': 359, 'ii': 2059, 'detailed': 1173, '265': 43, 'relations': 3415, 'bolster': 511, 'cheerleading': 737, 'governed': 1842, 'participants': 2943, 'sign': 3773, 'lucrative': 2457, 'endorsement': 1409, 'deals': 1084, 'lead': 2335, 'punishment': 3265, 'soon': 3860, 'millionaires': 2595, 'gen': 1787, 'unapologetic': 4352, 'confrontational': 900, 'shift': 3739, 'tactics': 4094, 'movement': 2666, 'planners': 3055, 'developers': 1182, 'local': 2414, 'weigh': 4557, 'change': 714, 'housing': 2025, 'markets': 2515, 'delayed': 1123, 'golden': 1830, 'committee': 854, 'put': 3275, 'allen': 190, 'cooperstown': 960, 'fans': 1571, 'netflix': 2732, 'teenagers': 4132, 'actress': 107, 'beth': 453, 'behrs': 434, 'flocking': 1668, 'game': 1770, 'rock': 3561, 'chess': 745, 'miss': 2615, 'getting': 1800, 'onto': 2842, 'trains': 4278, 'clear': 783, 'boundaries': 532, 'commute': 861, 'knicks': 2284, 'consecutive': 912, 'losing': 2435, 'seasons': 3663, 'randle': 3318, 'strong': 3994, 'fueling': 1747, 'start': 3936, 'overwhelmed': 2904, 'betts': 457, 'consistent': 919, 'excellence': 1493, 'contract': 938, 'devastated': 1178, 'flickers': 1662, 'quentin': 3287, 'blakley': 484, 'firefighter': 1644, 'contact': 927, 'strangers': 3978, 'haven': 1923, 'guard': 1881, 'march': 2504, 'patti': 2974, 'varol': 4444, 'brings': 569, 'friday': 1734, 'puzzle': 3277, 'collaboration': 817, 'bashar': 392, 'al': 181, 'assad': 317, 'millions': 2596, 'citizens': 767, 'fled': 1658, 'blocked': 496, 'main': 2477, 'reason': 3354, 'himself': 1973, 'bulge': 598, 'evictions': 1481, 'looms': 2430, 'massachusetts': 2524, 'sheriff': 3737, 'searching': 3660, 'soften': 3839, 'blow': 500, 'barbarians': 381, 'depicts': 1149, 'teutoburg': 4160, 'rallying': 3314, 'cry': 1034, 'german': 1797, 'nationalists': 2709, 'nazis': 2713, 'defies': 1117, 'scientific': 3642, 'particulate': 2946, 'pollution': 3100, 'contributes': 941, 'deaths': 1087, 'annually': 240, 'importance': 2086, 'expertise': 1521, 'simple': 3782, 'decency': 1095, 'affairs': 143, 'overstated': 2902, 'reinvent': 3411, 'itself': 2208, 'art': 300, 'punctuation': 3264, 'huge': 2030, 'purpose': 3270, 'outbreaks': 2878, 'connected': 907, 'youth': 4671, 'ice': 2047, 'hockey': 1988, 'northeast': 2771, 'restrict': 3502, 'players': 3062, 'crestfallen': 1012, 'shows': 3761, 'officer': 2822, 'son': 3856, 'dispute': 1237, 'noisemaker': 2754, 'linked': 2395, 'killings': 2273, 'violence': 4474, 'allowed': 196, 'impunity': 2091, 'disclosure': 1219, 'acknowledgment': 93, 'specific': 3883, 'intrusion': 2177, 'vast': 4445, 'cyberattack': 1051, 'security': 3671, 'situation': 3790, 'fanciful': 1570, 'window': 4605, 'displays': 1235, 'grotto': 1868, 'macy': 2470, 'synonymous': 4087, 'cannon': 649, 'fadda': 1548, 'conflict': 898, 'reached': 3342, 'return': 3513, 'despite': 1168, 'seemingly': 3678, 'monologues': 2639, 'remained': 3430, 'hospitalized': 2013, 'advised': 135, 'humble': 2036, 'possibly': 3120, 'stand': 3928, 'dissuaded': 1240, 'advisers': 137, 'warned': 4523, 'escalate': 1450, 'broader': 575, 'shaming': 3723, 'flouting': 1672, 'safety': 3601, 'guidance': 1884, 'frustration': 1744, 'lots': 2440, 'loudness': 2443, 'weary': 4548, 'staffers': 3924, 'others': 2873, 'punch': 3263, 'shopping': 3748, 'gym': 1891, 'current': 1045, 'hugging': 2031, 'friends': 1736, 'outside': 2887, 'pod': 3076, 'agree': 166, 'hugs': 2032, 'deployed': 1150, 'extensive': 1533, 'resources': 3489, 'address': 119, 'spike': 3891, 'anxiety': 253, 'stigmas': 3959, 'remain': 3429, 'include': 2096, 'neck': 2718, 'fairfield': 1556, 'promised': 3213, 'dining': 1209, 'takeout': 4098, 'pull': 3261, 'restaurants': 3496, 'john': 2228, 'returns': 3516, 'proper': 3223, 'cryptic': 1035, 'trees': 4304, 'appear': 265, 'communicate': 857, 'cooperate': 958, 'subterranean': 4016, 'fungi': 1759, 'sharing': 3728, 'brands': 545, 'zealot': 4676, 'emancipator': 1383, 'looks': 2429, 'opponents': 2848, 'slavery': 3804, 'chose': 759, 'paths': 2968, 'abolition': 74, 'dealings': 1083, 'ukraine': 4349, 'exacerbated': 1485, 'prosecutors': 3232, 'fruit': 1743, 'activity': 105, 'tightly': 4220, 'organized': 2864, 'governor': 1846, 'gathering': 1780, 'superspreader': 4044, 'synagogue': 4085, 'representative': 3462, 'accused': 91, 'unwarranted': 4400, 'attacks': 334, 'represents': 3463, 'move': 2664, 'normalcy': 2766, 'progressives': 3207, 'justice': 2252, 'sued': 4029, 'google': 1838, 'antitrust': 251, 'wondered': 4625, 'response': 3492, 'bee': 421, 'gee': 1785, 'wide': 4585, 'ranging': 3322, 'catalog': 677, 'hits': 1983, 'album': 183, 'duets': 1310, 'spotlights': 3908, 'philadelphia': 3027, 'encouraging': 1404, 'events': 1475, 'reflect': 3390, 'unease': 4370, 'judiciary': 2247, 'kicked': 2267, 'hearings': 1943, 'judge': 2246, 'nominee': 2757, 'supreme': 4049, 'following': 1684, 'matters': 2530, 'continent': 935, 'museums': 2684, 'theaters': 4172, 'bookshops': 519, 'forced': 1692, 'observations': 2802, 'influential': 2124, 'designer': 1160, 'futurism': 1764, 'watchword': 4535, 'narrate': 2700, 'filmed': 1630, 'rendition': 3442, 'claudia': 781, 'rankine': 3323, 'heady': 1938, 'rethought': 3510, 'version': 4457, 'shut': 3764, 'combat': 837, 'rural': 3594, 'north': 2770, 'fissures': 1651, 'agreement': 169, 'direct': 1212, 'payments': 2980, 'jobless': 2225, 'funds': 1757, 'businesses': 609, 'distribution': 1247, 'conservative': 914, 'divvy': 1256, 'assistance': 321, 'thwarted': 4214, 'negotiators': 2725, 'such': 4025, 'funding': 1756, 'artist': 305, 'blurred': 503, 'slogans': 3809, 'poetry': 3082, 'advertising': 133, 'establishing': 1459, 'herself': 1961, 'serious': 3703, 'architect': 279, 'protest': 3240, 'provocation': 3251, 'olympic': 2832, 'connection': 908, 'toll': 4244, 'western': 4569, 'colorado': 830, 'right': 3539, 'ourselves': 2875, 'staff': 3923, 'delighted': 1126, 'hear': 1942, 'reserve': 3476, 'meant': 2544, '454': 55, 'drastically': 1291, 'expand': 1511, 'lent': 2363, '20': 25, 'enrollment': 1425, 'anyone': 256, 'needs': 2721, 'pick': 3031, 'define': 1118, 'thin': 4185, 'blue': 502, 'flag': 1654, 'shirt': 3743, 'delta': 1129, 'flight': 1663, '462': 57, 'passenger': 2957, 'cabin': 622, 'door': 1277, 'taxiing': 4121, 'companions': 864, 'slid': 3808, 'secret': 3666, 'ditch': 1249, 'narrative': 2701, 'gatekeepers': 1777, 'midst': 2588, 'devastating': 1179, 'clash': 774, 'competing': 868, 'visions': 4481, 'uniter': 4381, 'motivator': 2658, 'marijuana': 2509, 'resisted': 3484, 'oregon': 2861, 'further': 1762, 'proposal': 3227, 'decriminalize': 1108, 'drugs': 1306, 'heroin': 1960, 'cocaine': 807, 'methamphetamine': 2577, 'venezuela': 4454, 'oil': 2829, 'reserves': 3477, 'largest': 2317, 'grinding': 1865, 'halt': 1900, 'recover': 3382, 'bristled': 570, 'restraints': 3501, 'illness': 2063, 'medadvantage': 2547, 'plans': 3057, 'insurer': 2157, 'packages': 2914, 'tamiflu': 4111, 'tests': 4159, 'considered': 917, 'vulnerable': 4500, 'flu': 1675, 'cinched': 764, '900': 68, 'laying': 2334, 'swords': 4082, 'empowered': 1396, 'moderates': 2628, 'bridge': 559, 'divide': 1254, 'jil': 2223, 'sander': 3613, 'uniqlo': 4379, 'opinions': 2847, 'runners': 3590, 'pursuit': 3272, 'surveillance': 4061, 'service': 3706, 'jeff': 2216, 'bezos': 460, 'intent': 2160, 'recording': 3377, 'moods': 2646, 'amazon': 209, 'blake': 483, 'leeper': 2355, 'prostheses': 3234, 'level': 2371, 'athletics': 330, 'successfully': 4024, 'argued': 289, 'advantage': 130, 'artificially': 304, 'taller': 4105, 'posing': 3114, 'question': 3288, 'gives': 1815, 'willies': 4599, 'suddenly': 4028, 'pretending': 3169, 'debt': 1090, 'spill': 3892, 'nails': 2695, 'looked': 2428, 'bruised': 588, 'color': 829, 'oxygen': 2912, 'levels': 2372, 'areas': 286, 'reimpose': 3409, 'landmark': 2307, 'figures': 1622, 'illuminate': 2065, 'depth': 1153, 'recession': 3364, 'bleak': 488, 'listeners': 2400, 'brightness': 565, 'trodden': 4315, 'destinations': 1169, 'yourself': 4670, 'context': 934, 'student': 4004, 'larger': 2316, 'addressing': 120, 'racism': 3300, 'taught': 4118, 'decriminalization': 1107, 'involves': 2192, 'trade': 4269, 'offs': 2826, 'treating': 4300, 'addiction': 118, 'disease': 1226, 'yields': 4661, 'gain': 1767, 'approved': 276, 'batch': 395, 'arrive': 297, 'dec': 1092, '15': 6, 'contain': 929, 'doses': 1279, '170': 9, 'cusp': 1046, 'route': 3578, 'proved': 3243, 'arduous': 283, 'hoped': 2008, 'sweep': 4073, 'shore': 3750, 'lakeland': 2301, 'fla': 1653, 'held': 1949, 'lottery': 2441, 'sell': 3686, '86': 65, 'swans': 4071, 'thrived': 4209, 'queen': 3283, 'elizabeth': 1378, 'donated': 1273, '1957': 17, 'restrained': 3500, 'appearance': 266, 'depicted': 1148, 'ineffectual': 2114, 'insider': 2145, 'heartlessness': 1945, 'separating': 3699, 'migrant': 2590, 'inflaming': 2119, 'racial': 3298, 'skyscraper': 3800, 'disappointment': 1217, 'defaulted': 1110, 'loans': 2412, 'bank': 378, 'forgiven': 1700, 'largely': 2315, 'avoided': 354, 'paying': 2979, 'taxes': 4120, 'picture': 3033, 'book': 516, 'talk': 4102, 'river': 3553, 'poet': 3080, 'jordan': 2236, 'recalls': 3359, 'childhood': 751, 'struggle': 3998, 'stuttering': 4009, 'flurry': 1677, 'executive': 1500, 'actions': 100, 'climate': 788, 'villain': 4473, 'roles': 3566, 'announced': 239, '2014': 29, 'gay': 1783, 'loyal': 2454, 'diggs': 1203, 'powered': 3131, 'buffalo': 594, 'offense': 2816, 'justin': 2253, 'jefferson': 2217, 'selected': 3684, 'minnesota': 2607, 'single': 3788, 'smallpox': 3816, 'arrived': 298, '1947': 14, 'outbreak': 2877, 'decisive': 1103, 'civil': 769, 'servant': 3705, 'bold': 509, 'opposed': 2851, 'extensions': 1532, 'joined': 2230, 'tuesday': 4333, 'participate': 2944, 'either': 1361, 'fully': 1750, 'briefs': 561, 'dictate': 1189, 'ambitious': 212, 'priorities': 3183, 'fail': 1550, 'fast': 1579, 'correcting': 966, 'succeeding': 4021, 'george': 1794, 'bush': 606, 'handful': 1904, 'congratulated': 902, 'stayed': 3946, 'quiet': 3293, 'urged': 4420, 'shares': 3727, 'etsy': 1466, 'marketplace': 2514, '250': 41, 'fueled': 1746, 'skyrocketing': 3799, 'mask': 2521, 'sales': 3606, 'yearslong': 4658, 'investors': 2187, '25': 40, 'view': 4469, 'shed': 3734, 'mines': 2599, 'african': 151, 'publishing': 3257, 'authors': 348, 'workers': 4632, 'hasn': 1920, 'abated': 72, 'companies': 862, 'increasingly': 2107, 'changes': 716, 'followed': 1683, 'texas': 4161, 'aggressively': 163, 'advertised': 132, 'lower': 2451, 'fewer': 1614, 'menu': 2569, 'tasty': 4117, 'snacks': 3821, 'perfect': 2999, 'blowout': 501, 'nibbling': 2743, 'couch': 974, 'enrique': 1424, 'henestroza': 1955, 'anguiano': 234, 'unleashed': 4386, 'inner': 2135, 'scrooge': 3653, 'admissions': 124, 'significantly': 3775, 'articles': 303, 'sprang': 3911, 'examining': 1490, 'impact': 2077, 'ideas': 2052, 'diversion': 1251, 'odell': 2813, 'beckham': 414, 'ran': 3316, 'cowboys': 999, 'burrow': 605, 'tom': 4245, 'brady': 541, 'clock': 792, 'flint': 1665, 'reflects': 3392, 'hometown': 2000, 'pro': 3188, 'martha': 2518, 'blank': 485, 'screen': 3649, 'melania': 2555, 'wives': 4620, 'presidents': 3164, 'dressed': 1296, 'armstrong': 295, 'williams': 4597, 'row': 3580, 'seat': 3664, '30': 46, 'conclusions': 890, 'industries': 2112, 'training': 4277, 'aiming': 177, 'skills': 3796, 'resilient': 3482, 'occupations': 2808, 'wanted': 4514, 'marry': 2517, 'vow': 4497, 'celibacy': 695, 'yotam': 4664, 'haber': 1892, 'estro': 1462, 'poetico': 3081, 'armonico': 293, 'iii': 2060, 'combines': 839, 'singing': 3787, 'archival': 282, 'recordings': 3378, 'cantors': 652, 'bumper': 599, 'crop': 1025, 'liberal': 2376, 'comedy': 843, 'almost': 198, 'impervious': 2083, 'satire': 3618, 'plays': 3065, 'title': 4235, 'daughter': 1073, 'tutar': 4340, 'talks': 4104, 'hair': 1895, 'nonbiological': 2759, 'father': 1582, 'sacha': 3597, 'baron': 384, 'cohen': 811, 'scene': 3635, 'rudy': 3585, 'giuliani': 1812, 'kenneth': 2263, 'tam': 4107, 'researched': 3473, 'asian': 311, 'fraternities': 1723, 'pledge': 3070, '2013': 28, 'create': 1003, 'crossing': 1026, 'chicago': 746, 'beauty': 411, 'supply': 4045, 'shop': 3747, 'dream': 1295, 'true': 4323, 'waiting': 4504, 'steele': 3950, 'dossier': 1280, 'source': 3867, 'notorious': 2783, 'accusations': 90, 'russian': 3596, 'agent': 161, 'slander': 3801, 'leading': 2339, 'seemed': 3677, 'elderly': 1364, 'volunteers': 4490, 'understand': 4364, 'afraid': 149, '95': 70, 'concerns': 888, 'arisen': 291, 'manipulating': 2497, 'positivity': 3116, 'rates': 3332, 'discouraging': 1221, 'sick': 3766, 'tested': 4157, 'revival': 3529, 'improves': 2089, 'beloved': 442, 'goofy': 1837, 'original': 2867, 'self': 3685, 'aware': 356, 'spin': 3894, 'modern': 2629, 'sensibility': 3694, 'attorneys': 340, 'pennsylvania': 2989, 'reject': 3413, 'lawsuit': 2329, 'overturn': 2903, 'victories': 4465, 'batters': 398, 'poor': 3102, 'rich': 3533, 'prop': 3220, 'budgets': 593, 'bar': 380, 'elmhurst': 1379, 'sought': 3864, 'bowls': 535, 'thai': 4164, 'noodles': 2763, 'weekend': 4554, 'relies': 3426, 'david': 1074, 'kwong': 2292, 'noted': 2779, 'cruciverbalist': 1032, 'offers': 2820, 'collection': 825, 'zoom': 4679, 'reforms': 3394, 'implementing': 2084, 'relax': 3419, 'entertain': 1430, 'done': 1275, 'piece': 3035, 'furniture': 1761, 'room': 3572, 'reading': 3347, 'august': 346, 'wilson': 4602, 'pulitzer': 3260, 'prize': 3187, 'winning': 4611, 'escalated': 1451, 'mostly': 2655, 'providence': 3247, 'charlotte': 726, 'estate': 1460, 'opportunities': 2849, 'buy': 616, 'strapped': 3979, 'convert': 950, 'collar': 820, 'hospitalizations': 2012, 'numbers': 2791, 'stronger': 3995, 'messaging': 2573, 'scare': 3631, 'aston': 325, 'martin': 2519, 'bentley': 449, 'utility': 4430, 'rover': 3579, 'name': 2697, 'riding': 3537, 'vaccinated': 4432, 'felt': 1604, 'afterward': 154, 'thoughts': 4199, 'grasped': 1856, 'wing': 4609, 'interference': 2164, 'passionate': 2958, 'champion': 709, 'palestinian': 2928, 'statehood': 3939, 'goal': 1826, 'attainable': 335, 'born': 523, 'protesters': 3241, 'breonna': 552, 'taylor': 4122, 'robust': 3560, 'spanned': 3875, 'generations': 1791, 'chef': 738, 'angie': 232, 'mar': 2503, 'institution': 2154, 'reconnecting': 3375, 'restaurant': 3495, '50': 58, 'inescapably': 2115, 'injuries': 2130, 'fatigue': 1583, 'concern': 886, 'mounting': 2663, 'amid': 216, 'unforgiving': 4375, 'schedule': 3636, 'europe': 1467, 'teams': 4127, 'worst': 4644, 'pre': 3139, 'noisy': 2755, 'weakling': 4545, 'budding': 591, 'autocrat': 349, 'sure': 4050, 'seasonal': 3662, 'dolly': 1269, 'parton': 2951, 'tinashe': 4231, 'introduce': 2175, 'fresh': 1733, 'songs': 3858, 'covering': 996, 'epic': 1439, '16': 7, 'journalists': 2242, 'write': 4649, 'experiences': 1518, 'linger': 2394, 'argentina': 288, 'spain': 3873, 'rapper': 3325, 'voices': 4485, 'italians': 2206, 'ante': 245, 'loy': 2453, 'attempt': 336, 'slaughterhouses': 3803, 'brother': 584, 'calling': 632, 'shots': 3755, 'architecture': 281, 'critic': 1018, 'michael': 2583, 'kimmelman': 2276, 'architects': 280, 'historians': 1976, 'doling': 1268, 'joumou': 2239, 'familial': 1564, 'ground': 1869, 'ads': 127, 'intense': 2159, 'surprising': 4058, 'system': 4090, 'defied': 1116, 'odds': 2812, 'reopen': 3452, 'classes': 777, 'eight': 1359, 'later': 2321, 'comedians': 842, 'sarah': 3617, 'cooper': 957, 'blaire': 482, 'erskine': 1449, 'wright': 4648, 'mirror': 2610, 'send': 3691, 'stakes': 3925, 'spectator': 3884, 'pollsters': 3099, 'reviewing': 3528, 'failures': 1554, 'problem': 3190, 'overly': 2895, 'expectations': 1513, 'precision': 3143, 'minister': 2604, 'narendra': 2699, 'modi': 2631, 'fleeing': 1659, 'offered': 2818, '36': 50, 'andre': 228, 'iguodala': 2058, 'elder': 1363, 'statesman': 3943, 'miami': 2581, 'heat': 1946, 'hitting': 1984, 'stride': 3990, 'cannons': 650, 'strategy': 3981, 'allow': 195, 'faddas': 1549, 'devour': 1186, 'themselves': 4175, 'weren': 4567, 'collateral': 821, 'shortening': 3753, 'spark': 3876, 'insomnia': 2146, 'guide': 1885, 'light': 2382, 'therapy': 4181, 'lamps': 2304, 'brighten': 563, 'mood': 2645, 'restore': 3498, 'imitation': 2070, 'sunlight': 4041, 'bohmeyer': 507, 'website': 4551, 'basic': 393, 'income': 2101, 'randomly': 3320, 'month': 2641, 'yes': 4659, 'timey': 4230, 'french': 1732, 'pelting': 2987, 'snowballs': 3828, 'perfectly': 3001, 'distills': 1243, 'mayhem': 2534, 'favorite': 1587, 'invaded': 2178, 'brains': 543, 'destroyed': 1171, 'luke': 2459, 'vaughn': 4447, 'artsy': 308, 'swamp': 4070, 'face': 1543, 'choice': 755, 'renewal': 3445, 'warped': 4526, 'fantasy': 1572, 'beginning': 428, 'wearing': 4547, 'preventive': 3173, 'loyalty': 2456, 'aides': 173, 'approach': 272, 'floyd': 1674, 'eric': 1445, 'garner': 1774, 'poem': 3079, 'speaks': 3878, 'decimated': 1100, 'nightlife': 2747, 'bars': 389, 'clubs': 800, 'managing': 2493, 'fun': 1752, 'alive': 188, 'anything': 257, 'substantive': 4015, 'overwhelming': 2905, 'passed': 2956, 'join': 2229, 'grievance': 1863, 'conservatives': 915, 'departing': 1144, 'attorney': 339, 'william': 4596, 'barr': 385, 'broke': 578, 'unsupported': 4395, 'claims': 773, 'widespread': 4588, 'appoint': 268, 'counsel': 977, 'investigate': 2184, 'directors': 1215, 'flexible': 1661, 'spaces': 3872, 'park': 2938, 'avenue': 351, 'armory': 294, 'lobbying': 2413, 'permission': 3010, 'indoor': 2110, 'distanced': 1241, 'audiences': 343, 'september': 3701, 'ranged': 3321, '359': 49, 'co': 802, 'op': 2843, '88': 66, 'epstein': 1442, 'lindsey': 2391, 'hobbs': 1986, 'abyss': 81, 'scream': 3648, 'snippets': 3826, 'soothed': 3861, 'radio': 3303, 'trusted': 4328, 'decided': 1098, 'journalism': 2240, 'writes': 4652, 'rough': 3576, 'draft': 1287, 'balancing': 374, 'infection': 2117, 'owe': 2906, 'partner': 2950, 'plot': 3072, 'kidnap': 2268, 'list': 2398, 'related': 3414, 'threats': 4206, 'emboldening': 1385, 'extremists': 1536, 'unfounded': 4376, 'though': 4197, 'organizations': 2863, 'declared': 1104, 'closely': 794, 'contested': 933, 'businessman': 610, 'transplanted': 4289, 'favor': 1585, 'hotels': 2019, 'resorts': 3488, 'earned': 1320, 'gatekeeper': 1776, 'wealthy': 4546, 'upgrade': 4409, 'rundown': 3589, 'tell': 4137, 'honest': 2001, 'stories': 3969, 'society': 3837, 'finely': 1640, 'calibrated': 626, 'award': 355, 'films': 1631, 'reassured': 3356, 'inoculated': 2140, 'outweigh': 2890, 'catering': 681, '27': 44, 'writer': 4650, 'ben': 443, 'brantley': 546, 'bids': 462, 'farewell': 1574, 'recommendation': 3372, 'reviewer': 3527, 'bonding': 515, 'repose': 3461, 'visited': 4482, 'cook': 953, 'gather': 1778, 'engage': 1416, 'backing': 363, 'eroding': 1447, 'weave': 4549, 'hot': 2017, 'toddy': 4239, 'mulled': 2675, 'wine': 4607, 'update': 4405, 'cooling': 956, 'cold': 814, 'affecting': 146, 'impeding': 2080, 'ability': 73, 'function': 1753, 'nasty': 2706, 'puritanism': 3268, 'matchup': 2528, 'tennessee': 4145, 'eyes': 1537, 'upset': 4412, 'arizona': 292, 'kyler': 2294, 'murray': 2682, 'leads': 2340, 'cardinals': 657, 'unbeaten': 4353, 'seahawks': 3657, 'agonizing': 165, 'motherhood': 2657, 'objective': 2800, 'revived': 3530, 'today': 4238, 'aside': 312, 'obsessed': 2804, 'barry': 388, 'barred': 386, 'owl': 2907, 'concerned': 887, 'scared': 3632, 'promises': 3214, 'newspaper': 2740, 'columnists': 835, 'cable': 624, 'greater': 1859, 'edinburgh': 1338, 'shutdown': 3765, 'scotland': 3645, 'june': 2249, 'roaring': 3558, 'agents': 162, 'iran': 2193, 'threatening': 4204, 'spoofed': 3902, 'emails': 1382, 'indication': 2109, 'any': 254, 'comfortably': 846, 'carried': 665, 'chaska': 731, 'minn': 2606, 'lost': 2438, 'nine': 2749, 'percentage': 2998, 'dramatic': 1290, 'similarly': 3779, 'limit': 2387, 'warming': 4520, 'focus': 1678, 'emissions': 1391, 'fossil': 1709, 'fuels': 1748, 'according': 86, 'dr': 1286, 'sean': 3658, 'conley': 905, 'misled': 2614, 'credibility': 1009, 'kyle': 2293, 'dolan': 1267, 'grows': 1877, 'volume': 4487, 'memoirs': 2563, 'brims': 566, 'warmth': 4521, 'introspection': 2176, 'loving': 2449, 'west': 4568, 'continental': 936, 'zero': 4678, 'couldn': 976, 'forever': 1698, 'kids': 2269, 'creep': 1011, 'peppy': 2995, 'campy': 639, 'streak': 3982, 'angel': 230, 'ties': 4219, 'classmates': 779, 'feel': 1600, 'innate': 2134, 'enduring': 1414, 'stem': 3952, 'courses': 990, 'reckoning': 3369, 'tense': 4148, 'hold': 1989, 'fed': 1596, 'try': 4330, 'paint': 2920, 'centrist': 700, 'soft': 3838, 'commercial': 850, 'reimagine': 3407, 'makeup': 2484, 'lip': 2396, 'cause': 684, 'celebration': 692, 'locations': 2416, 'calorie': 634, 'smelled': 3817, 'tasted': 4116, 'entry': 1436, 'naked': 2696, 'demonstration': 1141, 'sexual': 3717, '1999': 23, 'artists': 307, 'engaged': 1417, 'risky': 3547, 'elegant': 1373, 'klutzy': 2283, 'volatile': 4486, 'occasionally': 2807, 'unstable': 4394, 'customized': 1048, 'headpiece': 1936, 'monitor': 2638, 'grackle': 1848, 'blinked': 489, 'intentions': 2162, 'me': 2539, 'complicit': 880, 'folk': 1681, 'duo': 1312, 'gillian': 1809, 'welch': 4559, 'rawlings': 3339, 'optimism': 2853, 'mark': 2511, 'esper': 1455, 'strained': 3974, 'balked': 375, 'active': 101, 'duty': 1315, 'troops': 4318, 'quell': 3286, 'unrest': 4391, 'choosing': 758, 'defense': 1114, 'keeps': 2262, 'official': 2824, 'smooth': 3820, 'transfer': 4280, 'cognitively': 810, 'impaired': 2078, 'heed': 1947, 'guidelines': 1886, 'tumultuous': 4334, 'civilian': 770, 'leadership': 2338, 'bridgerton': 560, 'prestige': 3168, 'adapted': 115, 'mass': 2523, 'romance': 3568, 'foxconn': 1717, 'failure': 1553, 'deliver': 1127, 'underscores': 4363, 'limits': 2389, 'bend': 444, 'batter': 396, 'minimum': 2603, 'rule': 3586, 'managers': 2492, 'variables': 4441, 'decisions': 1102, 'intriguing': 2174, 'postal': 3122, 'struggling': 4001, 'ensure': 1428, 'timely': 4228, 'delivery': 1128, 'parts': 2952, 'venmo': 4455, 'paypal': 2981, 'services': 3707, 'cash': 671, 'tips': 4233, 'unwelcome': 4401, 'missed': 2616, 'emergency': 1388, 'renters': 3450, 'distributed': 1245, 'task': 4115, 'reset': 3478, 'believed': 439, 'empathetic': 1394, 'stance': 3927, 'stick': 3958, 'friend': 1735, 'limited': 2388, 'mingling': 2600, 'outgoing': 2881, 'uncomfortable': 4356, 'socializing': 3835, 'eighth': 1360, 'graders': 1849, 'attending': 337, 'stripped': 3993, 'caption': 654, 'moderated': 2627, 'conversation': 948, 'meeting': 2553, 'agency': 159, 'advisory': 139, 'require': 3468, 'volunteer': 4489, 'evaluated': 1469, 'remoras': 3439, 'hitching': 1982, 'rides': 3536, 'whales': 4570, 'sharks': 3730, 'swim': 4077, 'surprisingly': 4059, 'surfaces': 4051, 'formed': 1704, 'hosts': 2016, 'emilia': 1389, 'bassano': 394, 'lanier': 2312, 'interwoven': 2172, 'shakespeare': 3722, 'boisterous': 508, 'peek': 2983, 'chris': 760, 'jemele': 2219, 'hill': 1970, 'julia': 2248, 'louis': 2444, 'dreyfus': 1297, 'rudolph': 3584, 'twitter': 4343, 'dinkins': 1210, 'practice': 3135, 'delve': 1131, 'whatever': 4572, 'answers': 244, 'poking': 3086, 'expected': 1514, 'checks': 735, 'beer': 424, 'saxophone': 3624, 'repair': 3454, 'reader': 3346, 'tales': 4101, 'metropolitan': 2580, 'diary': 1188, 'gaming': 1772, 'accept': 83, '1970s': 21, 'academic': 82, 'activist': 102, 'icon': 2048, 'feminism': 1606, 'liberation': 2378, 'equality': 1443, 'wages': 4502, 'advocated': 140, 'entered': 1429, 'thought': 4198, 'weighed': 4558, 'guests': 1883, 'hour': 2020, 'specials': 3880, 'suspects': 4066, 'hacked': 1893, 'elections': 1369, 'france': 1718, 'electricity': 1372, 'olympics': 2833, 'pyeongchang': 3278, 'south': 3868, 'korea': 2288, 'youtube': 4672, 'channels': 719, 'bombard': 512, 'thinly': 4191, 'veiled': 4451, 'junk': 2250, 'finds': 1639, 'chaotic': 721, 'sedate': 3672, 'affair': 142, 'beach': 407, 'norwalk': 2773, 'wines': 4608, 'enjoyed': 1419, 'solely': 3845, 'obvious': 2806, 'pleasures': 3069, 'observe': 2803, 'vastly': 4446, 'enrich': 1423, 'experience': 1517, 'depends': 1147, 'frozen': 1742, 'pressing': 3166, 'cancel': 642, 'per': 2996, 'borrower': 525, 'pass': 2955, 'ten': 4143, 'thousand': 4200, 'maga': 2473, 'marches': 2505, 'orderly': 2859, 'deflected': 1120, 'something': 3853, 'kamala': 2254, 'harris': 1917, 'clearly': 786, 'worked': 4631, 'teens': 4133, 'cabaret': 621, 'convention': 947, 'proving': 3249, 'invested': 2183, 'songbook': 3857, 'satisfied': 3619, 'fear': 1590, 'specter': 3885, 'complacent': 872, 'departs': 1146, 'pile': 3036, 'ambitions': 211, 'rallies': 3313, 'hire': 1974, 'lay': 2333, 'groundwork': 1872, '2024': 35, 'implications': 2085, 'ancient': 226, 'gender': 1788, 'thwarts': 4215, 'trumpist': 4326, 'attack': 333, 'lengthy': 2362, 'canvass': 653, 'recounts': 3381, 'legal': 2357, 'delay': 1122, 'inspiring': 2149, 'badly': 369, 'flawed': 1656, 'denying': 1143, 'claiming': 772, 'machinery': 2467, 'reverse': 3523, 'honored': 2003, 'tools': 4249, 'solve': 3848, 'common': 855, 'consumer': 926, 'stalled': 3926, 'legislative': 2359, 'squabbles': 3918, 'gathered': 1779, 'cooperation': 959, 'competition': 869, 'economies': 1334, 'acted': 98, 'stunning': 4008, 'narratives': 2702, 'recount': 3380, 'logjam': 2420, 'kindle': 2279, 'victorian': 4464, 'london': 2422, 'handmade': 1907, 'paper': 2934, 'blooms': 499, 'sprouted': 3916, 'outraged': 2885, 'comments': 849, 'killed': 2271, '210': 38, 'rail': 3308, 'regional': 3401, 'systems': 4091, 'amtrak': 220, 'undertaking': 4367, 'thoroughly': 4195, 'disinfect': 1229, 'train': 4276, 'station': 3944, 'radiators': 3302, 'useful': 4424, 'fires': 1646, 'hundreds': 2038, 'stay': 3945, 'tiktok': 4222, 'users': 4425, 'creating': 1005, 'broadway': 576, 'style': 4011, 'adaptation': 113, 'animated': 237, 'disney': 1231, 'rat': 3328, 'culinary': 1037, 'aspirations': 316, 'mysterious': 2693, 'metal': 2575, 'pillar': 3039, 'desert': 1157, 'interesting': 2163, 'trip': 4313, 'normandy': 2768, 'attractive': 341, 'salad': 3605, 'pairing': 2925, 'inspired': 2148, 'tanis': 4113, 'comptroller': 884, 'billions': 470, 'investments': 2186, 'buyers': 617, 'neighborhood': 2726, 'expensive': 1516, 'register': 3402, 'britain': 571, 'refused': 3397, 'withdraw': 4618, 'legislation': 2358, 'admits': 125, 'overriding': 2898, 'northern': 2772, 'ireland': 2196, 'dark': 1070, 'actors': 106, 'ticket': 4216, 'takers': 4099, 'anatomy': 224, 'production': 3196, 'stew': 3957, 'pasta': 2960, 'bright': 562, 'vegetarian': 4450, 'loaf': 2411, 'trusty': 4329, 'legume': 2361, 'cutting': 1050, 'laid': 2300, 'nursing': 2794, 'comfortable': 845, 'racing': 3299, 'village': 4471, 'kinderhook': 2278, 'thrilled': 4208, 'gallery': 1769, 'municipal': 2678, 'demanding': 1134, 'byrne': 620, 'preparing': 3153, 'space': 3871, 'hitch': 1981, 'clinching': 789, 'torrential': 4252, 'rains': 3309, 'typhoons': 4346, 'ripped': 3542, 'turning': 4337, 'picturesque': 3034, 'sea': 3656, 'murky': 2679, 'setting': 3711, 'landslides': 2310, 'street': 3985, 'vendors': 4453, 'connections': 909, 'coinbase': 812, 'expensify': 1515, 'soylent': 3870, 'clubhouse': 799, 'embroiled': 1387, 'workplace': 4636, 'noteworthy': 2780, 'cultural': 1038, 'virtually': 4478, 'hands': 1908, 'paid': 2917, 'stores': 3968, 'filing': 1625, 'unemployment': 4371, 'renowned': 3448, 'alabama': 182, 'coach': 803, 'positive': 3115, 'notable': 2776, 'fiction': 1615, 'nonfiction': 2760, 'widely': 4586, 'variants': 4443, 'circulating': 766, 'moves': 2667, 'masculinity': 2520, 'stresses': 3989, 'toughness': 4256, 'weak': 4543, 'lived': 2406, 'throughout': 4211, 'chinese': 754, 'glut': 1823, 'leagues': 2343, 'chang': 713, 'mission': 2618, 'highlights': 1968, 'progress': 3205, 'rivalry': 3551, 'psychological': 3253, 'strain': 3973, 'skin': 3797, 'anonymized': 241, 'balances': 373, 'shrank': 3762, 'hopes': 2009, 'dimmed': 1208, 'spotting': 3910, 'famous': 1567, 'hospital': 2011, 'anti': 247, 'competitive': 871, 'pricing': 3177, 'members': 2559, 'faced': 1544, 'willingness': 4601, 'advance': 129, 'agenda': 160, 'ms': 2673, 'grandfather': 1852, 'soil': 3842, 'ranking': 3324, 'silent': 3777, 'sweetest': 4075, 'gig': 1805, 'unequal': 4372, 'translate': 4286, 'smaller': 3815, 'nest': 2730, 'road': 3556, 'advising': 138, 'rituals': 3549, 'cherish': 743, 'travel': 4293, 'exhibition': 1505, 'buying': 618, 'freaking': 1726, 'red': 3386, 'hook': 2005, 'gounder': 1841, 'manufacturers': 2500, 'ordered': 2858, 'produce': 3192, 'protective': 3239, 'gear': 1784, 'closeted': 797, 'queer': 3285, 'teenager': 4131, '1970': 20, 'elton': 1381, 'betsy': 455, 'devos': 1185, 'assault': 318, 'education': 1344, 'provided': 3246, 'melt': 2556, 'planet': 3053, 'undoing': 4369, 'gun': 1889, 'unusual': 4398, 'alliance': 193, 'suicide': 4035, 'prevention': 3172, 'proponents': 3226, 'chen': 741, 'doubles': 1281, 'constructor': 925, 'francesca': 1719, 'goldston': 1831, 'unless': 4387, 'stuck': 4003, 'sheet': 3735, 'pan': 2930, 'recipe': 3365, 'solution': 3847, 'worry': 4643, 'ticking': 4217, 'bombs': 513, 'redwoods': 3389, 'summer': 4038, 'allies': 194, 'trolls': 4317, 'false': 1563, 'legitimate': 2360, 'stop': 3965, 'frank': 1722, 'lloyd': 2410, 'rowhouse': 3582, 'beacon': 409, 'boston': 526, 'anne': 238, 'portland': 3108, 'groundscrapers': 1871, 'exalted': 1487, 'brethren': 554, 'entire': 1433, 'floor': 1669, 'desirable': 1162, 'changing': 717, 'mortality': 2653, 'trenton': 4306, 'charlson': 727, 'snowstorm': 3830, 'biggest': 464, 'recent': 3362, 'anyway': 258, 'longtime': 2426, 'georgetown': 1795, '78': 63, 'upbringing': 4404, 'remarkable': 3433, 'rental': 3449, 'blockbuster': 495, 'piled': 3037, 'cleared': 784, 'roads': 3557, 'governments': 1845, 'instituted': 2153, 'gotten': 1840, 'glimpse': 1820, 'reimagined': 3408, 'renewable': 3444, 'struggled': 3999, 'finish': 1641, 'projects': 3209, 'disrupts': 1239, 'chains': 703, 'burnout': 603, 'coping': 962, 'practitioners': 3137, 'profession': 3199, 'pays': 2982, 'inadequate': 2094, 'diets': 1196, 'types': 4345, 'encounter': 1400, 'unlike': 4388, 'drinks': 1300, 'doing': 1266, 'pop': 3104, 'gigs': 1807, 'wherever': 4575, 'perron': 3011, 'grand': 1851, 'union': 4377, 'improvisers': 2090, 'transform': 4281, 'unforgettable': 4374, 'coffee': 809, 'worried': 4641, 'freeze': 1730, 'dried': 1298, 'brew': 555, 'wasn': 4530, 'cut': 1049, 'astronaut': 326, 'pathbreaking': 2967, 'musician': 2687, 'unlikely': 4389, 'vague': 4436, 'assurances': 324, 'begin': 427, 'discussing': 1225, 'demanded': 1133, 'firefighters': 1645, 'non': 2758, 'bond': 514, 'acres': 95, 'audio': 344, 'rattlestick': 3336, 'playwrights': 3066, 'imagines': 2069, 'bustle': 611, 'pinstripe': 3043, 'rodeo': 3564, 'hazmat': 1930, 'suits': 4037, 'noise': 2753, 'damages': 1061, 'questions': 3290, 'airbnb': 179, 'partying': 2954, 'goes': 1828, 'drugmaker': 1304, 'shady': 3721, 'reputations': 3466, 'pharmaceutical': 3024, 'appeared': 267, 'nytimes': 2796, 'com': 836, 'inactive': 2093, 'sampling': 3611, 'exercises': 1503, 'preferred': 3148, 'gentler': 1792, 'workouts': 4635, 'riffed': 3538, '90': 67, 'margaret': 2506, 'keenan': 2259, '81': 64, 'recipients': 3367, 'pfizer': 3023, 'inoculation': 2141, 'mandated': 2495, 'sidelines': 3768, 'happens': 1912, 'rules': 3587, 'cover': 993, 'features': 1595, 'suggested': 4033, 'override': 2897, 'thomas': 4194, 'bach': 361, 'surged': 4053, 'retailers': 3506, 'curbside': 1043, 'pickup': 3032, 'helps': 1954, 'satisfy': 3620, 'desire': 1163, 'hop': 2006, 'car': 656, 'drive': 1301, 'store': 3967, 'dan': 1062, 'margolis': 2508, 'reminds': 3437, 'missing': 2617, 'remembering': 3435, 'innovators': 2139, 'thinkers': 4189, 'kanemura': 2255, 'ebullient': 1330, 'videos': 4468, 'showcase': 3758, 'appealing': 264, 'escapism': 1453, 'rather': 3333, 'slick': 3807, 'perfection': 3000, 'trans': 4279, 'atlantic': 331, 'suspended': 4067, 'closest': 796, 'onscreen': 2841, 'helena': 1950, 'zengel': 4677, 'giggly': 1806, 'chatty': 733, 'movie': 2668, 'territory': 4153, 'tough': 4255, '1929': 13, 'tudor': 4332, 'altadena': 203, 'penthouse': 2993, 'condominium': 893, 'san': 3612, 'diego': 1194, 'bavarian': 403, 'chalet': 705, 'truckee': 4321, 'increases': 2105, 'contest': 932, 'purple': 3269, 'determine': 1176, 'chamber': 708, 'convulsed': 952, 'kitten': 2282, 'although': 205, 'tilting': 4226, 'direction': 1213, 'listen': 2399, 'sam': 3608, 'ezersky': 1539, 'spring': 3914, 'caused': 685, 'havoc': 1926, 'neighborhoods': 2727, 'hardest': 1916, '1845': 10, 'farmhouse': 1575, 'mountainside': 2662, 'santa': 3616, 'fe': 1589, 'riverside': 3555, 'retreat': 3512, 'nashville': 2704, 'documentaries': 1261, 'mini': 2601, 'immediate': 2071, 'relevance': 3422, 'steelers': 3951, 'queasy': 3282, 'fighting': 1620, 'stomachs': 3964, 'worries': 4642, 'stocked': 3963, 'prescription': 3155, 'counter': 980, 'medications': 2551, 'scarce': 3630, 'robert': 3559, 'smith': 3818, 'acknowledged': 92, 'involvement': 2191, 'scheme': 3637, 'hide': 1962, 'evade': 1468, 'retains': 3508, 'hall': 1897, 'draining': 1288, 'traffic': 4272, 'bike': 465, 'share': 3724, 'odd': 2811, 'behavior': 431, 'undertake': 4366, 'urban': 4416, 'editing': 1339, 'humanity': 2034, 'kevin': 2264, 'davies': 1075, 'crispr': 1017, 'moment': 2634, 'researcher': 3474, 'nobel': 2751, 'chemistry': 739, 'halloween': 1898, 'metoo': 2579, 'nerve': 2729, 'politically': 3093, 'celebrity': 694, 'testing': 4158, 'sexually': 3719, 'remnants': 3438, '19th': 24, 'bushwick': 607, 'exist': 1506, 'ulmer': 4350, 'brewery': 556, 'castle': 674, 'residences': 3479, 'inventively': 2181, 'constructed': 923, 'paintings': 2922, 'portray': 3109, 'funny': 1760, 'multipronged': 2677, 'craftsman': 1001, 'newport': 2738, 'circa': 765, '1890': 11, 'guerneville': 1882, 'renovated': 3447, '1967': 19, 'marina': 2510, 'del': 1121, 'rey': 3531, 'recommendations': 3373, 'fringe': 1739, 'promoted': 3216, 'directly': 1214, 'sometimes': 3854, 'stealing': 3949, 'script': 3651, 'dak': 1057, 'prescott': 3154, 'ravens': 3337, 'bengals': 448, 'raiders': 3307, 'shocked': 3744, 'morrison': 2651, 'veteran': 4460, 'wars': 4527, 'fearsome': 1592, 'bounty': 533, 'mandalorian': 2494, 'amanda': 207, 'rafkin': 3304, 'ross': 3575, 'trudeau': 4322, 'nestle': 2731, 'oh': 2828, 'teenage': 4130, 'prompts': 3219, 'invitation': 2188, 'ongoing': 2838, 'spirit': 3895, 'innovation': 2137, 'storms': 3970, 'prepare': 3152, 'classrooms': 780, 'safely': 3600, 'ghoulish': 1801, 'trick': 4309, 'modified': 2632, 'preach': 3140, 'myself': 2692, 'super': 4043, 'bowl': 534, 'ring': 3541, 'wareham': 4518, 'enormous': 1421, 'blob': 492, 'fish': 1649, 'stranded': 3976, 'shark': 3729, 'sunfish': 4040, 'reporting': 3459, 'nationwide': 2711, 'glad': 1817, 'painfully': 2919, 'prolonged': 3210, 'agreed': 168, 'however': 2028, 'imperfect': 2082, 'advice': 134, 'pastime': 2961, 'recalled': 3358, 'lung': 2460, 'happen': 1909, 'mild': 2592, 'prompting': 3218, 'recommend': 3371, 'caution': 687, 'workout': 4634, 'fund': 1755, 'divest': 1253, 'contribute': 940, '2040': 36, 'pervasive': 3020, 'skepticism': 3795, 'partly': 2949, 'efficacy': 1352, 'images': 2067, 'shot': 3754, 'flung': 1676, 'accounts': 89, 'showcasing': 3759, 'castles': 675, 'hawaii': 1927, 'plant': 3058, 'species': 3882, 'jean': 2214, 'prouvé': 3242, 'prefab': 3147, 'houses': 2024, 'museum': 2683, 'singapore': 3785, 'morrisons': 2652, 'lewis': 2374, 'waitrose': 4505, 'glitter': 1821, 'products': 3198, 'environment': 1437, 'morning': 2649, 'plus': 3073, 'episode': 1440, 'reaches': 3343, 'lift': 2381, 'sudan': 4026, 'designation': 1159, 'sponsor': 3900, 'terrorism': 4154, 'enabling': 1398, 'access': 84, 'samples': 3610, 'recovered': 3383, 'suggest': 4032, 'immune': 2074, 'reported': 3456, 'episodes': 1441, 'perspective': 3018, 'entertaining': 1432, 'requires': 3469, 'fashion': 1577, 'lovers': 2448, 'reveling': 3522, 'shopportunity': 3749, 'seriously': 3704, 'arguing': 290, 'ones': 2837, 'economically': 1333, 'relevant': 3423, 'uprisings': 4411, 'belarus': 437, 'kyrgyzstan': 2295, 'caucasus': 683, 'region': 3400, 'undermining': 4362, 'influence': 2121, 'incorrect': 2102, 'succeeded': 4020, 'failed': 1551, 'panel': 2933, 'forum': 1707, 'amplifying': 219, 'dubious': 1307, 'questionable': 3289, 'treatments': 4302, 'reunited': 3519, 'tournament': 4259, 'mislead': 2613, 'mercy': 2571, 'mississippi': 2619, 'lawyer': 2331, 'defends': 1113, 'mother': 2656, 'abusive': 80, 'boyfriend': 538, 'diverge': 1250, 'compounding': 882, 'troubles': 4320, 'predated': 3144, 'rezone': 3532, 'soho': 3841, 'accommodate': 85, 'paved': 2976, 'beehive': 422, 'solvers': 3850, 'waking': 4507, 'hivemind': 1985, 'exists': 1509, 'troll': 4316, 'editor': 1340, 'distribute': 1244, '11': 3, 'arriving': 299, 'ratajkowski': 3329, 'photographer': 3028, 'jonathan': 2233, 'leder': 2352, 'photos': 3029, 'wishes': 4616, 'smoking': 3819, 'carries': 666, 'cardiovascular': 658, 'hazards': 1929, 'tobacco': 4237, 'derided': 1154, 'poster': 3125, 'waste': 4531, 'outpost': 2883, 'orbit': 2856, 'linchpin': 2390, 'split': 3898, 'britches': 572, 'peggy': 2985, 'shaw': 3732, 'lois': 2421, 'weaver': 4550, 'kilter': 2274, '40': 53, 'memory': 2566, 'stopped': 3966, 'standing': 3931, 'wrong': 4654, 'collecting': 824, 'belly': 441, 'buttons': 615, 'teeth': 4134, 'locks': 2418, 'coast': 806, 'maurice': 2531, 'bailey': 371, 'sugar': 4031, 'cane': 648, 'syrup': 4089, 'preserve': 3159, 'tradition': 4270, 'enslaved': 1426, 'ancestors': 225, 'priscilla': 3184, 'rattazzi': 3335, 'amazing': 208, 'endangered': 1406, 'hoodoo': 2004, 'sculptures': 3655, 'southern': 3869, 'utah': 4429, 'shareholders': 3726, 'responsible': 3493, 'financially': 1636, 'stable': 3920, 'fee': 1598, 'flexibility': 1660, 'meaning': 2542, 'nostalgia': 2774, 'journey': 2243, 'inspire': 2147, 'chats': 732, 'kitchen': 2281, 'lonely': 2423, 'traction': 4268, 'unions': 4378, 'near': 2715, 'availability': 350, 'logistics': 2419, 'murphy': 2681, 'administrator': 123, 'formally': 1703, 'recognize': 3370, 'cancellation': 644, 'rebooking': 3357, 'trips': 4314, 'mayors': 2536, 'governors': 1847, 'propelling': 3222, 'migrations': 2591, 'transforming': 4284, 'agriculture': 170, 'remaking': 3432, 'stands': 3932, 'russia': 3595, 'pastry': 2964, 'ravneet': 3338, 'gill': 1808, 'countless': 983, 'classic': 778, 'residential': 3480, 'retain': 3507, 'normal': 2765, 'remind': 3436, 'wrote': 4655, 'appointees': 269, 'sudden': 4027, 'amounts': 218, 'purge': 3267, 'pentagon': 2992, 'hierarchy': 1963, 'precedent': 3142, 'deluge': 1130, 'sex': 3716, 'abuse': 79, 'filings': 1626, 'bankruptcy': 379, 'surpasses': 4056, 'catholic': 682, 'church': 763, 'reasons': 3355, 'doubt': 1282, 'liberals': 2377, 'supporters': 4047, 'alike': 187, 'panama': 2931, 'boquete': 520, 'fending': 1607, 'slowdown': 3812, 'luring': 2462, 'dwellers': 1316, 'retirees': 3511, 'remote': 3440, 'pleasant': 3068, 'tries': 4312, 'sort': 3863, 'typical': 4347, 'erosion': 1448, 'conor': 910, 'lamb': 2302, 'survived': 4065, 'backlash': 364, 'progressive': 3206, 'tax': 4119, 'credible': 1010, 'aren': 287, 'moonstruck': 2647, 'sustained': 4069, 'talked': 4103, 'cher': 742, 'endures': 1413, 'kristen': 2290, 'welker': 4561, 'nbc': 2714, 'scenario': 3634, 'sight': 3772, 'hunker': 2040, 'holidays': 1992, 'combination': 838, 'invented': 2180, 'therapies': 4180, 'paralyzing': 2935, 'fatal': 1581, 'insufficient': 2155, 'wise': 4615, 'grinberg': 1864, 'companionable': 863, 'detached': 1172, 'staten': 3941, 'highest': 1966, 'rate': 3331, 'edmund': 1342, 'fawcett': 1588, 'conservatism': 913, 'sweeping': 4074, 'startling': 3937, 'slope': 3810, 'mott': 2661, 'multiple': 2676, 'inoculations': 2142, 'gabriel': 1766, 'sterling': 3956, 'harshly': 1918, 'criticized': 1021, 'failing': 1552, 'condemn': 891, 'overseeing': 2900, 'browns': 587, 'fierce': 1618, 'patriots': 2971, 'falcons': 1559, 'jaguars': 2209, 'dealt': 1085, 'scares': 3633, 'andy': 229, 'dalton': 1059, 'era': 1444, 'begins': 429, 'dallas': 1058, 'dealing': 1082, 'girl': 1810, 'campaigning': 637, 'deserve': 1158, 'treasure': 4296, 'fishing': 1650, 'artistically': 306, 'article': 302, 'secure': 3670, 'absentee': 77, 'walk': 4509, 'realities': 3351, 'rancor': 3317, 'perished': 3007, 'breaking': 549, '1987': 22, 'powerfully': 3133, 'resonant': 3486, 'prince': 3179, 'collaborators': 818, 'exclusive': 1496, 'songwriting': 3859, 'approached': 273, 'print': 3181, 'ready': 3348, 'usually': 4428, 'campuses': 638, 'reframes': 3395, 'origins': 2869, 'invasion': 2179, 'iraq': 2194, 'bureaucratic': 602, 'bungles': 601, 'spy': 3917, 'catastrophically': 678, '1960s': 18, 'tillett': 4223, 'textiles': 4163, 'teamed': 4126, 'designers': 1161, 'bedford': 419, 'stuyvesant': 4010, 'historically': 1978, 'significant': 3774, 'prints': 3182, 'reissued': 3412, 'shuffles': 3763, 'sharply': 3731, 'crippled': 1015, 'forces': 1693, 'proposals': 3228, 'chart': 729, 'forward': 1708, 'kant': 2257, 'prussian': 3252, 'novelist': 2786, 'development': 1183, 'cemetery': 696, 'walks': 4511, 'enjoying': 1420, 'distant': 1242, 'fright': 1738, 'fest': 1609, 'detective': 1174, 'myles': 2691, 'cosgrove': 969, 'terminated': 4151, 'joshua': 2238, 'jaynes': 2213, 'involved': 2190, 'raid': 3306, 'mac': 2465, 'flouted': 1671, 'tricky': 4310, 'abrupt': 76, 'upend': 4407, 'negotiations': 2724, 'removed': 3441, 'ambiguity': 210, 'bereavement': 450, 'pause': 2975, 'vibrant': 4462, 'innovations': 2138, 'faster': 1580, 'reunite': 3518, 'separated': 3698, 'immigration': 2073, 'pager': 2916, 'educate': 1343, 'listening': 2401, 'existing': 1508, 'water': 4536, 'suitable': 4036, 'wildfires': 4594, 'destroy': 1170, 'brianna': 557, 'birth': 476, 'baby': 360, 'boy': 537, 'exam': 1488, 'kudos': 2291, 'determination': 1175, 'graduates': 1850, 'flaws': 1657, 'realism': 3350, 'apartment': 260, 'promise': 3212, 'goods': 1836, 'recommended': 3374, 'allergy': 192, 'rare': 3326, 'allergies': 191, 'stings': 3962, 'funeral': 1758, 'guides': 1887, 'touch': 4254, 'terms': 4152, 'disgrace': 1227, 'streaming': 3984, 'plenty': 3071, 'cheer': 736, 'breslin': 553, 'patrick': 2970, 'foley': 1679, 'youtuber': 4673, 'influencer': 2122, 'meme': 2560, 'machine': 2466, 'total': 4253, 'chaos': 720, 'ensues': 1427, 'everything': 1479, 'orleans': 2870, 'adapt': 112, 'else': 1380, 'installed': 2150, 'demonstrations': 1142, 'broken': 579, 'normally': 2767, 'woods': 4627, 'separate': 3697, 'pnc': 3074, 'championship': 710, 'collective': 826, 'happiness': 1913, 'posted': 3123, 'grant': 1854, 'asylum': 327, 'grounds': 1870, 'backsliding': 365, 'poland': 3087, 'maori': 2502, 'center': 697, 'zealand': 4675, 'distributing': 1246, 'bags': 370, 'charity': 724, 'reducing': 3388, 'sad': 3598, 'alexithymia': 186, 'unable': 4351, 'emotions': 1393, 'consolidated': 921, 'composer': 881, 'educator': 1346, 'founder': 1713, 'label': 2296, 'sense': 3693, 'foreboding': 1694, 'battered': 397, 'interruptions': 2169, 'marred': 2516, 'organizers': 2865, 'turn': 4335, 'feed': 1599, 'rival': 3550, 'adjust': 121, 'persevere': 3013, 'idea': 2050, 'critically': 1019, 'ill': 2061, 'recoveries': 3384, 'requiring': 3470, 'physical': 3030, 'rehabilitation': 3406, 'ornithologist': 2871, 'james': 2210, 'audubon': 345, 'escape': 1452, 'pestilential': 3021, 'vapors': 4440, 'woodland': 4626, 'landscape': 2309, 'billionaire': 469, 'drugmakers': 1305, 'nonprofits': 2762, 'everywhere': 1480, 'poorest': 3103, 'nations': 2710, 'aaron': 71, 'posner': 3117, 'quincy': 3294, 'adams': 111, 'beneath': 445, 'mantle': 2498, 'acute': 109, 'apprehension': 270, 'burns': 604, 'molten': 2633, 'core': 963, 'profound': 3202, 'biography': 472, 'traces': 4266, 'wielded': 4589, 'pain': 2918, 'endured': 1412, 'sexuality': 3718, 'unwelcoming': 4402, 'fan': 1568, 'carol': 664, 'truly': 4324, 'decent': 1096, 'blackness': 480, 'fairness': 1558, 'coalition': 805, 'chicken': 747, 'egg': 1355, 'dilemmas': 1207, 'veterans': 4461, 'hunger': 2039, 'nasal': 2703, 'spray': 3912, 'blocks': 497, 'absorption': 78, 'completely': 875, 'protected': 3236, 'ferrets': 1608, 'released': 3421, 'peer': 2984, 'reviewed': 3526, 'assessed': 320, 'request': 3467, 'essence': 1457, 'unity': 4382, 'edible': 1337, 'virologist': 4476, 'ian': 2046, 'mackay': 2468, 'explains': 1524, 'journalist': 2241, 'never': 2736, 'encountered': 1401, 'politician': 3094, 'pilgrims': 3038, 'descend': 1155, 'iraqi': 2195, 'karbala': 2258, 'commemorate': 848, 'shiite': 3740, 'arbaeen': 277, 'inmates': 2133, 'freed': 1728, 'prison': 3185, 'flipped': 1666, 'costly': 971, 'runoff': 3592, 'mode': 2624, 'steady': 3948, 'lyndon': 2464, 'chase': 730, 'cowboy': 998, 'objects': 2801, 'personality': 3017, 'catalina': 676, 'ouyang': 2891, 'sculptural': 3654, 'grotesques': 1867, 'nassar': 2705, 'textile': 4162, 'works': 4637, '37': 52, 'rarely': 3327, 'paired': 2924, 'couple': 988, 'hollywood': 1993, 'permanent': 3008, 'brainer': 542, 'leukemia': 2370, 'dying': 1317, 'chemotherapy': 740, 'proprietors': 3231, 'described': 1156, 'glenn': 1819, 'ron': 3570, 'howard': 2027, 'hollywoodized': 1994, 'vance': 4439, 'seller': 3687, 'master': 2526, 'sommeliers': 3855, 'category': 680, 'clean': 782, 'wellness': 4563, 'rationalize': 3334, 'healthful': 1940, 'product': 3195, 'factor': 1546, 'credence': 1008, 'negative': 2722, 'cottage': 973, 'shelter': 3736, 'youngest': 4668, 'birthday': 477, 'parties': 2947, 'dates': 1072, 'effect': 1349, 'krebs': 2289, 'overseen': 2901, 'cybersecurity': 1052, 'declaring': 1105, 'desk': 1165, 'poets': 3083, 'laureate': 2325, 'words': 4629, 'blizzard': 491, 'lovely': 2447, 'garrett': 1775, 'bradley': 540, 'documentary': 1262, 'stubbornly': 4002, 'resists': 3485, 'easy': 1326, 'thinking': 4190, 'incarceration': 2095, 'execution': 1498, 'lisa': 2397, 'montgomery': 2640, 'injustice': 2132, '1948': 15, 'fairly': 1557, 'tokyo': 4242, 'hotel': 2018, 'bookings': 517, 'impenetrable': 2081, 'fascinating': 1576, 'baseless': 390, 'prompted': 3217, 'outrage': 2884, 'loyalists': 2455, 'origin': 2866, 'rocket': 3563, 'propose': 3229, 'experiment': 1519, 'league': 2342, 'embarking': 1384, 'bubble': 589, 'elevators': 1374, 'gift': 1804, 'firsthand': 1648, 'winding': 4604, 'rethink': 3509, 'complexities': 877, 'desires': 1164, 'latino': 2324, 'demographic': 1139, 'dancing': 1065, 'treasures': 4297, 'spilled': 3893, 'vaults': 4448, 'foster': 1710, 'identify': 2053, 'nonprofit': 2761, 'marketing': 2513, 'polio': 3091, '1950s': 16, 'ad': 110, 'blitz': 490, 'causing': 686, 'hurricanes': 2042, 'confident': 896, 'behave': 430, 'edwardian': 1348, 'francisco': 1721, 'spanish': 3874, 'beachside': 408, 'malibu': 2487, 'africa': 150, 'easily': 1324, 'transmitted': 4288, 'blackwater': 481, 'mercenaries': 2570, 'massacre': 2525, 'urbanites': 4417, 'flock': 1667, 'forests': 1697, 'rivers': 3554, 'trailheads': 4275, 'cramped': 1002, 'cars': 667, 'madison': 2472, 'disneyland': 1232, 'backward': 366, 'filtering': 1632, 'technology': 4129, 'popularized': 3106, 'snapchat': 3822, 'setup': 3712, 'pinellas': 3042, 'jeep': 2215, 'bethlehem': 454, 'bustling': 612, 'hub': 2029, 'tourists': 4258, 'dignitaries': 1205, 'fx': 1765, 'drama': 1289, 'wrapped': 4646, 'fourth': 1715, 'cbs': 689, 'selling': 3688, 'adaptations': 114, 'yvette': 4674, 'gentry': 1793, 'swift': 4076, 'scandals': 3629, 'adviser': 136, 'leaked': 2344, 'encouraged': 1403, 'herd': 1957, 'immunity': 2075, 'infected': 2116, 'officers': 2823, 'anthony': 246, 'girlfriend': 1811, 'producing': 3194, 'explosives': 1529, 'vestiges': 4459, 'oppression': 2852, 'bricked': 558, 'entrances': 1435, 'forgotten': 1702, 'sites': 3789, 'permeate': 3009, 'sneakerhead': 3824, 'sneakers': 3825, 'evangelical': 1470, 'christians': 761, 'values': 4438, 'defiance': 1115, 'pence': 2988, 'specialty': 3881, 'seem': 3676, 'console': 920, 'japanese': 2212, 'centerpiece': 698, 'moynihan': 2671, 'glass': 1818, 'skylights': 3798, '92': 69, 'ceilings': 690, 'riders': 3535, 'providing': 3248, 'portable': 3107, 'pensions': 2991, 'lifelong': 2380, 'nov': 2784, 'determined': 1177, 'antidote': 250, 'egomania': 1358, 'shied': 3738, 'putting': 3276, 'raise': 3310, 'royalty': 3583, 'lands': 2308, 'innocence': 2136, 'ideal': 2051, 'box': 536, 'cookies': 954, 'opinion': 2846, 'obama': 2798, 'pitched': 3044, 'sides': 3769, 'confronting': 901, 'wrenching': 4647, 'strategic': 3980, 'profits': 3201, 'beckon': 415, 'renew': 3443, 'independents': 2108, 'swinging': 4080, 'jeremy': 2220, 'newton': 2741, 'twisty': 4342, 'roose': 3574, 'watched': 4533, 'subculture': 4012, 'carefully': 661, 'calibrating': 627, 'coverage': 994, 'received': 3361, 'bumpy': 600, 'successful': 4023, 'deployments': 1151, 'eying': 1538, 'comeback': 841, 'aimed': 176, 'cleveland': 787, 'memoir': 2562, 'berg': 451, 'tells': 4139, 'decline': 1106, 'doomloop': 1276, 'eternal': 1463, '14': 5, 'publisher': 3255, 'louise': 2445, 'glück': 1824, 'premieres': 3151, 'unveiled': 4399, 'rooftop': 3571, 'dancers': 1064, 'collaborating': 816, 'table': 4092, 'hbo': 1931, 'max': 2532, 'thankful': 4166, 'nursery': 2792, 'homecoming': 1997, 'reunion': 3517, 'seized': 3683, 'military': 2593, 'bases': 391, 'afghan': 148, 'villagers': 4472, 'fought': 1711, 'collect': 823, 'compensation': 867, 'property': 3225, 'hurt': 2043, 'assumptions': 323, 'allows': 197, 'forgiveness': 1701, 'overpayments': 2896, 'fault': 1584, '700': 62, 'outstanding': 2888, 'exotic': 1510, 'locales': 2415, 'trouble': 4319, 'breakups': 551, 'guilt': 1888, 'release': 3420, 'statement': 3940, 'sandwiched': 3615, 'undecided': 4359, 'october': 2810, 'notebook': 2778, 'palm': 2929, 'objected': 2799, 'lago': 2299, 'resort': 3487, 'god': 1827, 'kimmel': 2275, 'drink': 1299, 'memories': 2565, 'invited': 2189, 'monty': 2643, 'python': 3279, 'barney': 383, 'buckley': 590, 'carl': 663, 'sagan': 3602, 'rooms': 3573, 'eclectic': 1331, 'broadcasting': 574, 'jerome': 2221, 'powell': 3129, 'chair': 704, 'overdo': 2893, 'avert': 352, 'tragic': 4273, 'fallout': 1562, 'chanel': 712, 'streetwear': 3987, 'owner': 2909, 'ownership': 2911, 'returned': 3514, 'topic': 4251, 'highlighted': 1967, 'throwback': 4212, 'charm': 728, 'half': 1896, 'eligible': 1376, 'exceptional': 1494, 'exceptionally': 1495}\n",
      "[5.38202663 6.58599944 6.58599944 ... 6.99146455 6.99146455 6.99146455]\n"
     ]
    }
   ],
   "source": [
    "vectorizer = TfidfVectorizer()\n",
    "vectorizer.fit(sample)\n",
    "print(vectorizer.vocabulary_)\n",
    "print(vectorizer.idf_)"
   ]
  },
  {
   "cell_type": "code",
   "execution_count": 161,
   "metadata": {},
   "outputs": [
    {
     "data": {
      "text/plain": [
       "array([5.38202663, 6.58599944, 6.58599944, ..., 6.99146455, 6.99146455,\n",
       "       6.99146455])"
      ]
     },
     "execution_count": 161,
     "metadata": {},
     "output_type": "execute_result"
    }
   ],
   "source": [
    "vectorizer.idf_"
   ]
  },
  {
   "cell_type": "code",
   "execution_count": 124,
   "metadata": {},
   "outputs": [
    {
     "data": {
      "text/plain": [
       "6.585999438999818"
      ]
     },
     "execution_count": 124,
     "metadata": {},
     "output_type": "execute_result"
    }
   ],
   "source": [
    "vectorizer.idf_[1]"
   ]
  },
  {
   "cell_type": "code",
   "execution_count": 125,
   "metadata": {},
   "outputs": [
    {
     "ename": "ValueError",
     "evalue": "not enough values to unpack (expected 2, got 1)",
     "output_type": "error",
     "traceback": [
      "\u001b[1;31m---------------------------------------------------------------------------\u001b[0m",
      "\u001b[1;31mValueError\u001b[0m                                Traceback (most recent call last)",
      "\u001b[1;32m~\\AppData\\Local\\Temp/ipykernel_10664/484424998.py\u001b[0m in \u001b[0;36m<module>\u001b[1;34m\u001b[0m\n\u001b[0;32m      1\u001b[0m \u001b[1;32mfrom\u001b[0m \u001b[0mgensim\u001b[0m\u001b[1;33m.\u001b[0m\u001b[0mmodels\u001b[0m\u001b[1;33m.\u001b[0m\u001b[0mtfidfmodel\u001b[0m \u001b[1;32mimport\u001b[0m \u001b[0mTfidfModel\u001b[0m\u001b[1;33m\u001b[0m\u001b[1;33m\u001b[0m\u001b[0m\n\u001b[1;32m----> 2\u001b[1;33m \u001b[0mtfidf\u001b[0m \u001b[1;33m=\u001b[0m \u001b[0mTfidfModel\u001b[0m\u001b[1;33m(\u001b[0m\u001b[0mdf_test_sample\u001b[0m\u001b[1;33m[\u001b[0m\u001b[1;34m'abstract'\u001b[0m\u001b[1;33m]\u001b[0m\u001b[1;33m.\u001b[0m\u001b[0miloc\u001b[0m\u001b[1;33m[\u001b[0m\u001b[1;36m0\u001b[0m\u001b[1;33m]\u001b[0m\u001b[1;33m)\u001b[0m\u001b[1;33m\u001b[0m\u001b[1;33m\u001b[0m\u001b[0m\n\u001b[0m\u001b[0;32m      3\u001b[0m \u001b[0mtfidf\u001b[0m\u001b[1;33m\u001b[0m\u001b[1;33m\u001b[0m\u001b[0m\n",
      "\u001b[1;32m~\\.conda\\envs\\NLP\\lib\\site-packages\\gensim\\models\\tfidfmodel.py\u001b[0m in \u001b[0;36m__init__\u001b[1;34m(self, corpus, id2word, dictionary, wlocal, wglobal, normalize, smartirs, pivot, slope)\u001b[0m\n\u001b[0;32m    390\u001b[0m                 \u001b[0mself\u001b[0m\u001b[1;33m.\u001b[0m\u001b[0mid2word\u001b[0m \u001b[1;33m=\u001b[0m \u001b[0mdictionary\u001b[0m\u001b[1;33m\u001b[0m\u001b[1;33m\u001b[0m\u001b[0m\n\u001b[0;32m    391\u001b[0m         \u001b[1;32melif\u001b[0m \u001b[0mcorpus\u001b[0m\u001b[1;33m:\u001b[0m\u001b[1;33m\u001b[0m\u001b[1;33m\u001b[0m\u001b[0m\n\u001b[1;32m--> 392\u001b[1;33m             \u001b[0mself\u001b[0m\u001b[1;33m.\u001b[0m\u001b[0minitialize\u001b[0m\u001b[1;33m(\u001b[0m\u001b[0mcorpus\u001b[0m\u001b[1;33m)\u001b[0m\u001b[1;33m\u001b[0m\u001b[1;33m\u001b[0m\u001b[0m\n\u001b[0m\u001b[0;32m    393\u001b[0m         \u001b[1;32melse\u001b[0m\u001b[1;33m:\u001b[0m\u001b[1;33m\u001b[0m\u001b[1;33m\u001b[0m\u001b[0m\n\u001b[0;32m    394\u001b[0m             \u001b[1;31m# NOTE: everything is left uninitialized; presumably the model will\u001b[0m\u001b[1;33m\u001b[0m\u001b[1;33m\u001b[0m\u001b[0m\n",
      "\u001b[1;32m~\\.conda\\envs\\NLP\\lib\\site-packages\\gensim\\models\\tfidfmodel.py\u001b[0m in \u001b[0;36minitialize\u001b[1;34m(self, corpus)\u001b[0m\n\u001b[0;32m    455\u001b[0m                 \u001b[0mlogger\u001b[0m\u001b[1;33m.\u001b[0m\u001b[0minfo\u001b[0m\u001b[1;33m(\u001b[0m\u001b[1;34m\"PROGRESS: processing document #%i\"\u001b[0m\u001b[1;33m,\u001b[0m \u001b[0mdocno\u001b[0m\u001b[1;33m)\u001b[0m\u001b[1;33m\u001b[0m\u001b[1;33m\u001b[0m\u001b[0m\n\u001b[0;32m    456\u001b[0m             \u001b[0mnumnnz\u001b[0m \u001b[1;33m+=\u001b[0m \u001b[0mlen\u001b[0m\u001b[1;33m(\u001b[0m\u001b[0mbow\u001b[0m\u001b[1;33m)\u001b[0m\u001b[1;33m\u001b[0m\u001b[1;33m\u001b[0m\u001b[0m\n\u001b[1;32m--> 457\u001b[1;33m             \u001b[1;32mfor\u001b[0m \u001b[0mtermid\u001b[0m\u001b[1;33m,\u001b[0m \u001b[0m_\u001b[0m \u001b[1;32min\u001b[0m \u001b[0mbow\u001b[0m\u001b[1;33m:\u001b[0m\u001b[1;33m\u001b[0m\u001b[1;33m\u001b[0m\u001b[0m\n\u001b[0m\u001b[0;32m    458\u001b[0m                 \u001b[0mdfs\u001b[0m\u001b[1;33m[\u001b[0m\u001b[0mtermid\u001b[0m\u001b[1;33m]\u001b[0m \u001b[1;33m=\u001b[0m \u001b[0mdfs\u001b[0m\u001b[1;33m.\u001b[0m\u001b[0mget\u001b[0m\u001b[1;33m(\u001b[0m\u001b[0mtermid\u001b[0m\u001b[1;33m,\u001b[0m \u001b[1;36m0\u001b[0m\u001b[1;33m)\u001b[0m \u001b[1;33m+\u001b[0m \u001b[1;36m1\u001b[0m\u001b[1;33m\u001b[0m\u001b[1;33m\u001b[0m\u001b[0m\n\u001b[0;32m    459\u001b[0m         \u001b[1;31m# keep some stats about the training corpus\u001b[0m\u001b[1;33m\u001b[0m\u001b[1;33m\u001b[0m\u001b[0m\n",
      "\u001b[1;31mValueError\u001b[0m: not enough values to unpack (expected 2, got 1)"
     ]
    }
   ],
   "source": [
    "from gensim.models.tfidfmodel import TfidfModel\n",
    "tfidf = TfidfModel(df_test_sample['abstract'].iloc[0])\n",
    "tfidf"
   ]
  },
  {
   "cell_type": "markdown",
   "metadata": {},
   "source": [
    "# LDA"
   ]
  },
  {
   "cell_type": "code",
   "execution_count": null,
   "metadata": {},
   "outputs": [],
   "source": []
  },
  {
   "cell_type": "code",
   "execution_count": 127,
   "metadata": {},
   "outputs": [
    {
     "ename": "TypeError",
     "evalue": "doc2bow expects an array of unicode tokens on input, not a single string",
     "output_type": "error",
     "traceback": [
      "\u001b[1;31m---------------------------------------------------------------------------\u001b[0m",
      "\u001b[1;31mTypeError\u001b[0m                                 Traceback (most recent call last)",
      "\u001b[1;32m~\\AppData\\Local\\Temp/ipykernel_10664/3252827257.py\u001b[0m in \u001b[0;36m<module>\u001b[1;34m\u001b[0m\n\u001b[0;32m      4\u001b[0m \u001b[1;32mfrom\u001b[0m \u001b[0mgensim\u001b[0m \u001b[1;32mimport\u001b[0m \u001b[0mcorpora\u001b[0m\u001b[1;33m\u001b[0m\u001b[1;33m\u001b[0m\u001b[0m\n\u001b[0;32m      5\u001b[0m \u001b[1;31m# Creating the term dictionary of our corpus, where every unique term is assigned an index.\u001b[0m\u001b[1;33m\u001b[0m\u001b[1;33m\u001b[0m\u001b[0m\n\u001b[1;32m----> 6\u001b[1;33m \u001b[0mdictionary\u001b[0m \u001b[1;33m=\u001b[0m \u001b[0mcorpora\u001b[0m\u001b[1;33m.\u001b[0m\u001b[0mDictionary\u001b[0m\u001b[1;33m(\u001b[0m\u001b[0mdf_test_sample\u001b[0m\u001b[1;33m[\u001b[0m\u001b[1;34m'abstract'\u001b[0m\u001b[1;33m]\u001b[0m\u001b[1;33m.\u001b[0m\u001b[0miloc\u001b[0m\u001b[1;33m[\u001b[0m\u001b[1;36m6\u001b[0m\u001b[1;33m]\u001b[0m\u001b[1;33m)\u001b[0m\u001b[1;33m\u001b[0m\u001b[1;33m\u001b[0m\u001b[0m\n\u001b[0m\u001b[0;32m      7\u001b[0m \u001b[1;31m# Converting a list of documents (corpus) into Document-Term Matrix using dictionary prepared above.\u001b[0m\u001b[1;33m\u001b[0m\u001b[1;33m\u001b[0m\u001b[0m\n\u001b[0;32m      8\u001b[0m \u001b[0mdoc_term_matrix\u001b[0m \u001b[1;33m=\u001b[0m \u001b[1;33m[\u001b[0m\u001b[0mdictionary\u001b[0m\u001b[1;33m.\u001b[0m\u001b[0mdoc2bow\u001b[0m\u001b[1;33m(\u001b[0m\u001b[0mdoc\u001b[0m\u001b[1;33m)\u001b[0m \u001b[1;32mfor\u001b[0m \u001b[0mdoc\u001b[0m \u001b[1;32min\u001b[0m \u001b[0mdoc_clean\u001b[0m\u001b[1;33m]\u001b[0m\u001b[1;33m\u001b[0m\u001b[1;33m\u001b[0m\u001b[0m\n",
      "\u001b[1;32m~\\.conda\\envs\\NLP\\lib\\site-packages\\gensim\\corpora\\dictionary.py\u001b[0m in \u001b[0;36m__init__\u001b[1;34m(self, documents, prune_at)\u001b[0m\n\u001b[0;32m     76\u001b[0m \u001b[1;33m\u001b[0m\u001b[0m\n\u001b[0;32m     77\u001b[0m         \u001b[1;32mif\u001b[0m \u001b[0mdocuments\u001b[0m \u001b[1;32mis\u001b[0m \u001b[1;32mnot\u001b[0m \u001b[1;32mNone\u001b[0m\u001b[1;33m:\u001b[0m\u001b[1;33m\u001b[0m\u001b[1;33m\u001b[0m\u001b[0m\n\u001b[1;32m---> 78\u001b[1;33m             \u001b[0mself\u001b[0m\u001b[1;33m.\u001b[0m\u001b[0madd_documents\u001b[0m\u001b[1;33m(\u001b[0m\u001b[0mdocuments\u001b[0m\u001b[1;33m,\u001b[0m \u001b[0mprune_at\u001b[0m\u001b[1;33m=\u001b[0m\u001b[0mprune_at\u001b[0m\u001b[1;33m)\u001b[0m\u001b[1;33m\u001b[0m\u001b[1;33m\u001b[0m\u001b[0m\n\u001b[0m\u001b[0;32m     79\u001b[0m             self.add_lifecycle_event(\n\u001b[0;32m     80\u001b[0m                 \u001b[1;34m\"created\"\u001b[0m\u001b[1;33m,\u001b[0m\u001b[1;33m\u001b[0m\u001b[1;33m\u001b[0m\u001b[0m\n",
      "\u001b[1;32m~\\.conda\\envs\\NLP\\lib\\site-packages\\gensim\\corpora\\dictionary.py\u001b[0m in \u001b[0;36madd_documents\u001b[1;34m(self, documents, prune_at)\u001b[0m\n\u001b[0;32m    200\u001b[0m \u001b[1;33m\u001b[0m\u001b[0m\n\u001b[0;32m    201\u001b[0m             \u001b[1;31m# update Dictionary with the document\u001b[0m\u001b[1;33m\u001b[0m\u001b[1;33m\u001b[0m\u001b[0m\n\u001b[1;32m--> 202\u001b[1;33m             \u001b[0mself\u001b[0m\u001b[1;33m.\u001b[0m\u001b[0mdoc2bow\u001b[0m\u001b[1;33m(\u001b[0m\u001b[0mdocument\u001b[0m\u001b[1;33m,\u001b[0m \u001b[0mallow_update\u001b[0m\u001b[1;33m=\u001b[0m\u001b[1;32mTrue\u001b[0m\u001b[1;33m)\u001b[0m  \u001b[1;31m# ignore the result, here we only care about updating token ids\u001b[0m\u001b[1;33m\u001b[0m\u001b[1;33m\u001b[0m\u001b[0m\n\u001b[0m\u001b[0;32m    203\u001b[0m \u001b[1;33m\u001b[0m\u001b[0m\n\u001b[0;32m    204\u001b[0m         \u001b[0mlogger\u001b[0m\u001b[1;33m.\u001b[0m\u001b[0minfo\u001b[0m\u001b[1;33m(\u001b[0m\u001b[1;34m\"built %s from %i documents (total %i corpus positions)\"\u001b[0m\u001b[1;33m,\u001b[0m \u001b[0mself\u001b[0m\u001b[1;33m,\u001b[0m \u001b[0mself\u001b[0m\u001b[1;33m.\u001b[0m\u001b[0mnum_docs\u001b[0m\u001b[1;33m,\u001b[0m \u001b[0mself\u001b[0m\u001b[1;33m.\u001b[0m\u001b[0mnum_pos\u001b[0m\u001b[1;33m)\u001b[0m\u001b[1;33m\u001b[0m\u001b[1;33m\u001b[0m\u001b[0m\n",
      "\u001b[1;32m~\\.conda\\envs\\NLP\\lib\\site-packages\\gensim\\corpora\\dictionary.py\u001b[0m in \u001b[0;36mdoc2bow\u001b[1;34m(self, document, allow_update, return_missing)\u001b[0m\n\u001b[0;32m    237\u001b[0m         \"\"\"\n\u001b[0;32m    238\u001b[0m         \u001b[1;32mif\u001b[0m \u001b[0misinstance\u001b[0m\u001b[1;33m(\u001b[0m\u001b[0mdocument\u001b[0m\u001b[1;33m,\u001b[0m \u001b[0mstr\u001b[0m\u001b[1;33m)\u001b[0m\u001b[1;33m:\u001b[0m\u001b[1;33m\u001b[0m\u001b[1;33m\u001b[0m\u001b[0m\n\u001b[1;32m--> 239\u001b[1;33m             \u001b[1;32mraise\u001b[0m \u001b[0mTypeError\u001b[0m\u001b[1;33m(\u001b[0m\u001b[1;34m\"doc2bow expects an array of unicode tokens on input, not a single string\"\u001b[0m\u001b[1;33m)\u001b[0m\u001b[1;33m\u001b[0m\u001b[1;33m\u001b[0m\u001b[0m\n\u001b[0m\u001b[0;32m    240\u001b[0m \u001b[1;33m\u001b[0m\u001b[0m\n\u001b[0;32m    241\u001b[0m         \u001b[1;31m# Construct (word, frequency) mapping.\u001b[0m\u001b[1;33m\u001b[0m\u001b[1;33m\u001b[0m\u001b[0m\n",
      "\u001b[1;31mTypeError\u001b[0m: doc2bow expects an array of unicode tokens on input, not a single string"
     ]
    }
   ],
   "source": [
    "# LDA\n",
    "# Importing gensim\n",
    "import gensim\n",
    "from gensim import corpora\n",
    "# Creating the term dictionary of our corpus, where every unique term is assigned an index.\n",
    "dictionary = corpora.Dictionary(df_test_sample['abstract'].iloc[6])\n",
    "# Converting a list of documents (corpus) into Document-Term Matrix using dictionary prepared above.\n",
    "doc_term_matrix = [dictionary.doc2bow(doc) for doc in doc_clean]\n",
    "doc_term_matrix"
   ]
  },
  {
   "cell_type": "code",
   "execution_count": null,
   "metadata": {},
   "outputs": [],
   "source": []
  }
 ],
 "metadata": {
  "interpreter": {
   "hash": "ecaab7e4f2054dc1b3b08bfc690ea1c3d11e0c83265adf695ac1706ca10c6a57"
  },
  "kernelspec": {
   "display_name": "Python 3.9.7 64-bit ('NLP': conda)",
   "language": "python",
   "name": "python3"
  },
  "language_info": {
   "codemirror_mode": {
    "name": "ipython",
    "version": 3
   },
   "file_extension": ".py",
   "mimetype": "text/x-python",
   "name": "python",
   "nbconvert_exporter": "python",
   "pygments_lexer": "ipython3",
   "version": "3.9.7"
  },
  "orig_nbformat": 4
 },
 "nbformat": 4,
 "nbformat_minor": 2
}
