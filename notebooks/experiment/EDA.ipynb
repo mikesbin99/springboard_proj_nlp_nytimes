{
 "cells": [
  {
   "cell_type": "markdown",
   "metadata": {},
   "source": [
    "# Visualization of Articles"
   ]
  },
  {
   "cell_type": "code",
   "execution_count": 13,
   "metadata": {},
   "outputs": [],
   "source": [
    "import pandas as pd\n",
    "import numpy as np\n",
    "\n",
    "import seaborn as sns\n",
    "import matplotlib.pyplot as plt\n",
    "import plotly as plty\n",
    "\n",
    "import missingno as msno\n",
    "\n",
    "from wordcloud import WordCloud\n",
    "from pandas_profiling import ProfileReport\n"
   ]
  },
  {
   "cell_type": "code",
   "execution_count": 17,
   "metadata": {},
   "outputs": [],
   "source": []
  },
  {
   "cell_type": "markdown",
   "metadata": {},
   "source": [
    "# Load Either Full Data or Sample"
   ]
  },
  {
   "cell_type": "code",
   "execution_count": 18,
   "metadata": {},
   "outputs": [
    {
     "ename": "FileNotFoundError",
     "evalue": "[Errno 2] No such file or directory: './/data//processed//df_test.pkl'",
     "output_type": "error",
     "traceback": [
      "\u001b[1;31m---------------------------------------------------------------------------\u001b[0m",
      "\u001b[1;31mFileNotFoundError\u001b[0m                         Traceback (most recent call last)",
      "\u001b[1;32m~\\AppData\\Local\\Temp/ipykernel_22040/3434329735.py\u001b[0m in \u001b[0;36m<module>\u001b[1;34m\u001b[0m\n\u001b[0;32m     10\u001b[0m     \u001b[1;31m# Load Real Data\u001b[0m\u001b[1;33m\u001b[0m\u001b[1;33m\u001b[0m\u001b[0m\n\u001b[0;32m     11\u001b[0m     \u001b[0mEDA_note\u001b[0m \u001b[1;33m=\u001b[0m \u001b[1;34m'_full'\u001b[0m\u001b[1;33m\u001b[0m\u001b[1;33m\u001b[0m\u001b[0m\n\u001b[1;32m---> 12\u001b[1;33m     \u001b[0mdf_test\u001b[0m \u001b[1;33m=\u001b[0m \u001b[0mpd\u001b[0m\u001b[1;33m.\u001b[0m\u001b[0mread_pickle\u001b[0m\u001b[1;33m(\u001b[0m\u001b[1;34m'.//data//processed//df_test.pkl'\u001b[0m\u001b[1;33m)\u001b[0m\u001b[1;33m\u001b[0m\u001b[1;33m\u001b[0m\u001b[0m\n\u001b[0m\u001b[0;32m     13\u001b[0m     \u001b[0mdf_train\u001b[0m \u001b[1;33m=\u001b[0m \u001b[0mpd\u001b[0m\u001b[1;33m.\u001b[0m\u001b[0mread_pickle\u001b[0m\u001b[1;33m(\u001b[0m\u001b[1;34m'.//data//processed//df_train.pkl'\u001b[0m\u001b[1;33m)\u001b[0m\u001b[1;33m\u001b[0m\u001b[1;33m\u001b[0m\u001b[0m\n\u001b[0;32m     14\u001b[0m     \u001b[0mdf_comments\u001b[0m \u001b[1;33m=\u001b[0m \u001b[0mpd\u001b[0m\u001b[1;33m.\u001b[0m\u001b[0mread_pickle\u001b[0m\u001b[1;33m(\u001b[0m\u001b[1;34m'.//data//processed//df_comments.pkl'\u001b[0m\u001b[1;33m)\u001b[0m\u001b[1;33m\u001b[0m\u001b[1;33m\u001b[0m\u001b[0m\n",
      "\u001b[1;32m~\\.conda\\envs\\NLP\\lib\\site-packages\\pandas\\io\\pickle.py\u001b[0m in \u001b[0;36mread_pickle\u001b[1;34m(filepath_or_buffer, compression, storage_options)\u001b[0m\n\u001b[0;32m    194\u001b[0m     \"\"\"\n\u001b[0;32m    195\u001b[0m     \u001b[0mexcs_to_catch\u001b[0m \u001b[1;33m=\u001b[0m \u001b[1;33m(\u001b[0m\u001b[0mAttributeError\u001b[0m\u001b[1;33m,\u001b[0m \u001b[0mImportError\u001b[0m\u001b[1;33m,\u001b[0m \u001b[0mModuleNotFoundError\u001b[0m\u001b[1;33m,\u001b[0m \u001b[0mTypeError\u001b[0m\u001b[1;33m)\u001b[0m\u001b[1;33m\u001b[0m\u001b[1;33m\u001b[0m\u001b[0m\n\u001b[1;32m--> 196\u001b[1;33m     with get_handle(\n\u001b[0m\u001b[0;32m    197\u001b[0m         \u001b[0mfilepath_or_buffer\u001b[0m\u001b[1;33m,\u001b[0m\u001b[1;33m\u001b[0m\u001b[1;33m\u001b[0m\u001b[0m\n\u001b[0;32m    198\u001b[0m         \u001b[1;34m\"rb\"\u001b[0m\u001b[1;33m,\u001b[0m\u001b[1;33m\u001b[0m\u001b[1;33m\u001b[0m\u001b[0m\n",
      "\u001b[1;32m~\\.conda\\envs\\NLP\\lib\\site-packages\\pandas\\io\\common.py\u001b[0m in \u001b[0;36mget_handle\u001b[1;34m(path_or_buf, mode, encoding, compression, memory_map, is_text, errors, storage_options)\u001b[0m\n\u001b[0;32m    709\u001b[0m         \u001b[1;32melse\u001b[0m\u001b[1;33m:\u001b[0m\u001b[1;33m\u001b[0m\u001b[1;33m\u001b[0m\u001b[0m\n\u001b[0;32m    710\u001b[0m             \u001b[1;31m# Binary mode\u001b[0m\u001b[1;33m\u001b[0m\u001b[1;33m\u001b[0m\u001b[0m\n\u001b[1;32m--> 711\u001b[1;33m             \u001b[0mhandle\u001b[0m \u001b[1;33m=\u001b[0m \u001b[0mopen\u001b[0m\u001b[1;33m(\u001b[0m\u001b[0mhandle\u001b[0m\u001b[1;33m,\u001b[0m \u001b[0mioargs\u001b[0m\u001b[1;33m.\u001b[0m\u001b[0mmode\u001b[0m\u001b[1;33m)\u001b[0m\u001b[1;33m\u001b[0m\u001b[1;33m\u001b[0m\u001b[0m\n\u001b[0m\u001b[0;32m    712\u001b[0m         \u001b[0mhandles\u001b[0m\u001b[1;33m.\u001b[0m\u001b[0mappend\u001b[0m\u001b[1;33m(\u001b[0m\u001b[0mhandle\u001b[0m\u001b[1;33m)\u001b[0m\u001b[1;33m\u001b[0m\u001b[1;33m\u001b[0m\u001b[0m\n\u001b[0;32m    713\u001b[0m \u001b[1;33m\u001b[0m\u001b[0m\n",
      "\u001b[1;31mFileNotFoundError\u001b[0m: [Errno 2] No such file or directory: './/data//processed//df_test.pkl'"
     ]
    }
   ],
   "source": [
    "if load_sample:\n",
    "    # Load Sample Data\n",
    "    EDA_note = '_sample'\n",
    "    df_test = pd.read_pickle('.//data//processed//df_test_sample.pkl')\n",
    "    df_train = pd.read_pickle('.//data//processed//df_train_sample.pkl')\n",
    "    df_comments = pd.read_pickle('.//data//processed//df_comments_sample.pkl')\n",
    "    df_articles = pd.read_pickle('.//data//processed//df_articles_verbose_sample.pkl')\n",
    "\n",
    "if not load_sample:\n",
    "    # Load Real Data\n",
    "    EDA_note = '_full'\n",
    "    df_test = pd.read_pickle('.//data//processed//df_test.pkl')\n",
    "    df_train = pd.read_pickle('.//data//processed//df_train.pkl')\n",
    "    df_comments = pd.read_pickle('.//data//processed//df_comments.pkl')\n",
    "    df_articles = pd.read_pickle('.//data//processed//df_articles_verbose.pkl')\n",
    "\n",
    "\n",
    "# Drop constant columns, userTitle is 99% empty\n",
    "df_comments.drop(columns=['status','trusted','recommendedFlag','isAnonymous','userTitle'],inplace=True)\n",
    "\n",
    "\n",
    "# Convert Timestamps where necessary\n",
    "df_articles['pub_date'] = pd.to_datetime(df_articles['pub_date'])\n",
    "df_comments['createDate'] = pd.to_datetime(df_comments['createDate'])\n",
    "df_comments['updateDate'] = pd.to_datetime(df_comments['updateDate'])\n",
    "df_comments['approveDate'] = pd.to_datetime(df_comments['approveDate'])\n"
   ]
  },
  {
   "cell_type": "markdown",
   "metadata": {},
   "source": [
    "# Generate Pandas Profiles for EDA"
   ]
  },
  {
   "cell_type": "code",
   "execution_count": 7,
   "metadata": {},
   "outputs": [
    {
     "name": "stderr",
     "output_type": "stream",
     "text": [
      "Summarize dataset: 100%|██████████| 30/30 [00:06<00:00,  4.73it/s, Completed]                     \n",
      "Generate report structure: 100%|██████████| 1/1 [00:05<00:00,  5.31s/it]\n",
      "Render HTML: 100%|██████████| 1/1 [00:00<00:00,  1.06it/s]\n",
      "Export report to file: 100%|██████████| 1/1 [00:00<00:00,  9.41it/s]\n",
      "Summarize dataset: 100%|██████████| 37/37 [00:04<00:00,  8.74it/s, Completed]                     \n",
      "Generate report structure: 100%|██████████| 1/1 [00:04<00:00,  4.78s/it]\n",
      "Render HTML: 100%|██████████| 1/1 [00:01<00:00,  1.24s/it]\n",
      "Export report to file: 100%|██████████| 1/1 [00:00<00:00, 21.82it/s]\n",
      "Summarize dataset: 100%|██████████| 51/51 [00:06<00:00,  7.62it/s, Completed]                            \n",
      "Generate report structure: 100%|██████████| 1/1 [00:05<00:00,  5.74s/it]\n",
      "Render HTML: 100%|██████████| 1/1 [00:02<00:00,  2.16s/it]\n",
      "Export report to file: 100%|██████████| 1/1 [00:00<00:00, 28.75it/s]\n"
     ]
    }
   ],
   "source": [
    "profile_test = ProfileReport(df_test, title=\"New York Times - Test Dataframe\")\n",
    "profile_train = ProfileReport(df_train, title=\"New York Times - Train Dataframe\")\n",
    "\n",
    "profile_articles = ProfileReport(df_articles, title=\"New York Times - Articles Dataframe\")\n",
    "\n",
    "profile_test.to_file('..//reports//figures//EDA_Test.html')\n",
    "profile_train.to_file('..//reports//figures//EDA_Train.html')\n",
    "profile_articles.to_file('..//reports//figures//EDA_Articles.html')\n"
   ]
  },
  {
   "cell_type": "code",
   "execution_count": 8,
   "metadata": {},
   "outputs": [
    {
     "name": "stderr",
     "output_type": "stream",
     "text": [
      "Summarize dataset: 100%|██████████| 25/25 [00:01<00:00, 13.02it/s, Completed]                              \n",
      "Generate report structure: 100%|██████████| 1/1 [00:05<00:00,  5.33s/it]\n",
      "Render HTML: 100%|██████████| 1/1 [00:00<00:00,  1.21it/s]\n",
      "Export report to file: 100%|██████████| 1/1 [00:00<00:00, 15.18it/s]\n"
     ]
    }
   ],
   "source": [
    "# This is LARGE and only a sample\n",
    "profile_comments = ProfileReport(df_comments, title=\"New York Times - Comments Dataframe\",minimal=True)\n",
    "profile_comments.to_file('..//reports//figures//EDA_Comments.html')"
   ]
  },
  {
   "cell_type": "code",
   "execution_count": 10,
   "metadata": {},
   "outputs": [
    {
     "data": {
      "text/html": [
       "<div>\n",
       "<style scoped>\n",
       "    .dataframe tbody tr th:only-of-type {\n",
       "        vertical-align: middle;\n",
       "    }\n",
       "\n",
       "    .dataframe tbody tr th {\n",
       "        vertical-align: top;\n",
       "    }\n",
       "\n",
       "    .dataframe thead th {\n",
       "        text-align: right;\n",
       "    }\n",
       "</style>\n",
       "<table border=\"1\" class=\"dataframe\">\n",
       "  <thead>\n",
       "    <tr style=\"text-align: right;\">\n",
       "      <th></th>\n",
       "      <th>3608</th>\n",
       "    </tr>\n",
       "  </thead>\n",
       "  <tbody>\n",
       "    <tr>\n",
       "      <th>newsdesk</th>\n",
       "      <td>Business</td>\n",
       "    </tr>\n",
       "    <tr>\n",
       "      <th>section</th>\n",
       "      <td>Business Day</td>\n",
       "    </tr>\n",
       "    <tr>\n",
       "      <th>subsection</th>\n",
       "      <td>Economy</td>\n",
       "    </tr>\n",
       "    <tr>\n",
       "      <th>material</th>\n",
       "      <td>News</td>\n",
       "    </tr>\n",
       "    <tr>\n",
       "      <th>headline</th>\n",
       "      <td>Layoffs Are Just Starting, and the Forecasts A...</td>\n",
       "    </tr>\n",
       "    <tr>\n",
       "      <th>abstract</th>\n",
       "      <td>Shutdowns in the U.S. retail and hospitality b...</td>\n",
       "    </tr>\n",
       "    <tr>\n",
       "      <th>keywords</th>\n",
       "      <td>['Coronavirus (2019-nCoV)', 'Layoffs and Job R...</td>\n",
       "    </tr>\n",
       "    <tr>\n",
       "      <th>word_count</th>\n",
       "      <td>1474</td>\n",
       "    </tr>\n",
       "    <tr>\n",
       "      <th>pub_date</th>\n",
       "      <td>2020-03-17 22:28:06+00:00</td>\n",
       "    </tr>\n",
       "    <tr>\n",
       "      <th>n_comments</th>\n",
       "      <td>441</td>\n",
       "    </tr>\n",
       "    <tr>\n",
       "      <th>uniqueID</th>\n",
       "      <td>nyt://article/6822033a-86b9-589c-b000-f12493cf...</td>\n",
       "    </tr>\n",
       "    <tr>\n",
       "      <th>uri</th>\n",
       "      <td>nyt://article/6822033a-86b9-589c-b000-f12493cf...</td>\n",
       "    </tr>\n",
       "    <tr>\n",
       "      <th>print_section</th>\n",
       "      <td>B</td>\n",
       "    </tr>\n",
       "    <tr>\n",
       "      <th>print_page</th>\n",
       "      <td>1</td>\n",
       "    </tr>\n",
       "    <tr>\n",
       "      <th>lead_paragraph</th>\n",
       "      <td>Angela Gervasi was enjoying a day off on Thurs...</td>\n",
       "    </tr>\n",
       "    <tr>\n",
       "      <th>headline.main</th>\n",
       "      <td>Layoffs Are Just Starting, and the Forecasts A...</td>\n",
       "    </tr>\n",
       "    <tr>\n",
       "      <th>byline.person</th>\n",
       "      <td>[{'firstname': 'Ben', 'middlename': None, 'las...</td>\n",
       "    </tr>\n",
       "    <tr>\n",
       "      <th>byline.organization</th>\n",
       "      <td>NaN</td>\n",
       "    </tr>\n",
       "    <tr>\n",
       "      <th>headline.sub</th>\n",
       "      <td>None</td>\n",
       "    </tr>\n",
       "  </tbody>\n",
       "</table>\n",
       "</div>"
      ],
      "text/plain": [
       "                                                                  3608\n",
       "newsdesk                                                      Business\n",
       "section                                                   Business Day\n",
       "subsection                                                     Economy\n",
       "material                                                          News\n",
       "headline             Layoffs Are Just Starting, and the Forecasts A...\n",
       "abstract             Shutdowns in the U.S. retail and hospitality b...\n",
       "keywords             ['Coronavirus (2019-nCoV)', 'Layoffs and Job R...\n",
       "word_count                                                        1474\n",
       "pub_date                                     2020-03-17 22:28:06+00:00\n",
       "n_comments                                                         441\n",
       "uniqueID             nyt://article/6822033a-86b9-589c-b000-f12493cf...\n",
       "uri                  nyt://article/6822033a-86b9-589c-b000-f12493cf...\n",
       "print_section                                                        B\n",
       "print_page                                                           1\n",
       "lead_paragraph       Angela Gervasi was enjoying a day off on Thurs...\n",
       "headline.main        Layoffs Are Just Starting, and the Forecasts A...\n",
       "byline.person        [{'firstname': 'Ben', 'middlename': None, 'las...\n",
       "byline.organization                                                NaN\n",
       "headline.sub                                                      None"
      ]
     },
     "execution_count": 10,
     "metadata": {},
     "output_type": "execute_result"
    }
   ],
   "source": [
    "df_articles.head(1).T"
   ]
  },
  {
   "cell_type": "code",
   "execution_count": 11,
   "metadata": {},
   "outputs": [
    {
     "name": "stdout",
     "output_type": "stream",
     "text": [
      "<class 'pandas.core.frame.DataFrame'>\n",
      "Int64Index: 839 entries, 3608 to 5454\n",
      "Data columns (total 19 columns):\n",
      " #   Column               Non-Null Count  Dtype              \n",
      "---  ------               --------------  -----              \n",
      " 0   newsdesk             839 non-null    object             \n",
      " 1   section              839 non-null    object             \n",
      " 2   subsection           310 non-null    object             \n",
      " 3   material             839 non-null    object             \n",
      " 4   headline             839 non-null    object             \n",
      " 5   abstract             838 non-null    object             \n",
      " 6   keywords             839 non-null    object             \n",
      " 7   word_count           839 non-null    int64              \n",
      " 8   pub_date             839 non-null    datetime64[ns, UTC]\n",
      " 9   n_comments           839 non-null    int64              \n",
      " 10  uniqueID             839 non-null    object             \n",
      " 11  uri                  839 non-null    object             \n",
      " 12  print_section        596 non-null    object             \n",
      " 13  print_page           596 non-null    object             \n",
      " 14  lead_paragraph       839 non-null    object             \n",
      " 15  headline.main        839 non-null    object             \n",
      " 16  byline.person        839 non-null    object             \n",
      " 17  byline.organization  38 non-null     object             \n",
      " 18  headline.sub         0 non-null      object             \n",
      "dtypes: datetime64[ns, UTC](1), int64(2), object(16)\n",
      "memory usage: 131.1+ KB\n"
     ]
    }
   ],
   "source": [
    "df_articles.info()"
   ]
  },
  {
   "cell_type": "code",
   "execution_count": null,
   "metadata": {},
   "outputs": [],
   "source": [
    "msno.matrix(df_test)"
   ]
  },
  {
   "cell_type": "code",
   "execution_count": null,
   "metadata": {},
   "outputs": [],
   "source": [
    "df_train.info()"
   ]
  },
  {
   "cell_type": "code",
   "execution_count": null,
   "metadata": {},
   "outputs": [],
   "source": [
    "msno.matrix(df_train)"
   ]
  },
  {
   "cell_type": "markdown",
   "metadata": {},
   "source": []
  },
  {
   "cell_type": "code",
   "execution_count": null,
   "metadata": {},
   "outputs": [],
   "source": [
    "df_articles.info()"
   ]
  },
  {
   "cell_type": "code",
   "execution_count": null,
   "metadata": {},
   "outputs": [],
   "source": [
    "msno.matrix(df_articles)"
   ]
  },
  {
   "cell_type": "code",
   "execution_count": null,
   "metadata": {},
   "outputs": [],
   "source": [
    "sns.pairplot(df_articles)"
   ]
  },
  {
   "cell_type": "code",
   "execution_count": null,
   "metadata": {},
   "outputs": [],
   "source": [
    "df_articles.iloc[0]"
   ]
  },
  {
   "cell_type": "markdown",
   "metadata": {},
   "source": [
    "# Comments"
   ]
  },
  {
   "cell_type": "code",
   "execution_count": null,
   "metadata": {},
   "outputs": [],
   "source": [
    "profile = ProfileReport(df_comments, title=\"New York Times Comments\")\n",
    "profile.to_file('..//reports//figures//pp_Comments.html')"
   ]
  },
  {
   "cell_type": "code",
   "execution_count": null,
   "metadata": {},
   "outputs": [],
   "source": [
    "df_comments.info()"
   ]
  },
  {
   "cell_type": "code",
   "execution_count": null,
   "metadata": {},
   "outputs": [],
   "source": [
    "df_comments['status'].unique()"
   ]
  },
  {
   "cell_type": "code",
   "execution_count": null,
   "metadata": {},
   "outputs": [],
   "source": [
    "len(df_comments['commentID'].unique())"
   ]
  },
  {
   "cell_type": "code",
   "execution_count": null,
   "metadata": {},
   "outputs": [],
   "source": [
    "len(df_comments['commentSequence'].unique())"
   ]
  },
  {
   "cell_type": "code",
   "execution_count": null,
   "metadata": {},
   "outputs": [],
   "source": [
    "len(df_comments['userID'].unique())"
   ]
  },
  {
   "cell_type": "markdown",
   "metadata": {},
   "source": [
    "There are repeat customers"
   ]
  },
  {
   "cell_type": "code",
   "execution_count": null,
   "metadata": {},
   "outputs": [],
   "source": [
    "df_comments['value_']"
   ]
  },
  {
   "cell_type": "code",
   "execution_count": null,
   "metadata": {},
   "outputs": [],
   "source": [
    "# Missing\n",
    "msno.matrix(df_comments)"
   ]
  },
  {
   "cell_type": "code",
   "execution_count": null,
   "metadata": {},
   "outputs": [],
   "source": [
    "# This was inconsequential\n",
    "#sns.pairplot(df_comments[['recommendations','replyCount','depth','trusted','recommendedFlag']])"
   ]
  },
  {
   "cell_type": "code",
   "execution_count": null,
   "metadata": {},
   "outputs": [],
   "source": [
    "df_comments.iloc[15]"
   ]
  },
  {
   "cell_type": "code",
   "execution_count": null,
   "metadata": {},
   "outputs": [],
   "source": [
    "df_comments[df_comments['commentID'] == 104388469]"
   ]
  },
  {
   "cell_type": "code",
   "execution_count": null,
   "metadata": {},
   "outputs": [],
   "source": [
    "df_comments.iloc[15]['commentBody']"
   ]
  },
  {
   "cell_type": "code",
   "execution_count": null,
   "metadata": {},
   "outputs": [],
   "source": [
    "plt.imshow(wordcloud, interpolation='bilinear')\n",
    "plt.axis('off')\n",
    "wordcloud = WordCloud().generate(df_comments.iloc[15]['commentBody'])\n",
    "plt.figure()"
   ]
  },
  {
   "cell_type": "markdown",
   "metadata": {},
   "source": [
    "# Comment Investigation"
   ]
  },
  {
   "cell_type": "markdown",
   "metadata": {},
   "source": [
    "To Investigate\n",
    "-   Comments\n",
    "    - commentType: is 1 of three categories (comment, userReply or reporterReply)\n",
    "    - commentBody - There is no classification of article, this is the comment text\n",
    "        - IDEA : Sentiment Analysis here\n",
    "    - userID : There are some repeats here\n",
    "    - recommendations :\n",
    "    - replyCount : \n",
    "    - editorsSelection : Almost entirely False\n",
    "    - depth\n",
    "- Model Ideas - Text Classification\n",
    "    - Naive Bayes for classifier\n",
    "    - Logistic Regression\n",
    "    - SVM\n",
    "    - Sentiment Analysis\n",
    "    - Keyphrase extraction\n",
    "- Summarizer - Get the jist of the comment"
   ]
  },
  {
   "cell_type": "markdown",
   "metadata": {},
   "source": []
  }
 ],
 "metadata": {
  "interpreter": {
   "hash": "ecaab7e4f2054dc1b3b08bfc690ea1c3d11e0c83265adf695ac1706ca10c6a57"
  },
  "kernelspec": {
   "display_name": "Python 3.9.7 64-bit ('NLP': conda)",
   "language": "python",
   "name": "python3"
  },
  "language_info": {
   "codemirror_mode": {
    "name": "ipython",
    "version": 3
   },
   "file_extension": ".py",
   "mimetype": "text/x-python",
   "name": "python",
   "nbconvert_exporter": "python",
   "pygments_lexer": "ipython3",
   "version": "3.9.7"
  },
  "orig_nbformat": 4
 },
 "nbformat": 4,
 "nbformat_minor": 2
}
