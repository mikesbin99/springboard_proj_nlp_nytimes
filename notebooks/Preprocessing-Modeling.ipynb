{
 "cells": [
  {
   "cell_type": "markdown",
   "metadata": {},
   "source": [
    "# Preprocessing - Modeling"
   ]
  },
  {
   "cell_type": "code",
   "execution_count": 45,
   "metadata": {},
   "outputs": [
    {
     "name": "stdout",
     "output_type": "stream",
     "text": [
      "g:\\My Drive\\Code\\springboard_proj_nlp_nytimes\n",
      "The autoreload extension is already loaded. To reload it, use:\n",
      "  %reload_ext autoreload\n"
     ]
    }
   ],
   "source": [
    "import os\n",
    "import sys\n",
    "import pandas as pd\n",
    "import numpy as np\n",
    "\n",
    "import time\n",
    "\n",
    "from wordcloud import WordCloud\n",
    "from pandas_profiling import ProfileReport\n",
    "\n",
    "# Visualize\n",
    "import seaborn as sns\n",
    "import matplotlib.pyplot as plt\n",
    "import plotly as plty\n",
    "\n",
    "import plotly.express as px\n",
    "\n",
    "import missingno as msno\n",
    "\n",
    "# Textacy\n",
    "\n",
    "import spacy\n",
    "from spacy.matcher import Matcher\n",
    "from spacy.lang.en.stop_words import STOP_WORDS as stopwords\n",
    "from spacy import displacy\n",
    "nlp = spacy.load('en_core_web_sm')\n",
    "\n",
    "#https://realpython.com/natural-language-processing-spacy-python/\n",
    "matcher = Matcher(nlp.vocab)\n",
    "\n",
    "join_comments = True\n",
    "join_raw_article = True\n",
    "\n",
    "# Set Project Root\n",
    "PROJ_ROOT = os.path.join(os.pardir)\n",
    "print(os.path.abspath(PROJ_ROOT))\n",
    "\n",
    "# add the 'src' directory as one where we can import modules\n",
    "src_dir = os.path.join(PROJ_ROOT, \"src\")\n",
    "sys.path.append(src_dir)\n",
    "\n",
    "\n",
    "# %run \"$BASE_DIR/settings.py\"\n",
    "%config InlineBackend.figure_format = 'png'\n",
    "\n",
    "# Set to Reload all custom packages\n",
    "%load_ext autoreload\n",
    "%autoreload 2\n",
    "\n",
    "%matplotlib inline\n",
    "\n",
    "# !python -m spacy download en_core_web_sm\n",
    "\n",
    "from sklearn.svm import SVR\n",
    "from sklearn.preprocessing import LabelEncoder\n",
    "\n",
    "from sklearn.metrics import classification_report\n",
    "from sklearn import preprocessing\n",
    "from sklearn.ensemble import GradientBoostingClassifier\n",
    "from sklearn.tree import DecisionTreeRegressor\n",
    "from sklearn.ensemble import RandomForestClassifier\n",
    "\n",
    "from sklearn.model_selection import train_test_split\n",
    "from sklearn.model_selection import cross_val_score\n",
    "from sklearn.model_selection import RepeatedKFold\n",
    "from sklearn.model_selection import StratifiedKFold\n",
    "\n",
    "from sklearn.metrics import classification_report, confusion_matrix, roc_curve, auc\n",
    "from sklearn.metrics import precision_recall_fscore_support as score\n",
    "from sklearn import metrics\n",
    "from sklearn.metrics import log_loss\n",
    "\n",
    "import time\n",
    "\n",
    "import lightgbm as lgb"
   ]
  },
  {
   "cell_type": "markdown",
   "metadata": {},
   "source": [
    "## Load Data"
   ]
  },
  {
   "cell_type": "code",
   "execution_count": 46,
   "metadata": {},
   "outputs": [],
   "source": [
    "## Load exit from EDA\n",
    "df_articles = pd.read_pickle('..//data//processed//df_articles_fe.pkl')\n",
    "df_articles.reset_index(drop=True,inplace=True)\n",
    "df_articles.drop(columns=['print_section','print_page'],inplace=True)\n"
   ]
  },
  {
   "cell_type": "code",
   "execution_count": 47,
   "metadata": {},
   "outputs": [
    {
     "data": {
      "text/plain": [
       "newsdesk                                                             Politics\n",
       "section                                                                  U.S.\n",
       "material                                                                 News\n",
       "abstract                    Interrupting Joe Biden nearly every time he sp...\n",
       "keywords                    ['Biden, Joseph R Jr', 'Trump, Donald J', 'Deb...\n",
       "word_count                                                               1941\n",
       "pub_date                                            2020-09-30 03:28:29+00:00\n",
       "n_comments                                                               4044\n",
       "uniqueID                    nyt://article/28229317-87b2-5b05-b036-71235665...\n",
       "lead_paragraph              [Read our profile detailing Joe Biden’s road t...\n",
       "month                                                                       9\n",
       "TEXT_Keywords_POS_NOUN                                                      2\n",
       "TEXT_Keywords_POS_PNOUN                                                    22\n",
       "TEXT_Keywords_ENT_ORG                                                       3\n",
       "TEXT_Keywords_ENT_NORP                                                      0\n",
       "TEXT_Keywords_ENT_FAC                                                       0\n",
       "TEXT_Keywords_ENT_GPE                                                       0\n",
       "TEXT_Keywords_ENT_LOC                                                       0\n",
       "TEXT_Keywords_ENT_PERSON                                                    4\n",
       "comment_isHigh                                                              1\n",
       "Name: 20, dtype: object"
      ]
     },
     "execution_count": 47,
     "metadata": {},
     "output_type": "execute_result"
    }
   ],
   "source": [
    "df_articles.iloc[20].T"
   ]
  },
  {
   "cell_type": "code",
   "execution_count": 48,
   "metadata": {},
   "outputs": [
    {
     "data": {
      "text/html": [
       "<div>\n",
       "<style scoped>\n",
       "    .dataframe tbody tr th:only-of-type {\n",
       "        vertical-align: middle;\n",
       "    }\n",
       "\n",
       "    .dataframe tbody tr th {\n",
       "        vertical-align: top;\n",
       "    }\n",
       "\n",
       "    .dataframe thead th {\n",
       "        text-align: right;\n",
       "    }\n",
       "</style>\n",
       "<table border=\"1\" class=\"dataframe\">\n",
       "  <thead>\n",
       "    <tr style=\"text-align: right;\">\n",
       "      <th></th>\n",
       "      <th>count</th>\n",
       "      <th>mean</th>\n",
       "      <th>std</th>\n",
       "      <th>min</th>\n",
       "      <th>25%</th>\n",
       "      <th>50%</th>\n",
       "      <th>75%</th>\n",
       "      <th>max</th>\n",
       "    </tr>\n",
       "  </thead>\n",
       "  <tbody>\n",
       "    <tr>\n",
       "      <th>word_count</th>\n",
       "      <td>16786.0</td>\n",
       "      <td>1300.961813</td>\n",
       "      <td>944.801861</td>\n",
       "      <td>0.0</td>\n",
       "      <td>874.0</td>\n",
       "      <td>1183.0</td>\n",
       "      <td>1502.0</td>\n",
       "      <td>15619.0</td>\n",
       "    </tr>\n",
       "    <tr>\n",
       "      <th>n_comments</th>\n",
       "      <td>16786.0</td>\n",
       "      <td>297.056714</td>\n",
       "      <td>513.419176</td>\n",
       "      <td>1.0</td>\n",
       "      <td>21.0</td>\n",
       "      <td>87.0</td>\n",
       "      <td>323.0</td>\n",
       "      <td>8987.0</td>\n",
       "    </tr>\n",
       "    <tr>\n",
       "      <th>month</th>\n",
       "      <td>16786.0</td>\n",
       "      <td>6.320743</td>\n",
       "      <td>3.437056</td>\n",
       "      <td>1.0</td>\n",
       "      <td>3.0</td>\n",
       "      <td>6.0</td>\n",
       "      <td>9.0</td>\n",
       "      <td>12.0</td>\n",
       "    </tr>\n",
       "    <tr>\n",
       "      <th>TEXT_Keywords_POS_NOUN</th>\n",
       "      <td>16786.0</td>\n",
       "      <td>3.038067</td>\n",
       "      <td>2.411232</td>\n",
       "      <td>0.0</td>\n",
       "      <td>1.0</td>\n",
       "      <td>3.0</td>\n",
       "      <td>4.0</td>\n",
       "      <td>23.0</td>\n",
       "    </tr>\n",
       "    <tr>\n",
       "      <th>TEXT_Keywords_POS_PNOUN</th>\n",
       "      <td>16786.0</td>\n",
       "      <td>13.809008</td>\n",
       "      <td>9.945966</td>\n",
       "      <td>0.0</td>\n",
       "      <td>7.0</td>\n",
       "      <td>12.0</td>\n",
       "      <td>19.0</td>\n",
       "      <td>146.0</td>\n",
       "    </tr>\n",
       "    <tr>\n",
       "      <th>TEXT_Keywords_ENT_ORG</th>\n",
       "      <td>16786.0</td>\n",
       "      <td>1.514417</td>\n",
       "      <td>1.617064</td>\n",
       "      <td>0.0</td>\n",
       "      <td>0.0</td>\n",
       "      <td>1.0</td>\n",
       "      <td>2.0</td>\n",
       "      <td>18.0</td>\n",
       "    </tr>\n",
       "    <tr>\n",
       "      <th>TEXT_Keywords_ENT_NORP</th>\n",
       "      <td>16786.0</td>\n",
       "      <td>0.076552</td>\n",
       "      <td>0.285341</td>\n",
       "      <td>0.0</td>\n",
       "      <td>0.0</td>\n",
       "      <td>0.0</td>\n",
       "      <td>0.0</td>\n",
       "      <td>3.0</td>\n",
       "    </tr>\n",
       "    <tr>\n",
       "      <th>TEXT_Keywords_ENT_FAC</th>\n",
       "      <td>16786.0</td>\n",
       "      <td>0.015668</td>\n",
       "      <td>0.141670</td>\n",
       "      <td>0.0</td>\n",
       "      <td>0.0</td>\n",
       "      <td>0.0</td>\n",
       "      <td>0.0</td>\n",
       "      <td>4.0</td>\n",
       "    </tr>\n",
       "    <tr>\n",
       "      <th>TEXT_Keywords_ENT_GPE</th>\n",
       "      <td>16786.0</td>\n",
       "      <td>0.845466</td>\n",
       "      <td>1.218005</td>\n",
       "      <td>0.0</td>\n",
       "      <td>0.0</td>\n",
       "      <td>0.0</td>\n",
       "      <td>1.0</td>\n",
       "      <td>37.0</td>\n",
       "    </tr>\n",
       "    <tr>\n",
       "      <th>TEXT_Keywords_ENT_LOC</th>\n",
       "      <td>16786.0</td>\n",
       "      <td>0.038723</td>\n",
       "      <td>0.222482</td>\n",
       "      <td>0.0</td>\n",
       "      <td>0.0</td>\n",
       "      <td>0.0</td>\n",
       "      <td>0.0</td>\n",
       "      <td>5.0</td>\n",
       "    </tr>\n",
       "    <tr>\n",
       "      <th>TEXT_Keywords_ENT_PERSON</th>\n",
       "      <td>16786.0</td>\n",
       "      <td>1.864768</td>\n",
       "      <td>2.277986</td>\n",
       "      <td>0.0</td>\n",
       "      <td>0.0</td>\n",
       "      <td>1.0</td>\n",
       "      <td>3.0</td>\n",
       "      <td>40.0</td>\n",
       "    </tr>\n",
       "  </tbody>\n",
       "</table>\n",
       "</div>"
      ],
      "text/plain": [
       "                            count         mean         std  min    25%  \\\n",
       "word_count                16786.0  1300.961813  944.801861  0.0  874.0   \n",
       "n_comments                16786.0   297.056714  513.419176  1.0   21.0   \n",
       "month                     16786.0     6.320743    3.437056  1.0    3.0   \n",
       "TEXT_Keywords_POS_NOUN    16786.0     3.038067    2.411232  0.0    1.0   \n",
       "TEXT_Keywords_POS_PNOUN   16786.0    13.809008    9.945966  0.0    7.0   \n",
       "TEXT_Keywords_ENT_ORG     16786.0     1.514417    1.617064  0.0    0.0   \n",
       "TEXT_Keywords_ENT_NORP    16786.0     0.076552    0.285341  0.0    0.0   \n",
       "TEXT_Keywords_ENT_FAC     16786.0     0.015668    0.141670  0.0    0.0   \n",
       "TEXT_Keywords_ENT_GPE     16786.0     0.845466    1.218005  0.0    0.0   \n",
       "TEXT_Keywords_ENT_LOC     16786.0     0.038723    0.222482  0.0    0.0   \n",
       "TEXT_Keywords_ENT_PERSON  16786.0     1.864768    2.277986  0.0    0.0   \n",
       "\n",
       "                             50%     75%      max  \n",
       "word_count                1183.0  1502.0  15619.0  \n",
       "n_comments                  87.0   323.0   8987.0  \n",
       "month                        6.0     9.0     12.0  \n",
       "TEXT_Keywords_POS_NOUN       3.0     4.0     23.0  \n",
       "TEXT_Keywords_POS_PNOUN     12.0    19.0    146.0  \n",
       "TEXT_Keywords_ENT_ORG        1.0     2.0     18.0  \n",
       "TEXT_Keywords_ENT_NORP       0.0     0.0      3.0  \n",
       "TEXT_Keywords_ENT_FAC        0.0     0.0      4.0  \n",
       "TEXT_Keywords_ENT_GPE        0.0     1.0     37.0  \n",
       "TEXT_Keywords_ENT_LOC        0.0     0.0      5.0  \n",
       "TEXT_Keywords_ENT_PERSON     1.0     3.0     40.0  "
      ]
     },
     "execution_count": 48,
     "metadata": {},
     "output_type": "execute_result"
    }
   ],
   "source": [
    "df_articles.describe().T"
   ]
  },
  {
   "cell_type": "code",
   "execution_count": 49,
   "metadata": {},
   "outputs": [
    {
     "data": {
      "text/plain": [
       "<AxesSubplot:xlabel='TEXT_Keywords_POS_NOUN', ylabel='Count'>"
      ]
     },
     "execution_count": 49,
     "metadata": {},
     "output_type": "execute_result"
    },
    {
     "data": {
      "image/png": "[encoded data removed]",
      "text/plain": [
       "<Figure size 432x288 with 1 Axes>"
      ]
     },
     "metadata": {
      "needs_background": "light"
     },
     "output_type": "display_data"
    }
   ],
   "source": [
    "sns.histplot(data=df_articles,x='TEXT_Keywords_POS_NOUN')"
   ]
  },
  {
   "cell_type": "code",
   "execution_count": 50,
   "metadata": {},
   "outputs": [
    {
     "data": {
      "text/plain": [
       "<AxesSubplot:xlabel='TEXT_Keywords_POS_PNOUN', ylabel='Count'>"
      ]
     },
     "execution_count": 50,
     "metadata": {},
     "output_type": "execute_result"
    },
    {
     "data": {
      "image/png": "[encoded data removed]",
      "text/plain": [
       "<Figure size 432x288 with 1 Axes>"
      ]
     },
     "metadata": {
      "needs_background": "light"
     },
     "output_type": "display_data"
    }
   ],
   "source": [
    "sns.histplot(data=df_articles,x='TEXT_Keywords_POS_PNOUN')"
   ]
  },
  {
   "cell_type": "code",
   "execution_count": 51,
   "metadata": {},
   "outputs": [
    {
     "data": {
      "text/plain": [
       "<AxesSubplot:xlabel='TEXT_Keywords_ENT_PERSON', ylabel='Count'>"
      ]
     },
     "execution_count": 51,
     "metadata": {},
     "output_type": "execute_result"
    },
    {
     "data": {
      "image/png": "[encoded data removed]",
      "text/plain": [
       "<Figure size 432x288 with 1 Axes>"
      ]
     },
     "metadata": {
      "needs_background": "light"
     },
     "output_type": "display_data"
    }
   ],
   "source": [
    "sns.histplot(data=df_articles,x='TEXT_Keywords_ENT_PERSON')"
   ]
  },
  {
   "cell_type": "markdown",
   "metadata": {},
   "source": [
    "### Split number of comments into high and low comments, count differences"
   ]
  },
  {
   "cell_type": "code",
   "execution_count": 52,
   "metadata": {},
   "outputs": [
    {
     "name": "stdout",
     "output_type": "stream",
     "text": [
      "<class 'pandas.core.frame.DataFrame'>\n",
      "RangeIndex: 16786 entries, 0 to 16785\n",
      "Data columns (total 20 columns):\n",
      " #   Column                    Non-Null Count  Dtype              \n",
      "---  ------                    --------------  -----              \n",
      " 0   newsdesk                  16786 non-null  object             \n",
      " 1   section                   16786 non-null  object             \n",
      " 2   material                  16786 non-null  object             \n",
      " 3   abstract                  16783 non-null  object             \n",
      " 4   keywords                  16786 non-null  object             \n",
      " 5   word_count                16786 non-null  int64              \n",
      " 6   pub_date                  16786 non-null  datetime64[ns, UTC]\n",
      " 7   n_comments                16786 non-null  int64              \n",
      " 8   uniqueID                  16786 non-null  object             \n",
      " 9   lead_paragraph            16786 non-null  object             \n",
      " 10  month                     16786 non-null  int64              \n",
      " 11  TEXT_Keywords_POS_NOUN    16786 non-null  int64              \n",
      " 12  TEXT_Keywords_POS_PNOUN   16786 non-null  int64              \n",
      " 13  TEXT_Keywords_ENT_ORG     16786 non-null  int64              \n",
      " 14  TEXT_Keywords_ENT_NORP    16786 non-null  int64              \n",
      " 15  TEXT_Keywords_ENT_FAC     16786 non-null  int64              \n",
      " 16  TEXT_Keywords_ENT_GPE     16786 non-null  int64              \n",
      " 17  TEXT_Keywords_ENT_LOC     16786 non-null  int64              \n",
      " 18  TEXT_Keywords_ENT_PERSON  16786 non-null  int64              \n",
      " 19  comment_isHigh            16786 non-null  category           \n",
      "dtypes: category(1), datetime64[ns, UTC](1), int64(11), object(7)\n",
      "memory usage: 2.4+ MB\n"
     ]
    }
   ],
   "source": [
    "df_articles.info()"
   ]
  },
  {
   "cell_type": "code",
   "execution_count": 53,
   "metadata": {},
   "outputs": [
    {
     "data": {
      "text/plain": [
       "newsdesk                                                             Politics\n",
       "section                                                                  U.S.\n",
       "material                                                                 News\n",
       "abstract                    Interrupting Joe Biden nearly every time he sp...\n",
       "keywords                    ['Biden, Joseph R Jr', 'Trump, Donald J', 'Deb...\n",
       "word_count                                                               1941\n",
       "pub_date                                            2020-09-30 03:28:29+00:00\n",
       "n_comments                                                               4044\n",
       "uniqueID                    nyt://article/28229317-87b2-5b05-b036-71235665...\n",
       "lead_paragraph              [Read our profile detailing Joe Biden’s road t...\n",
       "month                                                                       9\n",
       "TEXT_Keywords_POS_NOUN                                                      2\n",
       "TEXT_Keywords_POS_PNOUN                                                    22\n",
       "TEXT_Keywords_ENT_ORG                                                       3\n",
       "TEXT_Keywords_ENT_NORP                                                      0\n",
       "TEXT_Keywords_ENT_FAC                                                       0\n",
       "TEXT_Keywords_ENT_GPE                                                       0\n",
       "TEXT_Keywords_ENT_LOC                                                       0\n",
       "TEXT_Keywords_ENT_PERSON                                                    4\n",
       "comment_isHigh                                                              1\n",
       "Name: 20, dtype: object"
      ]
     },
     "execution_count": 53,
     "metadata": {},
     "output_type": "execute_result"
    }
   ],
   "source": [
    "df_articles.iloc[20].T"
   ]
  },
  {
   "cell_type": "markdown",
   "metadata": {},
   "source": [
    "# Classifier\n",
    "## Target - n_comments - High or Low?"
   ]
  },
  {
   "cell_type": "markdown",
   "metadata": {},
   "source": [
    "## Preprocessing"
   ]
  },
  {
   "cell_type": "code",
   "execution_count": 54,
   "metadata": {},
   "outputs": [],
   "source": [
    "# convert labels to features\n",
    "number = LabelEncoder()\n",
    "df_articles['newsdesk_num'] = number.fit_transform(df_articles['newsdesk'])\n",
    "number = LabelEncoder()\n",
    "df_articles['section_num'] = number.fit_transform(df_articles['section'])\n",
    "number = LabelEncoder()\n",
    "df_articles['material_num'] = number.fit_transform(df_articles['material'])\n"
   ]
  },
  {
   "cell_type": "markdown",
   "metadata": {},
   "source": [
    "## EDA Final\n",
    "Look over reports before running model"
   ]
  },
  {
   "cell_type": "code",
   "execution_count": 23,
   "metadata": {},
   "outputs": [
    {
     "name": "stderr",
     "output_type": "stream",
     "text": [
      "Summarize dataset: 100%|██████████| 181/181 [00:40<00:00,  4.44it/s, Completed]                                                 \n",
      "Generate report structure: 100%|██████████| 1/1 [00:08<00:00,  8.82s/it]\n",
      "Render HTML: 100%|██████████| 1/1 [00:06<00:00,  6.79s/it]\n",
      "Export report to file: 100%|██████████| 1/1 [00:00<00:00, 13.01it/s]\n"
     ]
    }
   ],
   "source": [
    "profile_articles_final = ProfileReport(df_articles, title=\"New York Times - Articles - Final\")\n",
    "profile_articles_final.to_file('..//reports//figures//EDA_Articles_Final.html')"
   ]
  },
  {
   "cell_type": "markdown",
   "metadata": {},
   "source": [
    "# Train Test Split"
   ]
  },
  {
   "cell_type": "code",
   "execution_count": 55,
   "metadata": {},
   "outputs": [],
   "source": [
    "X = df_articles[['TEXT_Keywords_POS_NOUN',\n",
    "                    'TEXT_Keywords_POS_PNOUN',\n",
    "                    'TEXT_Keywords_ENT_ORG',\n",
    "                    'TEXT_Keywords_ENT_NORP',\n",
    "                    'TEXT_Keywords_ENT_FAC',\n",
    "                    'TEXT_Keywords_ENT_GPE',\n",
    "                    'TEXT_Keywords_ENT_LOC',\n",
    "                    'TEXT_Keywords_ENT_PERSON',\n",
    "                    'word_count','section_num',\n",
    "                    'newsdesk_num',\n",
    "                    'material_num',\n",
    "                    'month'\n",
    "                                    ]]\n",
    "\n",
    "y = df_articles['comment_isHigh']\n",
    "\n"
   ]
  },
  {
   "cell_type": "code",
   "execution_count": 56,
   "metadata": {},
   "outputs": [
    {
     "data": {
      "text/plain": [
       "(16786, 13)"
      ]
     },
     "execution_count": 56,
     "metadata": {},
     "output_type": "execute_result"
    }
   ],
   "source": [
    "X.shape"
   ]
  },
  {
   "cell_type": "code",
   "execution_count": 57,
   "metadata": {},
   "outputs": [
    {
     "data": {
      "text/plain": [
       "(16786,)"
      ]
     },
     "execution_count": 57,
     "metadata": {},
     "output_type": "execute_result"
    }
   ],
   "source": [
    "y.shape"
   ]
  },
  {
   "cell_type": "code",
   "execution_count": 58,
   "metadata": {},
   "outputs": [
    {
     "data": {
      "text/plain": [
       "0    12838\n",
       "1     3948\n",
       "Name: comment_isHigh, dtype: int64"
      ]
     },
     "execution_count": 58,
     "metadata": {},
     "output_type": "execute_result"
    }
   ],
   "source": [
    "y.value_counts()"
   ]
  },
  {
   "cell_type": "markdown",
   "metadata": {},
   "source": [
    "## LightGBM Classifer"
   ]
  },
  {
   "cell_type": "markdown",
   "metadata": {},
   "source": [
    "# Stratified K Fold Validatation"
   ]
  },
  {
   "cell_type": "code",
   "execution_count": 59,
   "metadata": {},
   "outputs": [
    {
     "name": "stdout",
     "output_type": "stream",
     "text": [
      "Training fold 0\n"
     ]
    },
    {
     "name": "stderr",
     "output_type": "stream",
     "text": [
      "C:\\Users\\Mike\\.conda\\envs\\NLP\\lib\\site-packages\\lightgbm\\sklearn.py:726: UserWarning: 'early_stopping_rounds' argument is deprecated and will be removed in a future release of LightGBM. Pass 'early_stopping()' callback via 'callbacks' argument instead.\n",
      "  _log_warning(\"'early_stopping_rounds' argument is deprecated and will be removed in a future release of LightGBM. \"\n",
      "C:\\Users\\Mike\\.conda\\envs\\NLP\\lib\\site-packages\\lightgbm\\sklearn.py:736: UserWarning: 'verbose' argument is deprecated and will be removed in a future release of LightGBM. Pass 'log_evaluation()' callback via 'callbacks' argument instead.\n",
      "  _log_warning(\"'verbose' argument is deprecated and will be removed in a future release of LightGBM. \"\n"
     ]
    },
    {
     "name": "stdout",
     "output_type": "stream",
     "text": [
      "Fold 0 finished with score: 0.34752 in 0.29 seconds.\n",
      "\n",
      "Training fold 1\n"
     ]
    },
    {
     "name": "stderr",
     "output_type": "stream",
     "text": [
      "C:\\Users\\Mike\\.conda\\envs\\NLP\\lib\\site-packages\\lightgbm\\sklearn.py:726: UserWarning: 'early_stopping_rounds' argument is deprecated and will be removed in a future release of LightGBM. Pass 'early_stopping()' callback via 'callbacks' argument instead.\n",
      "  _log_warning(\"'early_stopping_rounds' argument is deprecated and will be removed in a future release of LightGBM. \"\n",
      "C:\\Users\\Mike\\.conda\\envs\\NLP\\lib\\site-packages\\lightgbm\\sklearn.py:736: UserWarning: 'verbose' argument is deprecated and will be removed in a future release of LightGBM. Pass 'log_evaluation()' callback via 'callbacks' argument instead.\n",
      "  _log_warning(\"'verbose' argument is deprecated and will be removed in a future release of LightGBM. \"\n"
     ]
    },
    {
     "name": "stdout",
     "output_type": "stream",
     "text": [
      "Fold 1 finished with score: 0.35463 in 0.43 seconds.\n",
      "\n",
      "Training fold 2\n"
     ]
    },
    {
     "name": "stderr",
     "output_type": "stream",
     "text": [
      "C:\\Users\\Mike\\.conda\\envs\\NLP\\lib\\site-packages\\lightgbm\\sklearn.py:726: UserWarning: 'early_stopping_rounds' argument is deprecated and will be removed in a future release of LightGBM. Pass 'early_stopping()' callback via 'callbacks' argument instead.\n",
      "  _log_warning(\"'early_stopping_rounds' argument is deprecated and will be removed in a future release of LightGBM. \"\n",
      "C:\\Users\\Mike\\.conda\\envs\\NLP\\lib\\site-packages\\lightgbm\\sklearn.py:736: UserWarning: 'verbose' argument is deprecated and will be removed in a future release of LightGBM. Pass 'log_evaluation()' callback via 'callbacks' argument instead.\n",
      "  _log_warning(\"'verbose' argument is deprecated and will be removed in a future release of LightGBM. \"\n"
     ]
    },
    {
     "name": "stdout",
     "output_type": "stream",
     "text": [
      "Fold 2 finished with score: 0.34784 in 0.47 seconds.\n",
      "\n",
      "Training fold 3\n"
     ]
    },
    {
     "name": "stderr",
     "output_type": "stream",
     "text": [
      "C:\\Users\\Mike\\.conda\\envs\\NLP\\lib\\site-packages\\lightgbm\\sklearn.py:726: UserWarning: 'early_stopping_rounds' argument is deprecated and will be removed in a future release of LightGBM. Pass 'early_stopping()' callback via 'callbacks' argument instead.\n",
      "  _log_warning(\"'early_stopping_rounds' argument is deprecated and will be removed in a future release of LightGBM. \"\n",
      "C:\\Users\\Mike\\.conda\\envs\\NLP\\lib\\site-packages\\lightgbm\\sklearn.py:736: UserWarning: 'verbose' argument is deprecated and will be removed in a future release of LightGBM. Pass 'log_evaluation()' callback via 'callbacks' argument instead.\n",
      "  _log_warning(\"'verbose' argument is deprecated and will be removed in a future release of LightGBM. \"\n"
     ]
    },
    {
     "name": "stdout",
     "output_type": "stream",
     "text": [
      "Fold 3 finished with score: 0.34368 in 0.42 seconds.\n",
      "\n",
      "Training fold 4\n"
     ]
    },
    {
     "name": "stderr",
     "output_type": "stream",
     "text": [
      "C:\\Users\\Mike\\.conda\\envs\\NLP\\lib\\site-packages\\lightgbm\\sklearn.py:726: UserWarning: 'early_stopping_rounds' argument is deprecated and will be removed in a future release of LightGBM. Pass 'early_stopping()' callback via 'callbacks' argument instead.\n",
      "  _log_warning(\"'early_stopping_rounds' argument is deprecated and will be removed in a future release of LightGBM. \"\n",
      "C:\\Users\\Mike\\.conda\\envs\\NLP\\lib\\site-packages\\lightgbm\\sklearn.py:736: UserWarning: 'verbose' argument is deprecated and will be removed in a future release of LightGBM. Pass 'log_evaluation()' callback via 'callbacks' argument instead.\n",
      "  _log_warning(\"'verbose' argument is deprecated and will be removed in a future release of LightGBM. \"\n"
     ]
    },
    {
     "name": "stdout",
     "output_type": "stream",
     "text": [
      "Fold 4 finished with score: 0.36947 in 0.26 seconds.\n",
      "\n",
      "Training fold 5\n"
     ]
    },
    {
     "name": "stderr",
     "output_type": "stream",
     "text": [
      "C:\\Users\\Mike\\.conda\\envs\\NLP\\lib\\site-packages\\lightgbm\\sklearn.py:726: UserWarning: 'early_stopping_rounds' argument is deprecated and will be removed in a future release of LightGBM. Pass 'early_stopping()' callback via 'callbacks' argument instead.\n",
      "  _log_warning(\"'early_stopping_rounds' argument is deprecated and will be removed in a future release of LightGBM. \"\n",
      "C:\\Users\\Mike\\.conda\\envs\\NLP\\lib\\site-packages\\lightgbm\\sklearn.py:736: UserWarning: 'verbose' argument is deprecated and will be removed in a future release of LightGBM. Pass 'log_evaluation()' callback via 'callbacks' argument instead.\n",
      "  _log_warning(\"'verbose' argument is deprecated and will be removed in a future release of LightGBM. \"\n"
     ]
    },
    {
     "name": "stdout",
     "output_type": "stream",
     "text": [
      "Fold 5 finished with score: 0.35769 in 0.24 seconds.\n",
      "\n",
      "Training fold 6\n"
     ]
    },
    {
     "name": "stderr",
     "output_type": "stream",
     "text": [
      "C:\\Users\\Mike\\.conda\\envs\\NLP\\lib\\site-packages\\lightgbm\\sklearn.py:726: UserWarning: 'early_stopping_rounds' argument is deprecated and will be removed in a future release of LightGBM. Pass 'early_stopping()' callback via 'callbacks' argument instead.\n",
      "  _log_warning(\"'early_stopping_rounds' argument is deprecated and will be removed in a future release of LightGBM. \"\n",
      "C:\\Users\\Mike\\.conda\\envs\\NLP\\lib\\site-packages\\lightgbm\\sklearn.py:736: UserWarning: 'verbose' argument is deprecated and will be removed in a future release of LightGBM. Pass 'log_evaluation()' callback via 'callbacks' argument instead.\n",
      "  _log_warning(\"'verbose' argument is deprecated and will be removed in a future release of LightGBM. \"\n"
     ]
    },
    {
     "name": "stdout",
     "output_type": "stream",
     "text": [
      "Fold 6 finished with score: 0.33779 in 0.40 seconds.\n",
      "\n",
      "Training fold 7\n",
      "Fold 7 finished with score: 0.37361 in 0.20 seconds.\n",
      "\n"
     ]
    },
    {
     "name": "stderr",
     "output_type": "stream",
     "text": [
      "C:\\Users\\Mike\\.conda\\envs\\NLP\\lib\\site-packages\\lightgbm\\sklearn.py:726: UserWarning: 'early_stopping_rounds' argument is deprecated and will be removed in a future release of LightGBM. Pass 'early_stopping()' callback via 'callbacks' argument instead.\n",
      "  _log_warning(\"'early_stopping_rounds' argument is deprecated and will be removed in a future release of LightGBM. \"\n",
      "C:\\Users\\Mike\\.conda\\envs\\NLP\\lib\\site-packages\\lightgbm\\sklearn.py:736: UserWarning: 'verbose' argument is deprecated and will be removed in a future release of LightGBM. Pass 'log_evaluation()' callback via 'callbacks' argument instead.\n",
      "  _log_warning(\"'verbose' argument is deprecated and will be removed in a future release of LightGBM. \"\n"
     ]
    },
    {
     "name": "stdout",
     "output_type": "stream",
     "text": [
      "Training fold 8\n"
     ]
    },
    {
     "name": "stderr",
     "output_type": "stream",
     "text": [
      "C:\\Users\\Mike\\.conda\\envs\\NLP\\lib\\site-packages\\lightgbm\\sklearn.py:726: UserWarning: 'early_stopping_rounds' argument is deprecated and will be removed in a future release of LightGBM. Pass 'early_stopping()' callback via 'callbacks' argument instead.\n",
      "  _log_warning(\"'early_stopping_rounds' argument is deprecated and will be removed in a future release of LightGBM. \"\n",
      "C:\\Users\\Mike\\.conda\\envs\\NLP\\lib\\site-packages\\lightgbm\\sklearn.py:736: UserWarning: 'verbose' argument is deprecated and will be removed in a future release of LightGBM. Pass 'log_evaluation()' callback via 'callbacks' argument instead.\n",
      "  _log_warning(\"'verbose' argument is deprecated and will be removed in a future release of LightGBM. \"\n"
     ]
    },
    {
     "name": "stdout",
     "output_type": "stream",
     "text": [
      "Fold 8 finished with score: 0.36209 in 0.27 seconds.\n",
      "\n",
      "Training fold 9\n"
     ]
    },
    {
     "name": "stderr",
     "output_type": "stream",
     "text": [
      "C:\\Users\\Mike\\.conda\\envs\\NLP\\lib\\site-packages\\lightgbm\\sklearn.py:726: UserWarning: 'early_stopping_rounds' argument is deprecated and will be removed in a future release of LightGBM. Pass 'early_stopping()' callback via 'callbacks' argument instead.\n",
      "  _log_warning(\"'early_stopping_rounds' argument is deprecated and will be removed in a future release of LightGBM. \"\n",
      "C:\\Users\\Mike\\.conda\\envs\\NLP\\lib\\site-packages\\lightgbm\\sklearn.py:736: UserWarning: 'verbose' argument is deprecated and will be removed in a future release of LightGBM. Pass 'log_evaluation()' callback via 'callbacks' argument instead.\n",
      "  _log_warning(\"'verbose' argument is deprecated and will be removed in a future release of LightGBM. \"\n"
     ]
    },
    {
     "name": "stdout",
     "output_type": "stream",
     "text": [
      "Fold 9 finished with score: 0.36594 in 0.23 seconds.\n",
      "\n"
     ]
    }
   ],
   "source": [
    "# https://towardsdatascience.com/how-to-beat-the-heck-out-of-xgboost-with-lightgbm-comprehensive-tutorial-5eba52195997\n",
    "N_SPLITS = 10\n",
    "strat_kf = StratifiedKFold(n_splits=N_SPLITS, shuffle=True, random_state=42)\n",
    "\n",
    "scores = np.empty(N_SPLITS)\n",
    "for idx, (train_idx, test_idx) in enumerate(strat_kf.split(X, y)):\n",
    "    print(f\"Training fold {idx}\")\n",
    "\n",
    "    start = time.time() # Capture Start time\n",
    "\n",
    "    X_train, X_test = X.iloc[train_idx], X.iloc[test_idx]\n",
    "    y_train, y_test = y[train_idx], y[test_idx]\n",
    "    eval_set = [(X_test, y_test)]\n",
    "\n",
    "    lgb_clf = lgb.LGBMClassifier(n_estimators=1000)\n",
    "    lgb_clf.fit(\n",
    "        X_train,\n",
    "        y_train,\n",
    "        eval_set=eval_set,\n",
    "        # categorical_feature=cat_idx,\n",
    "        early_stopping_rounds=100,\n",
    "        eval_metric=\"binary_logloss\",\n",
    "        verbose=False,\n",
    "    )\n",
    "\n",
    "    preds = lgb_clf.predict_proba(X_test)\n",
    "    loss = log_loss(y_test, preds)\n",
    "    scores[idx] = loss\n",
    "    runtime = time.time() - start\n",
    "    print(f\"Fold {idx} finished with score: {loss:.5f} in {runtime:.2f} seconds.\\n\")"
   ]
  },
  {
   "cell_type": "code",
   "execution_count": 60,
   "metadata": {},
   "outputs": [
    {
     "name": "stdout",
     "output_type": "stream",
     "text": [
      "Average log loss: 0.3560\n",
      "Standard Deviation log loss: 0.0112\n"
     ]
    }
   ],
   "source": [
    "print(f\"Average log loss: {np.mean(scores):.4f}\")\n",
    "print(f\"Standard Deviation log loss: {np.std(scores):.4f}\")"
   ]
  },
  {
   "cell_type": "markdown",
   "metadata": {},
   "source": [
    "## Predict Binary Classification of size of comments"
   ]
  },
  {
   "cell_type": "code",
   "execution_count": 61,
   "metadata": {},
   "outputs": [],
   "source": [
    "# Train Test Split 80/10\n",
    "X_train, X_test, y_train, y_test = \\\n",
    "    train_test_split(X, y,test_size=0.2, random_state=42)"
   ]
  },
  {
   "cell_type": "code",
   "execution_count": 62,
   "metadata": {},
   "outputs": [
    {
     "data": {
      "text/plain": [
       "(13428,)"
      ]
     },
     "execution_count": 62,
     "metadata": {},
     "output_type": "execute_result"
    }
   ],
   "source": [
    "y_train.shape"
   ]
  },
  {
   "cell_type": "code",
   "execution_count": 63,
   "metadata": {},
   "outputs": [
    {
     "data": {
      "text/plain": [
       "(3358,)"
      ]
     },
     "execution_count": 63,
     "metadata": {},
     "output_type": "execute_result"
    }
   ],
   "source": [
    "y_test.shape"
   ]
  },
  {
   "cell_type": "code",
   "execution_count": 64,
   "metadata": {},
   "outputs": [],
   "source": [
    "MODEL_PARAMS = {'random_state': 42,    \n",
    "                'learning_rate': 0.05,                \n",
    "                'n_estimators': 900,\n",
    "                'objective': 'binary'}  # Type\n",
    "\n",
    "model = lgb.LGBMClassifier(**MODEL_PARAMS)"
   ]
  },
  {
   "cell_type": "code",
   "execution_count": 65,
   "metadata": {},
   "outputs": [
    {
     "name": "stderr",
     "output_type": "stream",
     "text": [
      "C:\\Users\\Mike\\.conda\\envs\\NLP\\lib\\site-packages\\lightgbm\\sklearn.py:726: UserWarning: 'early_stopping_rounds' argument is deprecated and will be removed in a future release of LightGBM. Pass 'early_stopping()' callback via 'callbacks' argument instead.\n",
      "  _log_warning(\"'early_stopping_rounds' argument is deprecated and will be removed in a future release of LightGBM. \"\n",
      "C:\\Users\\Mike\\.conda\\envs\\NLP\\lib\\site-packages\\lightgbm\\sklearn.py:736: UserWarning: 'verbose' argument is deprecated and will be removed in a future release of LightGBM. Pass 'log_evaluation()' callback via 'callbacks' argument instead.\n",
      "  _log_warning(\"'verbose' argument is deprecated and will be removed in a future release of LightGBM. \"\n"
     ]
    },
    {
     "data": {
      "text/plain": [
       "LGBMClassifier(learning_rate=0.05, n_estimators=900, objective='binary',\n",
       "               random_state=42)"
      ]
     },
     "execution_count": 65,
     "metadata": {},
     "output_type": "execute_result"
    }
   ],
   "source": [
    "model.fit(X_train,\n",
    "            y_train,\n",
    "            eval_metric='binary_logloss',\n",
    "            eval_set=[(X_test,y_test),(X_train,y_train)],\n",
    "            early_stopping_rounds=100,\n",
    "            verbose=False)"
   ]
  },
  {
   "cell_type": "code",
   "execution_count": 66,
   "metadata": {},
   "outputs": [
    {
     "name": "stdout",
     "output_type": "stream",
     "text": [
      "Training accuracy 0.8648\n",
      "Testing accuracy 0.8440\n"
     ]
    }
   ],
   "source": [
    "print('Training accuracy {:.4f}'.format(model.score(X_train,y_train)))\n",
    "print('Testing accuracy {:.4f}'.format(model.score(X_test,y_test)))"
   ]
  },
  {
   "cell_type": "code",
   "execution_count": 67,
   "metadata": {},
   "outputs": [
    {
     "data": {
      "text/plain": [
       "array([0, 0, 0, ..., 0, 0, 0], dtype=int64)"
      ]
     },
     "execution_count": 67,
     "metadata": {},
     "output_type": "execute_result"
    }
   ],
   "source": [
    "preds = model.predict(X_test)\n",
    "preds"
   ]
  },
  {
   "cell_type": "code",
   "execution_count": 68,
   "metadata": {},
   "outputs": [
    {
     "data": {
      "text/plain": [
       "<AxesSubplot:title={'center':'Feature importance'}, xlabel='Feature importance', ylabel='Features'>"
      ]
     },
     "execution_count": 68,
     "metadata": {},
     "output_type": "execute_result"
    },
    {
     "data": {
      "image/png": "[encoded data removed]",
      "text/plain": [
       "<Figure size 720x360 with 1 Axes>"
      ]
     },
     "metadata": {
      "needs_background": "light"
     },
     "output_type": "display_data"
    }
   ],
   "source": [
    "plt.rcParams['figure.figsize']=10,5\n",
    "lgb.plot_importance(model)"
   ]
  },
  {
   "cell_type": "code",
   "execution_count": 69,
   "metadata": {},
   "outputs": [
    {
     "data": {
      "text/plain": [
       "((3358, 13), (3358,))"
      ]
     },
     "execution_count": 69,
     "metadata": {},
     "output_type": "execute_result"
    }
   ],
   "source": [
    "X_test.shape,y_test.shape"
   ]
  },
  {
   "cell_type": "code",
   "execution_count": 70,
   "metadata": {},
   "outputs": [
    {
     "data": {
      "text/plain": [
       "0    2591\n",
       "1     767\n",
       "Name: comment_isHigh, dtype: int64"
      ]
     },
     "execution_count": 70,
     "metadata": {},
     "output_type": "execute_result"
    }
   ],
   "source": [
    "y_test.value_counts()"
   ]
  },
  {
   "cell_type": "code",
   "execution_count": 71,
   "metadata": {},
   "outputs": [
    {
     "name": "stderr",
     "output_type": "stream",
     "text": [
      "C:\\Users\\Mike\\.conda\\envs\\NLP\\lib\\site-packages\\sklearn\\utils\\deprecation.py:87: FutureWarning: Function plot_confusion_matrix is deprecated; Function `plot_confusion_matrix` is deprecated in 1.0 and will be removed in 1.2. Use one of the class methods: ConfusionMatrixDisplay.from_predictions or ConfusionMatrixDisplay.from_estimator.\n",
      "  warnings.warn(msg, category=FutureWarning)\n"
     ]
    },
    {
     "data": {
      "text/plain": [
       "<sklearn.metrics._plot.confusion_matrix.ConfusionMatrixDisplay at 0x1ba073b5490>"
      ]
     },
     "execution_count": 71,
     "metadata": {},
     "output_type": "execute_result"
    },
    {
     "data": {
      "image/png": "[encoded data removed]",
      "text/plain": [
       "<Figure size 720x360 with 2 Axes>"
      ]
     },
     "metadata": {
      "needs_background": "light"
     },
     "output_type": "display_data"
    }
   ],
   "source": [
    "metrics.plot_confusion_matrix(model,X_test,y_test,cmap='Greens_r')\n",
    "# https://www.analyticsvidhya.com/blog/2021/06/confusion-matrix-for-multi-class-classification/"
   ]
  },
  {
   "cell_type": "code",
   "execution_count": 72,
   "metadata": {},
   "outputs": [
    {
     "data": {
      "text/plain": [
       "array([[0.96830138, 0.03169862],\n",
       "       [0.90382093, 0.09617907],\n",
       "       [0.83997774, 0.16002226],\n",
       "       ...,\n",
       "       [0.94017818, 0.05982182],\n",
       "       [0.97280369, 0.02719631],\n",
       "       [0.97182414, 0.02817586]])"
      ]
     },
     "execution_count": 72,
     "metadata": {},
     "output_type": "execute_result"
    }
   ],
   "source": [
    "# Predict Probababilities for X_test data with 0, 1 class order\n",
    "probas = model.predict_proba(X_test)\n",
    "probas"
   ]
  },
  {
   "cell_type": "code",
   "execution_count": 84,
   "metadata": {},
   "outputs": [],
   "source": [
    "probas_L = pd.Series(data=probas[:,0],name='proba_L',index=X_test.index)\n",
    "probas_H = pd.Series(data=probas[:,1],name='proba_H',index=X_test.index)\n",
    "\n",
    "X_test['probas_L'] = probas_L\n",
    "X_test['probas_H'] = probas_H\n",
    "\n",
    "X_test['comment_size_predict'] = preds\n",
    "X_test['comment_size_actual'] = y_test\n",
    "\n",
    "df_results = X_test"
   ]
  },
  {
   "cell_type": "code",
   "execution_count": 85,
   "metadata": {},
   "outputs": [
    {
     "data": {
      "text/plain": [
       "comment_size_predict  comment_size_actual\n",
       "0                     0                      2421\n",
       "1                     1                       413\n",
       "0                     1                       354\n",
       "1                     0                       170\n",
       "dtype: int64"
      ]
     },
     "execution_count": 85,
     "metadata": {},
     "output_type": "execute_result"
    }
   ],
   "source": [
    "df_results[['comment_size_predict','comment_size_actual']].value_counts()"
   ]
  },
  {
   "cell_type": "code",
   "execution_count": 86,
   "metadata": {},
   "outputs": [
    {
     "name": "stdout",
     "output_type": "stream",
     "text": [
      "              precision    recall  f1-score   support\n",
      "\n",
      "           0       0.87      0.93      0.90      2591\n",
      "           1       0.71      0.54      0.61       767\n",
      "\n",
      "    accuracy                           0.84      3358\n",
      "   macro avg       0.79      0.74      0.76      3358\n",
      "weighted avg       0.83      0.84      0.84      3358\n",
      "\n"
     ]
    }
   ],
   "source": [
    "print(classification_report(y_test,preds))"
   ]
  },
  {
   "cell_type": "markdown",
   "metadata": {},
   "source": [
    "# Calculate Lift"
   ]
  },
  {
   "cell_type": "code",
   "execution_count": 87,
   "metadata": {},
   "outputs": [
    {
     "data": {
      "text/html": [
       "<div>\n",
       "<style scoped>\n",
       "    .dataframe tbody tr th:only-of-type {\n",
       "        vertical-align: middle;\n",
       "    }\n",
       "\n",
       "    .dataframe tbody tr th {\n",
       "        vertical-align: top;\n",
       "    }\n",
       "\n",
       "    .dataframe thead th {\n",
       "        text-align: right;\n",
       "    }\n",
       "</style>\n",
       "<table border=\"1\" class=\"dataframe\">\n",
       "  <thead>\n",
       "    <tr style=\"text-align: right;\">\n",
       "      <th></th>\n",
       "      <th>10155</th>\n",
       "    </tr>\n",
       "  </thead>\n",
       "  <tbody>\n",
       "    <tr>\n",
       "      <th>TEXT_Keywords_POS_NOUN</th>\n",
       "      <td>5.000000</td>\n",
       "    </tr>\n",
       "    <tr>\n",
       "      <th>TEXT_Keywords_POS_PNOUN</th>\n",
       "      <td>17.000000</td>\n",
       "    </tr>\n",
       "    <tr>\n",
       "      <th>TEXT_Keywords_ENT_ORG</th>\n",
       "      <td>2.000000</td>\n",
       "    </tr>\n",
       "    <tr>\n",
       "      <th>TEXT_Keywords_ENT_NORP</th>\n",
       "      <td>0.000000</td>\n",
       "    </tr>\n",
       "    <tr>\n",
       "      <th>TEXT_Keywords_ENT_FAC</th>\n",
       "      <td>0.000000</td>\n",
       "    </tr>\n",
       "    <tr>\n",
       "      <th>TEXT_Keywords_ENT_GPE</th>\n",
       "      <td>0.000000</td>\n",
       "    </tr>\n",
       "    <tr>\n",
       "      <th>TEXT_Keywords_ENT_LOC</th>\n",
       "      <td>0.000000</td>\n",
       "    </tr>\n",
       "    <tr>\n",
       "      <th>TEXT_Keywords_ENT_PERSON</th>\n",
       "      <td>3.000000</td>\n",
       "    </tr>\n",
       "    <tr>\n",
       "      <th>word_count</th>\n",
       "      <td>1181.000000</td>\n",
       "    </tr>\n",
       "    <tr>\n",
       "      <th>section_num</th>\n",
       "      <td>25.000000</td>\n",
       "    </tr>\n",
       "    <tr>\n",
       "      <th>newsdesk_num</th>\n",
       "      <td>44.000000</td>\n",
       "    </tr>\n",
       "    <tr>\n",
       "      <th>material_num</th>\n",
       "      <td>4.000000</td>\n",
       "    </tr>\n",
       "    <tr>\n",
       "      <th>month</th>\n",
       "      <td>9.000000</td>\n",
       "    </tr>\n",
       "    <tr>\n",
       "      <th>probas_L</th>\n",
       "      <td>0.968301</td>\n",
       "    </tr>\n",
       "    <tr>\n",
       "      <th>probas_H</th>\n",
       "      <td>0.031699</td>\n",
       "    </tr>\n",
       "    <tr>\n",
       "      <th>comment_size_predict</th>\n",
       "      <td>0.000000</td>\n",
       "    </tr>\n",
       "    <tr>\n",
       "      <th>comment_size_actual</th>\n",
       "      <td>0.000000</td>\n",
       "    </tr>\n",
       "  </tbody>\n",
       "</table>\n",
       "</div>"
      ],
      "text/plain": [
       "                                10155\n",
       "TEXT_Keywords_POS_NOUN       5.000000\n",
       "TEXT_Keywords_POS_PNOUN     17.000000\n",
       "TEXT_Keywords_ENT_ORG        2.000000\n",
       "TEXT_Keywords_ENT_NORP       0.000000\n",
       "TEXT_Keywords_ENT_FAC        0.000000\n",
       "TEXT_Keywords_ENT_GPE        0.000000\n",
       "TEXT_Keywords_ENT_LOC        0.000000\n",
       "TEXT_Keywords_ENT_PERSON     3.000000\n",
       "word_count                1181.000000\n",
       "section_num                 25.000000\n",
       "newsdesk_num                44.000000\n",
       "material_num                 4.000000\n",
       "month                        9.000000\n",
       "probas_L                     0.968301\n",
       "probas_H                     0.031699\n",
       "comment_size_predict         0.000000\n",
       "comment_size_actual          0.000000"
      ]
     },
     "execution_count": 87,
     "metadata": {},
     "output_type": "execute_result"
    }
   ],
   "source": [
    "df_results.head(1).T"
   ]
  },
  {
   "cell_type": "code",
   "execution_count": 88,
   "metadata": {},
   "outputs": [],
   "source": [
    "df_lift = df_results.sort_values(by='probas_H',ascending=False)"
   ]
  },
  {
   "cell_type": "code",
   "execution_count": 89,
   "metadata": {},
   "outputs": [
    {
     "data": {
      "text/html": [
       "<div>\n",
       "<style scoped>\n",
       "    .dataframe tbody tr th:only-of-type {\n",
       "        vertical-align: middle;\n",
       "    }\n",
       "\n",
       "    .dataframe tbody tr th {\n",
       "        vertical-align: top;\n",
       "    }\n",
       "\n",
       "    .dataframe thead th {\n",
       "        text-align: right;\n",
       "    }\n",
       "</style>\n",
       "<table border=\"1\" class=\"dataframe\">\n",
       "  <thead>\n",
       "    <tr style=\"text-align: right;\">\n",
       "      <th></th>\n",
       "      <th>probas_L</th>\n",
       "      <th>probas_H</th>\n",
       "      <th>comment_size_predict</th>\n",
       "      <th>comment_size_actual</th>\n",
       "    </tr>\n",
       "  </thead>\n",
       "  <tbody>\n",
       "    <tr>\n",
       "      <th>944</th>\n",
       "      <td>0.042639</td>\n",
       "      <td>0.957361</td>\n",
       "      <td>1</td>\n",
       "      <td>1</td>\n",
       "    </tr>\n",
       "    <tr>\n",
       "      <th>1053</th>\n",
       "      <td>0.042848</td>\n",
       "      <td>0.957152</td>\n",
       "      <td>1</td>\n",
       "      <td>1</td>\n",
       "    </tr>\n",
       "    <tr>\n",
       "      <th>353</th>\n",
       "      <td>0.043396</td>\n",
       "      <td>0.956604</td>\n",
       "      <td>1</td>\n",
       "      <td>1</td>\n",
       "    </tr>\n",
       "    <tr>\n",
       "      <th>217</th>\n",
       "      <td>0.044086</td>\n",
       "      <td>0.955914</td>\n",
       "      <td>1</td>\n",
       "      <td>1</td>\n",
       "    </tr>\n",
       "    <tr>\n",
       "      <th>411</th>\n",
       "      <td>0.045024</td>\n",
       "      <td>0.954976</td>\n",
       "      <td>1</td>\n",
       "      <td>1</td>\n",
       "    </tr>\n",
       "    <tr>\n",
       "      <th>...</th>\n",
       "      <td>...</td>\n",
       "      <td>...</td>\n",
       "      <td>...</td>\n",
       "      <td>...</td>\n",
       "    </tr>\n",
       "    <tr>\n",
       "      <th>13430</th>\n",
       "      <td>0.995618</td>\n",
       "      <td>0.004382</td>\n",
       "      <td>0</td>\n",
       "      <td>0</td>\n",
       "    </tr>\n",
       "    <tr>\n",
       "      <th>12304</th>\n",
       "      <td>0.995866</td>\n",
       "      <td>0.004134</td>\n",
       "      <td>0</td>\n",
       "      <td>0</td>\n",
       "    </tr>\n",
       "    <tr>\n",
       "      <th>14715</th>\n",
       "      <td>0.995896</td>\n",
       "      <td>0.004104</td>\n",
       "      <td>0</td>\n",
       "      <td>0</td>\n",
       "    </tr>\n",
       "    <tr>\n",
       "      <th>15046</th>\n",
       "      <td>0.996451</td>\n",
       "      <td>0.003549</td>\n",
       "      <td>0</td>\n",
       "      <td>0</td>\n",
       "    </tr>\n",
       "    <tr>\n",
       "      <th>14268</th>\n",
       "      <td>0.996564</td>\n",
       "      <td>0.003436</td>\n",
       "      <td>0</td>\n",
       "      <td>0</td>\n",
       "    </tr>\n",
       "  </tbody>\n",
       "</table>\n",
       "<p>3358 rows × 4 columns</p>\n",
       "</div>"
      ],
      "text/plain": [
       "       probas_L  probas_H  comment_size_predict comment_size_actual\n",
       "944    0.042639  0.957361                     1                   1\n",
       "1053   0.042848  0.957152                     1                   1\n",
       "353    0.043396  0.956604                     1                   1\n",
       "217    0.044086  0.955914                     1                   1\n",
       "411    0.045024  0.954976                     1                   1\n",
       "...         ...       ...                   ...                 ...\n",
       "13430  0.995618  0.004382                     0                   0\n",
       "12304  0.995866  0.004134                     0                   0\n",
       "14715  0.995896  0.004104                     0                   0\n",
       "15046  0.996451  0.003549                     0                   0\n",
       "14268  0.996564  0.003436                     0                   0\n",
       "\n",
       "[3358 rows x 4 columns]"
      ]
     },
     "execution_count": 89,
     "metadata": {},
     "output_type": "execute_result"
    }
   ],
   "source": [
    "df_lift[['probas_L','probas_H','comment_size_predict','comment_size_actual']]"
   ]
  },
  {
   "cell_type": "code",
   "execution_count": 83,
   "metadata": {},
   "outputs": [],
   "source": [
    "df_allresults = X_test.sort_values(by='probas_H',ascending=False)\n",
    "df_allresults = pd.merge(df_articles,df_temp, how='left', left_on='uniqueID',right_on='uri',suffixes=['_left','_right'])\n",
    "\n",
    "# mergedDf = empDfObj.merge(salaryDfObj, left_index=True, right_index=True)"
   ]
  },
  {
   "cell_type": "code",
   "execution_count": 82,
   "metadata": {},
   "outputs": [
    {
     "data": {
      "text/plain": [
       "newsdesk                                                                 OpEd\n",
       "section                                                               Opinion\n",
       "material                                                                Op-Ed\n",
       "abstract                            They’ve become unrevealing quip contests.\n",
       "keywords                    ['Presidential Election of 2020', 'Presidentia...\n",
       "word_count                                                                883\n",
       "pub_date                                            2020-08-03 09:00:18+00:00\n",
       "n_comments                                                               1263\n",
       "uniqueID                    nyt://article/4631e1ae-4d14-5dc6-9439-b02b68d5...\n",
       "lead_paragraph              Nervous managers of the scheduled 2020 preside...\n",
       "month                                                                       8\n",
       "TEXT_Keywords_POS_NOUN                                                      0\n",
       "TEXT_Keywords_POS_PNOUN                                                    21\n",
       "TEXT_Keywords_ENT_ORG                                                       1\n",
       "TEXT_Keywords_ENT_NORP                                                      0\n",
       "TEXT_Keywords_ENT_FAC                                                       0\n",
       "TEXT_Keywords_ENT_GPE                                                       0\n",
       "TEXT_Keywords_ENT_LOC                                                       0\n",
       "TEXT_Keywords_ENT_PERSON                                                    6\n",
       "comment_isHigh                                                              1\n",
       "newsdesk_num                                                               34\n",
       "section_num                                                                18\n",
       "material_num                                                                7\n",
       "Name: 944, dtype: object"
      ]
     },
     "execution_count": 82,
     "metadata": {},
     "output_type": "execute_result"
    }
   ],
   "source": [
    "df_articles.iloc[944]"
   ]
  },
  {
   "cell_type": "code",
   "execution_count": null,
   "metadata": {},
   "outputs": [],
   "source": []
  },
  {
   "cell_type": "code",
   "execution_count": 232,
   "metadata": {},
   "outputs": [
    {
     "data": {
      "text/plain": [
       "<AxesSubplot:xlabel='word_count', ylabel='Count'>"
      ]
     },
     "execution_count": 232,
     "metadata": {},
     "output_type": "execute_result"
    },
    {
     "data": {
      "image/png": "[encoded data removed]",
      "text/plain": [
       "<Figure size 432x288 with 1 Axes>"
      ]
     },
     "metadata": {
      "needs_background": "light"
     },
     "output_type": "display_data"
    }
   ],
   "source": [
    "sns.histplot(df_lift.iloc[0:100],x='word_count')"
   ]
  },
  {
   "cell_type": "markdown",
   "metadata": {},
   "source": [
    "### Calculate Model Lift"
   ]
  },
  {
   "cell_type": "code",
   "execution_count": 132,
   "metadata": {},
   "outputs": [],
   "source": [
    "# https://towardsdatascience.com/model-lift-the-missing-link-70eb37460e67\n",
    "def generate_lift(df):\n",
    "\n",
    "    # Rename columns for af_scoring column\n",
    "    df_score = df[['comment_size_predict','probas_L','probas_H']].rename(columns={\"comment_size_predict\": \"Target\", \n",
    "                                                                                    \"probas_L\": \"PR_0\", \n",
    "                                                                                    \"probas_H\": \"PR_1\"}, errors=\"raise\")\n",
    "    #  Make numeric scoring groups 1 to bin size           \n",
    "    bins = 10                                         \n",
    "    df_score['scoring_group'] = pd.qcut(df_score['PR_0'],bins,labels=False)+1\n",
    "\n",
    "    print(df_score)\n",
    "\n",
    "    # Find the max proba for H in each set\n",
    "    prob_H_list = []\n",
    "    for _ in range(1,11):\n",
    "        prob_H_list.append(df_score[df_score['scoring_group'] == _]['PR_1'].max())\n",
    "\n",
    "\n",
    "    df_lift = pd.crosstab(df_score['scoring_group'], df_score['Target']).reset_index()\n",
    "    df_lift = df_lift.rename(columns= {'Target':'Np', \n",
    "                                        0: '0', \n",
    "                                        1: '1'})\n",
    "\n",
    "\n",
    "\n",
    "    \n",
    "    # Sum of ones and zeros\n",
    "    zeros_sum = df_lift['0'].sum()\n",
    "    ones_sum = df_lift['1'].sum()\n",
    "    avg_resp_rate = ones_sum/(ones_sum+zeros_sum)\n",
    "\n",
    "    # Proportion of '1's in a bin\n",
    "    # Round to two decimals\n",
    "    df_lift['Data %'] = ['10%','20%','30%','40%','50%','60%','70%','80%','90%','100%']\n",
    "    df_lift['response_rate'] = round(df_lift['1'] / (df_lift['1'] + df_lift['0']),2)\n",
    "\n",
    "    # Calculate Lift, which is factor better than choosing articles randomly\n",
    "    df_lift['lift'] = round((df_lift['response_rate'] / avg_resp_rate),2)\n",
    "    df_lift['max_prob_H'] = prob_H_list\n",
    "    df_lift['rand_resp'] = 1 / bins\n",
    "    df_lift['cmltv_p'] = round((df_lift['1']).cumsum(),2)\n",
    "\n",
    "    # Cumulative % of positives\n",
    "    df_lift['cmltv_p_perc'] = round(((df_lift['1'] / ones_sum).cumsum())*100,1)\n",
    "    df_lift['cmltv_n'] = round((df_lift['0']).cumsum(),2)  \n",
    "    # Cumulative % of negatives\n",
    "    df_lift['cmltv_n_perc'] = round(((df_lift['0'] / zeros_sum).cumsum())*100,1)   \n",
    "    # cumulative Random % positive\n",
    "    df_lift['cmltv_rand_p_perc'] = (df_lift.rand_resp.cumsum())*100\n",
    "    # Cumulative Response Rate\n",
    "    df_lift['cmltv_resp_rate'] = round(df_lift['cmltv_p'] / (df_lift['cmltv_p']+df_lift['cmltv_n']),2)   \n",
    "    # Cumulative Lift\n",
    "    df_lift['cmltv_lift'] = round(df_lift['cmltv_resp_rate'] / avg_resp_rate,2)\n",
    "    # Kolmogorov-Smirnov Test\n",
    "    df_lift['KS'] = round(df_lift['cmltv_p_perc'] - df_lift['cmltv_rand_p_perc'],2)\n",
    "    \n",
    "    df_lift = df_lift.drop(['rand_resp','cmltv_p','cmltv_n'], axis=1)\n",
    "    \n",
    "\n",
    "    \n",
    "    print('average response rate: ' , avg_resp_rate)\n",
    "    return df_lift"
   ]
  },
  {
   "cell_type": "code",
   "execution_count": 135,
   "metadata": {},
   "outputs": [
    {
     "name": "stdout",
     "output_type": "stream",
     "text": [
      "       Target      PR_0      PR_1  scoring_group\n",
      "944         1  0.042639  0.957361              1\n",
      "1053        1  0.042848  0.957152              1\n",
      "353         1  0.043396  0.956604              1\n",
      "217         1  0.044086  0.955914              1\n",
      "411         1  0.045024  0.954976              1\n",
      "...       ...       ...       ...            ...\n",
      "13430       0  0.995618  0.004382             10\n",
      "12304       0  0.995866  0.004134             10\n",
      "14715       0  0.995896  0.004104             10\n",
      "15046       0  0.996451  0.003549             10\n",
      "14268       0  0.996564  0.003436             10\n",
      "\n",
      "[3358 rows x 4 columns]\n",
      "average response rate:  0.17361524717093507\n"
     ]
    },
    {
     "data": {
      "text/html": [
       "<div>\n",
       "<style scoped>\n",
       "    .dataframe tbody tr th:only-of-type {\n",
       "        vertical-align: middle;\n",
       "    }\n",
       "\n",
       "    .dataframe tbody tr th {\n",
       "        vertical-align: top;\n",
       "    }\n",
       "\n",
       "    .dataframe thead th {\n",
       "        text-align: right;\n",
       "    }\n",
       "</style>\n",
       "<table border=\"1\" class=\"dataframe\">\n",
       "  <thead>\n",
       "    <tr style=\"text-align: right;\">\n",
       "      <th>Target</th>\n",
       "      <th>scoring_group</th>\n",
       "      <th>0</th>\n",
       "      <th>1</th>\n",
       "      <th>Data %</th>\n",
       "      <th>response_rate</th>\n",
       "      <th>lift</th>\n",
       "      <th>max_prob_H</th>\n",
       "      <th>cmltv_p_perc</th>\n",
       "      <th>cmltv_n_perc</th>\n",
       "      <th>cmltv_rand_p_perc</th>\n",
       "      <th>cmltv_resp_rate</th>\n",
       "      <th>cmltv_lift</th>\n",
       "      <th>KS</th>\n",
       "    </tr>\n",
       "  </thead>\n",
       "  <tbody>\n",
       "    <tr>\n",
       "      <th>0</th>\n",
       "      <td>1</td>\n",
       "      <td>0</td>\n",
       "      <td>336</td>\n",
       "      <td>10%</td>\n",
       "      <td>1.00</td>\n",
       "      <td>5.76</td>\n",
       "      <td>0.957361</td>\n",
       "      <td>57.6</td>\n",
       "      <td>0.0</td>\n",
       "      <td>10.0</td>\n",
       "      <td>1.00</td>\n",
       "      <td>5.76</td>\n",
       "      <td>47.6</td>\n",
       "    </tr>\n",
       "    <tr>\n",
       "      <th>1</th>\n",
       "      <td>2</td>\n",
       "      <td>89</td>\n",
       "      <td>247</td>\n",
       "      <td>20%</td>\n",
       "      <td>0.74</td>\n",
       "      <td>4.26</td>\n",
       "      <td>0.682087</td>\n",
       "      <td>100.0</td>\n",
       "      <td>3.2</td>\n",
       "      <td>20.0</td>\n",
       "      <td>0.87</td>\n",
       "      <td>5.01</td>\n",
       "      <td>80.0</td>\n",
       "    </tr>\n",
       "    <tr>\n",
       "      <th>2</th>\n",
       "      <td>3</td>\n",
       "      <td>336</td>\n",
       "      <td>0</td>\n",
       "      <td>30%</td>\n",
       "      <td>0.00</td>\n",
       "      <td>0.00</td>\n",
       "      <td>0.446303</td>\n",
       "      <td>100.0</td>\n",
       "      <td>15.3</td>\n",
       "      <td>30.0</td>\n",
       "      <td>0.58</td>\n",
       "      <td>3.34</td>\n",
       "      <td>70.0</td>\n",
       "    </tr>\n",
       "  </tbody>\n",
       "</table>\n",
       "</div>"
      ],
      "text/plain": [
       "Target  scoring_group    0    1 Data %  response_rate  lift  max_prob_H  \\\n",
       "0                   1    0  336    10%           1.00  5.76    0.957361   \n",
       "1                   2   89  247    20%           0.74  4.26    0.682087   \n",
       "2                   3  336    0    30%           0.00  0.00    0.446303   \n",
       "\n",
       "Target  cmltv_p_perc  cmltv_n_perc  cmltv_rand_p_perc  cmltv_resp_rate  \\\n",
       "0               57.6           0.0               10.0             1.00   \n",
       "1              100.0           3.2               20.0             0.87   \n",
       "2              100.0          15.3               30.0             0.58   \n",
       "\n",
       "Target  cmltv_lift    KS  \n",
       "0             5.76  47.6  \n",
       "1             5.01  80.0  \n",
       "2             3.34  70.0  "
      ]
     },
     "execution_count": 135,
     "metadata": {},
     "output_type": "execute_result"
    }
   ],
   "source": [
    "df_lift_results = generate_lift(df_lift)\n",
    "df_lift_results.iloc[0:3]"
   ]
  },
  {
   "cell_type": "markdown",
   "metadata": {},
   "source": [
    "### Plot Model Lift"
   ]
  },
  {
   "cell_type": "code",
   "execution_count": 123,
   "metadata": {},
   "outputs": [
    {
     "data": {
      "text/plain": [
       "Text(0, 0.5, 'Lift Ratio')"
      ]
     },
     "execution_count": 123,
     "metadata": {},
     "output_type": "execute_result"
    },
    {
     "data": {
      "image/png": "[encoded data removed]",
      "text/plain": [
       "<Figure size 1080x720 with 1 Axes>"
      ]
     },
     "metadata": {
      "needs_background": "light"
     },
     "output_type": "display_data"
    }
   ],
   "source": [
    "plt.figure(figsize=(15, 10))\n",
    "plot = sns.lineplot(data=df_lift_results,y='cmltv_lift',x='scoring_group')\n",
    "plot.set_title('Cumulative Lift vs Decile', fontdict={'fontsize':18}, pad=16)\n",
    "plt.xticks(df_lift_results['scoring_group'],['10%','20%','30%','40%','50%','60%','70%','80%','90%','100%']);\n",
    "plot.set_xlabel(\"Percentage of Data\", fontsize = 20)\n",
    "plot.set_ylabel(\"Lift Ratio\", fontsize = 20)"
   ]
  },
  {
   "cell_type": "code",
   "execution_count": null,
   "metadata": {},
   "outputs": [],
   "source": []
  }
 ],
 "metadata": {
  "interpreter": {
   "hash": "ecaab7e4f2054dc1b3b08bfc690ea1c3d11e0c83265adf695ac1706ca10c6a57"
  },
  "kernelspec": {
   "display_name": "Python 3.9.7 64-bit ('NLP': conda)",
   "language": "python",
   "name": "python3"
  },
  "language_info": {
   "codemirror_mode": {
    "name": "ipython",
    "version": 3
   },
   "file_extension": ".py",
   "mimetype": "text/x-python",
   "name": "python",
   "nbconvert_exporter": "python",
   "pygments_lexer": "ipython3",
   "version": "3.9.7"
  },
  "orig_nbformat": 4
 },
 "nbformat": 4,
 "nbformat_minor": 2
}
