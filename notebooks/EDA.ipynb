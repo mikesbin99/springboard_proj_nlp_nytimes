{
 "cells": [
  {
   "cell_type": "markdown",
   "metadata": {},
   "source": [
    "# Visualization of Articles"
   ]
  },
  {
   "cell_type": "code",
   "execution_count": 17,
   "metadata": {},
   "outputs": [],
   "source": [
    "import pandas as pd\n",
    "import numpy as np\n",
    "\n",
    "import seaborn as sns\n",
    "import matplotlib.pyplot as plt\n",
    "import plotly as plty\n",
    "\n",
    "import missingno as msno\n",
    "\n",
    "from wordcloud import WordCloud\n",
    "from pandas_profiling import ProfileReport\n"
   ]
  },
  {
   "cell_type": "markdown",
   "metadata": {},
   "source": [
    "# Load Either Full Data or Sample"
   ]
  },
  {
   "cell_type": "code",
   "execution_count": null,
   "metadata": {},
   "outputs": [],
   "source": [
    "# Load Data\n",
    "df_test = pd.read_pickle('..//data//raw//df_test.pkl')\n",
    "df_train = pd.read_pickle('..//data//raw//df_train.pkl')\n",
    "df_comments = pd.read_pickle('..//data//raw//df_comments.pkl')\n",
    "df_articles = pd.read_pickle('..//data//raw//df_articles.pkl')"
   ]
  },
  {
   "cell_type": "code",
   "execution_count": 18,
   "metadata": {},
   "outputs": [],
   "source": [
    "# Load Smple\n",
    "df_test = pd.read_pickle('..//data//processed//df_test_sample.pkl')\n",
    "df_train = pd.read_pickle('..//data//processed//df_train_sample.pkl')\n",
    "df_comments = pd.read_pickle('..//data//processed//df_comments_sample.pkl')\n",
    "df_articles = pd.read_pickle('..//data//processed//df_articles_sample.pkl')"
   ]
  },
  {
   "cell_type": "markdown",
   "metadata": {},
   "source": [
    "# Generate Pandas Profiles for EDA"
   ]
  },
  {
   "cell_type": "code",
   "execution_count": null,
   "metadata": {},
   "outputs": [],
   "source": [
    "profile_test = ProfileReport(df_test, title=\"New York Times - Test Dataframe\")\n",
    "profile_train = ProfileReport(df_train, title=\"New York Times - Train Dataframe\")\n",
    "\n",
    "profile_articles = ProfileReport(df_articles, title=\"New York Times - Articles Dataframe\")\n",
    "\n",
    "profile_test.to_file('..//reports//figures//EDA_Test.html')\n",
    "profile_train.to_file('..//reports//figures//EDA_Train.html')\n",
    "profile_articles.to_file('..//reports//figures//EDA_Articles.html')\n"
   ]
  },
  {
   "cell_type": "code",
   "execution_count": 19,
   "metadata": {},
   "outputs": [
    {
     "name": "stderr",
     "output_type": "stream",
     "text": [
      "Summarize dataset: 100%|██████████| 30/30 [00:02<00:00, 10.83it/s, Completed]\n",
      "Generate report structure: 100%|██████████| 1/1 [00:04<00:00,  4.06s/it]\n",
      "Render HTML: 100%|██████████| 1/1 [00:00<00:00,  1.86it/s]\n",
      "Export report to file: 100%|██████████| 1/1 [00:00<00:00,  1.73it/s]\n"
     ]
    }
   ],
   "source": [
    "# This is LARGE and only a sample\n",
    "profile_comments = ProfileReport(df_comments, title=\"New York Times - Comments Dataframe\",minimal=True)\n",
    "profile_comments.to_file('..//reports//figures//EDA_Comments.html')"
   ]
  },
  {
   "cell_type": "markdown",
   "metadata": {},
   "source": [
    "Insights\n",
    "    Articles\n",
    "        - \n",
    "\n",
    "    Comments\n"
   ]
  },
  {
   "cell_type": "code",
   "execution_count": null,
   "metadata": {},
   "outputs": [],
   "source": [
    "df_test.info()"
   ]
  },
  {
   "cell_type": "code",
   "execution_count": null,
   "metadata": {},
   "outputs": [],
   "source": [
    "msno.matrix(df_test)"
   ]
  },
  {
   "cell_type": "code",
   "execution_count": null,
   "metadata": {},
   "outputs": [],
   "source": [
    "df_train.info()"
   ]
  },
  {
   "cell_type": "code",
   "execution_count": null,
   "metadata": {},
   "outputs": [],
   "source": [
    "msno.matrix(df_train)"
   ]
  },
  {
   "cell_type": "markdown",
   "metadata": {},
   "source": []
  },
  {
   "cell_type": "code",
   "execution_count": null,
   "metadata": {},
   "outputs": [],
   "source": [
    "df_articles.info()"
   ]
  },
  {
   "cell_type": "code",
   "execution_count": null,
   "metadata": {},
   "outputs": [],
   "source": [
    "msno.matrix(df_articles)"
   ]
  },
  {
   "cell_type": "code",
   "execution_count": null,
   "metadata": {},
   "outputs": [],
   "source": [
    "sns.pairplot(df_articles)"
   ]
  },
  {
   "cell_type": "code",
   "execution_count": null,
   "metadata": {},
   "outputs": [],
   "source": [
    "df_articles.iloc[0]"
   ]
  },
  {
   "cell_type": "markdown",
   "metadata": {},
   "source": [
    "# Comments"
   ]
  },
  {
   "cell_type": "code",
   "execution_count": null,
   "metadata": {},
   "outputs": [],
   "source": [
    "profile = ProfileReport(df_comments, title=\"New York Times Comments\")\n",
    "profile.to_file('..//reports//figures//pp_Comments.html')"
   ]
  },
  {
   "cell_type": "code",
   "execution_count": null,
   "metadata": {},
   "outputs": [],
   "source": [
    "df_comments.info()"
   ]
  },
  {
   "cell_type": "code",
   "execution_count": null,
   "metadata": {},
   "outputs": [],
   "source": [
    "df_comments['status'].unique()"
   ]
  },
  {
   "cell_type": "code",
   "execution_count": null,
   "metadata": {},
   "outputs": [],
   "source": [
    "len(df_comments['commentID'].unique())"
   ]
  },
  {
   "cell_type": "code",
   "execution_count": null,
   "metadata": {},
   "outputs": [],
   "source": [
    "len(df_comments['commentSequence'].unique())"
   ]
  },
  {
   "cell_type": "code",
   "execution_count": null,
   "metadata": {},
   "outputs": [],
   "source": [
    "len(df_comments['userID'].unique())"
   ]
  },
  {
   "cell_type": "markdown",
   "metadata": {},
   "source": [
    "There are repeat customers"
   ]
  },
  {
   "cell_type": "code",
   "execution_count": null,
   "metadata": {},
   "outputs": [],
   "source": [
    "df_comments['value_']"
   ]
  },
  {
   "cell_type": "code",
   "execution_count": null,
   "metadata": {},
   "outputs": [],
   "source": [
    "# Missing\n",
    "msno.matrix(df_comments)"
   ]
  },
  {
   "cell_type": "code",
   "execution_count": null,
   "metadata": {},
   "outputs": [],
   "source": [
    "# This was inconsequential\n",
    "#sns.pairplot(df_comments[['recommendations','replyCount','depth','trusted','recommendedFlag']])"
   ]
  },
  {
   "cell_type": "code",
   "execution_count": null,
   "metadata": {},
   "outputs": [],
   "source": [
    "df_comments.iloc[15]"
   ]
  },
  {
   "cell_type": "code",
   "execution_count": null,
   "metadata": {},
   "outputs": [],
   "source": [
    "df_comments[df_comments['commentID'] == 104388469]"
   ]
  },
  {
   "cell_type": "code",
   "execution_count": null,
   "metadata": {},
   "outputs": [],
   "source": [
    "df_comments.iloc[15]['commentBody']"
   ]
  },
  {
   "cell_type": "code",
   "execution_count": null,
   "metadata": {},
   "outputs": [],
   "source": [
    "plt.imshow(wordcloud, interpolation='bilinear')\n",
    "plt.axis('off')\n",
    "wordcloud = WordCloud().generate(df_comments.iloc[15]['commentBody'])\n",
    "plt.figure()"
   ]
  },
  {
   "cell_type": "markdown",
   "metadata": {},
   "source": [
    "# Comment Investigation"
   ]
  },
  {
   "cell_type": "markdown",
   "metadata": {},
   "source": [
    "To Investigate\n",
    "-   Comments\n",
    "    - commentType: is 1 of three categories (comment, userReply or reporterReply)\n",
    "    - commentBody - There is no classification of article, this is the comment text\n",
    "        - IDEA : Sentiment Analysis here\n",
    "    - userID : There are some repeats here\n",
    "    - recommendations :\n",
    "    - replyCount : \n",
    "    - editorsSelection : Almost entirely False\n",
    "    - depth\n",
    "- Model Ideas - Text Classification\n",
    "    - Naive Bayes for classifier\n",
    "    - Logistic Regression\n",
    "    - SVM\n",
    "    - Sentiment Analysis\n",
    "    - Keyphrase extraction\n",
    "- Summarizer - Get the jist of the comment"
   ]
  },
  {
   "cell_type": "markdown",
   "metadata": {},
   "source": []
  }
 ],
 "metadata": {
  "interpreter": {
   "hash": "ecaab7e4f2054dc1b3b08bfc690ea1c3d11e0c83265adf695ac1706ca10c6a57"
  },
  "kernelspec": {
   "display_name": "Python 3.9.7 64-bit ('NLP': conda)",
   "language": "python",
   "name": "python3"
  },
  "language_info": {
   "codemirror_mode": {
    "name": "ipython",
    "version": 3
   },
   "file_extension": ".py",
   "mimetype": "text/x-python",
   "name": "python",
   "nbconvert_exporter": "python",
   "pygments_lexer": "ipython3",
   "version": "3.9.7"
  },
  "orig_nbformat": 4
 },
 "nbformat": 4,
 "nbformat_minor": 2
}
