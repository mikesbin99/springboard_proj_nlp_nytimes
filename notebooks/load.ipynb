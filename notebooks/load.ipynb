{
 "cells": [
  {
   "cell_type": "markdown",
   "metadata": {},
   "source": [
    "# Data Loading"
   ]
  },
  {
   "cell_type": "code",
   "execution_count": 1,
   "metadata": {},
   "outputs": [],
   "source": [
    "import pandas as pd\n",
    "import missingno as msno\n",
    "\n",
    "join_comments = True\n",
    "join_raw_article = True"
   ]
  },
  {
   "cell_type": "markdown",
   "metadata": {},
   "source": [
    "## Load Training Data / Write to Pickle"
   ]
  },
  {
   "cell_type": "code",
   "execution_count": 2,
   "metadata": {},
   "outputs": [
    {
     "data": {
      "text/html": [
       "<div>\n",
       "<style scoped>\n",
       "    .dataframe tbody tr th:only-of-type {\n",
       "        vertical-align: middle;\n",
       "    }\n",
       "\n",
       "    .dataframe tbody tr th {\n",
       "        vertical-align: top;\n",
       "    }\n",
       "\n",
       "    .dataframe thead th {\n",
       "        text-align: right;\n",
       "    }\n",
       "</style>\n",
       "<table border=\"1\" class=\"dataframe\">\n",
       "  <thead>\n",
       "    <tr style=\"text-align: right;\">\n",
       "      <th></th>\n",
       "      <th>newsdesk</th>\n",
       "      <th>section</th>\n",
       "      <th>subsection</th>\n",
       "      <th>material</th>\n",
       "      <th>headline</th>\n",
       "      <th>abstract</th>\n",
       "      <th>keywords</th>\n",
       "      <th>word_count</th>\n",
       "      <th>pub_date</th>\n",
       "      <th>is_popular</th>\n",
       "      <th>n_comments</th>\n",
       "      <th>uniqueID</th>\n",
       "    </tr>\n",
       "  </thead>\n",
       "  <tbody>\n",
       "    <tr>\n",
       "      <th>0</th>\n",
       "      <td>Editorial</td>\n",
       "      <td>Opinion</td>\n",
       "      <td>NaN</td>\n",
       "      <td>Editorial</td>\n",
       "      <td>Protect Veterans From Fraud</td>\n",
       "      <td>Congress could do much more to protect America...</td>\n",
       "      <td>['Veterans', 'For-Profit Schools', 'Financial ...</td>\n",
       "      <td>680</td>\n",
       "      <td>2020-01-01 00:18:54+00:00</td>\n",
       "      <td>1</td>\n",
       "      <td>186</td>\n",
       "      <td>nyt://article/69a7090b-9f36-569e-b5ab-b0ba5bb3...</td>\n",
       "    </tr>\n",
       "  </tbody>\n",
       "</table>\n",
       "</div>"
      ],
      "text/plain": [
       "    newsdesk  section subsection   material                     headline  \\\n",
       "0  Editorial  Opinion        NaN  Editorial  Protect Veterans From Fraud   \n",
       "\n",
       "                                            abstract  \\\n",
       "0  Congress could do much more to protect America...   \n",
       "\n",
       "                                            keywords  word_count  \\\n",
       "0  ['Veterans', 'For-Profit Schools', 'Financial ...         680   \n",
       "\n",
       "                   pub_date  is_popular  n_comments  \\\n",
       "0 2020-01-01 00:18:54+00:00           1         186   \n",
       "\n",
       "                                            uniqueID  \n",
       "0  nyt://article/69a7090b-9f36-569e-b5ab-b0ba5bb3...  "
      ]
     },
     "execution_count": 2,
     "metadata": {},
     "output_type": "execute_result"
    }
   ],
   "source": [
    "# Load Train\n",
    "df_train = pd.read_csv('..//data//raw//train.csv',parse_dates=['pub_date'])\n",
    "df_train.sort_values(by='pub_date',inplace=True,ascending=True)\n",
    "df_train.to_pickle('..//data//raw//df_train.pkl')\n",
    "df_train.head(1)"
   ]
  },
  {
   "cell_type": "markdown",
   "metadata": {},
   "source": [
    "## Create Sample Set from train for testing"
   ]
  },
  {
   "cell_type": "code",
   "execution_count": 3,
   "metadata": {},
   "outputs": [],
   "source": [
    "df_sample = df_train.sample(frac=0.2)\n",
    "df_sample.to_csv('..//data//processed//df_train_sample.csv')\n",
    "df_sample.to_pickle('..//data//processed//df_train_sample.pkl')"
   ]
  },
  {
   "cell_type": "markdown",
   "metadata": {},
   "source": [
    "## Load Test / Write to Pickle"
   ]
  },
  {
   "cell_type": "code",
   "execution_count": 4,
   "metadata": {},
   "outputs": [
    {
     "data": {
      "text/html": [
       "<div>\n",
       "<style scoped>\n",
       "    .dataframe tbody tr th:only-of-type {\n",
       "        vertical-align: middle;\n",
       "    }\n",
       "\n",
       "    .dataframe tbody tr th {\n",
       "        vertical-align: top;\n",
       "    }\n",
       "\n",
       "    .dataframe thead th {\n",
       "        text-align: right;\n",
       "    }\n",
       "</style>\n",
       "<table border=\"1\" class=\"dataframe\">\n",
       "  <thead>\n",
       "    <tr style=\"text-align: right;\">\n",
       "      <th></th>\n",
       "      <th>newsdesk</th>\n",
       "      <th>section</th>\n",
       "      <th>subsection</th>\n",
       "      <th>material</th>\n",
       "      <th>headline</th>\n",
       "      <th>abstract</th>\n",
       "      <th>keywords</th>\n",
       "      <th>word_count</th>\n",
       "      <th>pub_date</th>\n",
       "      <th>is_popular</th>\n",
       "      <th>uniqueID</th>\n",
       "    </tr>\n",
       "  </thead>\n",
       "  <tbody>\n",
       "    <tr>\n",
       "      <th>0</th>\n",
       "      <td>OpEd</td>\n",
       "      <td>Opinion</td>\n",
       "      <td>NaN</td>\n",
       "      <td>Op-Ed</td>\n",
       "      <td>Anyone Else Want to See Trump ‘Shut Up’?</td>\n",
       "      <td>Our president as a terrible toddler.</td>\n",
       "      <td>['Presidential Election of 2020', 'Biden, Jose...</td>\n",
       "      <td>925</td>\n",
       "      <td>2020-10-01 00:05:51+00:00</td>\n",
       "      <td>1</td>\n",
       "      <td>nyt://article/e467c2ae-2df3-5836-a6ca-b23d0d33...</td>\n",
       "    </tr>\n",
       "  </tbody>\n",
       "</table>\n",
       "</div>"
      ],
      "text/plain": [
       "  newsdesk  section subsection material  \\\n",
       "0     OpEd  Opinion        NaN    Op-Ed   \n",
       "\n",
       "                                   headline  \\\n",
       "0  Anyone Else Want to See Trump ‘Shut Up’?   \n",
       "\n",
       "                               abstract  \\\n",
       "0  Our president as a terrible toddler.   \n",
       "\n",
       "                                            keywords  word_count  \\\n",
       "0  ['Presidential Election of 2020', 'Biden, Jose...         925   \n",
       "\n",
       "                   pub_date  is_popular  \\\n",
       "0 2020-10-01 00:05:51+00:00           1   \n",
       "\n",
       "                                            uniqueID  \n",
       "0  nyt://article/e467c2ae-2df3-5836-a6ca-b23d0d33...  "
      ]
     },
     "execution_count": 4,
     "metadata": {},
     "output_type": "execute_result"
    }
   ],
   "source": [
    "# Load Test\n",
    "df_test = pd.read_csv('..//data//raw//test.csv',parse_dates=['pub_date'])\n",
    "df_test.sort_values(by='pub_date',inplace=True,ascending=True)\n",
    "df_test.to_pickle('..//data//raw//df_test.pkl')\n",
    "df_test.head(1)"
   ]
  },
  {
   "cell_type": "code",
   "execution_count": 5,
   "metadata": {},
   "outputs": [],
   "source": [
    "df_sample = df_test.sample(frac=0.2)\n",
    "df_sample.to_csv('..//data//processed//df_test_sample.csv')\n",
    "df_sample.to_pickle('..//data//processed//df_test_sample.pkl')"
   ]
  },
  {
   "cell_type": "code",
   "execution_count": 6,
   "metadata": {},
   "outputs": [
    {
     "name": "stdout",
     "output_type": "stream",
     "text": [
      "<class 'pandas.core.frame.DataFrame'>\n",
      "Int64Index: 3995 entries, 0 to 3994\n",
      "Data columns (total 11 columns):\n",
      " #   Column      Non-Null Count  Dtype              \n",
      "---  ------      --------------  -----              \n",
      " 0   newsdesk    3995 non-null   object             \n",
      " 1   section     3995 non-null   object             \n",
      " 2   subsection  1426 non-null   object             \n",
      " 3   material    3995 non-null   object             \n",
      " 4   headline    3995 non-null   object             \n",
      " 5   abstract    3995 non-null   object             \n",
      " 6   keywords    3995 non-null   object             \n",
      " 7   word_count  3995 non-null   int64              \n",
      " 8   pub_date    3995 non-null   datetime64[ns, UTC]\n",
      " 9   is_popular  3995 non-null   int64              \n",
      " 10  uniqueID    3995 non-null   object             \n",
      "dtypes: datetime64[ns, UTC](1), int64(2), object(8)\n",
      "memory usage: 374.5+ KB\n"
     ]
    }
   ],
   "source": [
    "df_test.info()"
   ]
  },
  {
   "cell_type": "markdown",
   "metadata": {},
   "source": [
    "## Load NYT Articles and Pickle\n",
    "(This is the whole list (not train and test split)"
   ]
  },
  {
   "cell_type": "code",
   "execution_count": 7,
   "metadata": {},
   "outputs": [
    {
     "name": "stdout",
     "output_type": "stream",
     "text": [
      "<class 'pandas.core.frame.DataFrame'>\n",
      "Int64Index: 16787 entries, 0 to 16786\n",
      "Data columns (total 11 columns):\n",
      " #   Column      Non-Null Count  Dtype              \n",
      "---  ------      --------------  -----              \n",
      " 0   newsdesk    16787 non-null  object             \n",
      " 1   section     16787 non-null  object             \n",
      " 2   subsection  5693 non-null   object             \n",
      " 3   material    16787 non-null  object             \n",
      " 4   headline    16787 non-null  object             \n",
      " 5   abstract    16784 non-null  object             \n",
      " 6   keywords    16786 non-null  object             \n",
      " 7   word_count  16787 non-null  int64              \n",
      " 8   pub_date    16787 non-null  datetime64[ns, UTC]\n",
      " 9   n_comments  16787 non-null  int64              \n",
      " 10  uniqueID    16787 non-null  object             \n",
      "dtypes: datetime64[ns, UTC](1), int64(2), object(8)\n",
      "memory usage: 1.5+ MB\n"
     ]
    }
   ],
   "source": [
    "df_articles = pd.read_csv('..//data//raw//nyt-articles-2020.csv',parse_dates=['pub_date'])\n",
    "df_articles.sort_values(by='pub_date',inplace=True,ascending=True)\n",
    "df_articles.to_pickle('..//data//raw//df_articles.pkl')\n",
    "df_articles.info()"
   ]
  },
  {
   "cell_type": "markdown",
   "metadata": {},
   "source": [
    "## Create Sample for Testing"
   ]
  },
  {
   "cell_type": "code",
   "execution_count": 8,
   "metadata": {},
   "outputs": [],
   "source": [
    "df_sample = df_articles.sample(frac=0.05)\n",
    "df_sample.to_csv('..//data//processed//df_articles_sample.csv')\n",
    "df_sample.to_pickle('..//data//processed//df_articles_sample.pkl')"
   ]
  },
  {
   "cell_type": "markdown",
   "metadata": {},
   "source": [
    "## Load NYT Comments and Pickle\n",
    "This is all comments for each month in one file\n",
    "\n",
    "We are currently not using comments for n_comments or basic binary prediction from the dataset"
   ]
  },
  {
   "cell_type": "code",
   "execution_count": 9,
   "metadata": {},
   "outputs": [
    {
     "name": "stderr",
     "output_type": "stream",
     "text": [
      "C:\\Users\\Mike\\.conda\\envs\\NLP\\lib\\site-packages\\IPython\\core\\interactiveshell.py:3444: DtypeWarning: Columns (6) have mixed types.Specify dtype option on import or set low_memory=False.\n",
      "  exec(code_obj, self.user_global_ns, self.user_ns)\n"
     ]
    }
   ],
   "source": [
    "df_comments = pd.read_csv('..//data//raw//nyt-comments-2020.csv',parse_dates=['createDate','updateDate','approveDate'])\n",
    "df_comments.sort_values(by='createDate',inplace=True,ascending=True)\n",
    "df_comments.to_pickle('..//data//raw//df_comments.pkl')"
   ]
  },
  {
   "cell_type": "code",
   "execution_count": 13,
   "metadata": {},
   "outputs": [
    {
     "data": {
      "text/html": [
       "<div>\n",
       "<style scoped>\n",
       "    .dataframe tbody tr th:only-of-type {\n",
       "        vertical-align: middle;\n",
       "    }\n",
       "\n",
       "    .dataframe tbody tr th {\n",
       "        vertical-align: top;\n",
       "    }\n",
       "\n",
       "    .dataframe thead th {\n",
       "        text-align: right;\n",
       "    }\n",
       "</style>\n",
       "<table border=\"1\" class=\"dataframe\">\n",
       "  <thead>\n",
       "    <tr style=\"text-align: right;\">\n",
       "      <th></th>\n",
       "      <th>4103435</th>\n",
       "    </tr>\n",
       "  </thead>\n",
       "  <tbody>\n",
       "    <tr>\n",
       "      <th>commentID</th>\n",
       "      <td>24332557</td>\n",
       "    </tr>\n",
       "    <tr>\n",
       "      <th>status</th>\n",
       "      <td>approved</td>\n",
       "    </tr>\n",
       "    <tr>\n",
       "      <th>commentSequence</th>\n",
       "      <td>24332557</td>\n",
       "    </tr>\n",
       "    <tr>\n",
       "      <th>userID</th>\n",
       "      <td>67334116</td>\n",
       "    </tr>\n",
       "    <tr>\n",
       "      <th>userDisplayName</th>\n",
       "      <td>Hawkeye</td>\n",
       "    </tr>\n",
       "    <tr>\n",
       "      <th>userLocation</th>\n",
       "      <td>Cincinnati</td>\n",
       "    </tr>\n",
       "    <tr>\n",
       "      <th>userTitle</th>\n",
       "      <td>NaN</td>\n",
       "    </tr>\n",
       "    <tr>\n",
       "      <th>commentBody</th>\n",
       "      <td>how many lives are now in jeopardy to protect ...</td>\n",
       "    </tr>\n",
       "    <tr>\n",
       "      <th>createDate</th>\n",
       "      <td>2017-10-23 13:53:05</td>\n",
       "    </tr>\n",
       "    <tr>\n",
       "      <th>updateDate</th>\n",
       "      <td>2018-08-21 22:27:38</td>\n",
       "    </tr>\n",
       "    <tr>\n",
       "      <th>approveDate</th>\n",
       "      <td>2017-10-05 13:08:58</td>\n",
       "    </tr>\n",
       "    <tr>\n",
       "      <th>recommendations</th>\n",
       "      <td>10</td>\n",
       "    </tr>\n",
       "    <tr>\n",
       "      <th>replyCount</th>\n",
       "      <td>0</td>\n",
       "    </tr>\n",
       "    <tr>\n",
       "      <th>editorsSelection</th>\n",
       "      <td>False</td>\n",
       "    </tr>\n",
       "    <tr>\n",
       "      <th>parentID</th>\n",
       "      <td>NaN</td>\n",
       "    </tr>\n",
       "    <tr>\n",
       "      <th>parentUserDisplayName</th>\n",
       "      <td>NaN</td>\n",
       "    </tr>\n",
       "    <tr>\n",
       "      <th>depth</th>\n",
       "      <td>1</td>\n",
       "    </tr>\n",
       "    <tr>\n",
       "      <th>commentType</th>\n",
       "      <td>comment</td>\n",
       "    </tr>\n",
       "    <tr>\n",
       "      <th>trusted</th>\n",
       "      <td>0</td>\n",
       "    </tr>\n",
       "    <tr>\n",
       "      <th>recommendedFlag</th>\n",
       "      <td>0</td>\n",
       "    </tr>\n",
       "    <tr>\n",
       "      <th>permID</th>\n",
       "      <td>24332557</td>\n",
       "    </tr>\n",
       "    <tr>\n",
       "      <th>isAnonymous</th>\n",
       "      <td>False</td>\n",
       "    </tr>\n",
       "    <tr>\n",
       "      <th>articleID</th>\n",
       "      <td>nyt://interactive/537f8409-c6f0-5e44-bce8-a4f5...</td>\n",
       "    </tr>\n",
       "  </tbody>\n",
       "</table>\n",
       "</div>"
      ],
      "text/plain": [
       "                                                                 4103435\n",
       "commentID                                                       24332557\n",
       "status                                                          approved\n",
       "commentSequence                                                 24332557\n",
       "userID                                                          67334116\n",
       "userDisplayName                                                  Hawkeye\n",
       "userLocation                                                  Cincinnati\n",
       "userTitle                                                            NaN\n",
       "commentBody            how many lives are now in jeopardy to protect ...\n",
       "createDate                                           2017-10-23 13:53:05\n",
       "updateDate                                           2018-08-21 22:27:38\n",
       "approveDate                                          2017-10-05 13:08:58\n",
       "recommendations                                                       10\n",
       "replyCount                                                             0\n",
       "editorsSelection                                                   False\n",
       "parentID                                                             NaN\n",
       "parentUserDisplayName                                                NaN\n",
       "depth                                                                  1\n",
       "commentType                                                      comment\n",
       "trusted                                                                0\n",
       "recommendedFlag                                                        0\n",
       "permID                                                          24332557\n",
       "isAnonymous                                                        False\n",
       "articleID              nyt://interactive/537f8409-c6f0-5e44-bce8-a4f5..."
      ]
     },
     "execution_count": 13,
     "metadata": {},
     "output_type": "execute_result"
    }
   ],
   "source": [
    "df_comments.head(1).T"
   ]
  },
  {
   "cell_type": "markdown",
   "metadata": {},
   "source": [
    "## Create Sample Comments for Testing"
   ]
  },
  {
   "cell_type": "code",
   "execution_count": 14,
   "metadata": {},
   "outputs": [],
   "source": [
    "df_sample = df_comments.sample(frac=0.01)\n",
    "df_sample.to_csv('..//data//processed//df_comments_sample.csv')\n",
    "df_sample.to_pickle('..//data//processed//df_comments_sample.pkl')"
   ]
  },
  {
   "cell_type": "markdown",
   "metadata": {},
   "source": [
    "# API Test\n",
    "Obtains data from NYT using scraper based on month"
   ]
  },
  {
   "cell_type": "raw",
   "metadata": {},
   "source": [
    "# API Test (Key)\n",
    "# See personal notes for API Key\n",
    "\n",
    "# Simple\n",
    "import datetime as dt\n",
    "from nytimes_scraper import run_scraper, scrape_month\n",
    "\n",
    "# months = [x for x in range(1,2)]\n",
    "\n",
    "month = 12\n",
    "\n",
    "# scrape february of 2020\n",
    "print('Month: ' + str(month))\n",
    "article_df, comment_df = scrape_month('oXfJcecuKgJOekEkgt9AkoUav1GzvGHX', date=dt.date(2020, month, 1))\n",
    "    \n",
    "# # scrape all articles month by month\n",
    "# run_scraper('oXfJcecuKgJOekEkgt9AkoUav1GzvGHX')"
   ]
  },
  {
   "cell_type": "markdown",
   "metadata": {},
   "source": [
    "## Analyze sample full article (more features)"
   ]
  },
  {
   "cell_type": "code",
   "execution_count": 12,
   "metadata": {},
   "outputs": [
    {
     "name": "stdout",
     "output_type": "stream",
     "text": [
      "<class 'pandas.core.frame.DataFrame'>\n",
      "Index: 4480 entries, nyt://article/22fc94cd-2e4a-5af1-89f8-7260bf275729 to nyt://article/a9363460-0cc5-5332-b8bc-11cef49b94e5\n",
      "Data columns (total 29 columns):\n",
      " #   Column                   Non-Null Count  Dtype              \n",
      "---  ------                   --------------  -----              \n",
      " 0   abstract                 4480 non-null   object             \n",
      " 1   web_url                  4480 non-null   object             \n",
      " 2   snippet                  4480 non-null   object             \n",
      " 3   lead_paragraph           4480 non-null   object             \n",
      " 4   print_section            3041 non-null   object             \n",
      " 5   print_page               3041 non-null   object             \n",
      " 6   source                   4480 non-null   object             \n",
      " 7   multimedia               4480 non-null   object             \n",
      " 8   keywords                 4480 non-null   object             \n",
      " 9   pub_date                 4480 non-null   datetime64[ns, UTC]\n",
      " 10  document_type            4480 non-null   category           \n",
      " 11  news_desk                4480 non-null   category           \n",
      " 12  section_name             4480 non-null   category           \n",
      " 13  type_of_material         4480 non-null   category           \n",
      " 14  word_count               4480 non-null   int64              \n",
      " 15  uri                      4480 non-null   object             \n",
      " 16  html                     4480 non-null   object             \n",
      " 17  text                     4480 non-null   object             \n",
      " 18  headline.main            4480 non-null   object             \n",
      " 19  headline.kicker          1085 non-null   object             \n",
      " 20  headline.content_kicker  0 non-null      object             \n",
      " 21  headline.print_headline  4480 non-null   object             \n",
      " 22  headline.name            0 non-null      object             \n",
      " 23  headline.seo             0 non-null      object             \n",
      " 24  headline.sub             0 non-null      object             \n",
      " 25  byline.original          4480 non-null   object             \n",
      " 26  byline.person            4480 non-null   object             \n",
      " 27  byline.organization      150 non-null    category           \n",
      " 28  subsection_name          2012 non-null   object             \n",
      "dtypes: category(5), datetime64[ns, UTC](1), int64(1), object(22)\n",
      "memory usage: 897.9+ KB\n"
     ]
    }
   ],
   "source": [
    "# Examine january 2020\n",
    "df_json = pd.read_pickle('..//data//raw//2020-01-articles.pickle')\n",
    "df_json.sort_values(by='pub_date',inplace=True,ascending=True)\n",
    "df_json.info()"
   ]
  },
  {
   "cell_type": "code",
   "execution_count": 25,
   "metadata": {},
   "outputs": [
    {
     "data": {
      "text/plain": [
       "abstract                   The gunman who shot two parishioners at the We...\n",
       "web_url                    https://www.nytimes.com/2019/12/31/us/texas-ch...\n",
       "snippet                    The gunman who shot two parishioners at the We...\n",
       "lead_paragraph             WHITE SETTLEMENT, Texas — Given West Freeway C...\n",
       "print_section                                                              A\n",
       "print_page                                                                16\n",
       "source                                                    The New York Times\n",
       "multimedia                 [{'rank': 0, 'subtype': 'xlarge', 'caption': N...\n",
       "keywords                   [{'name': 'subject', 'value': 'Churches (Build...\n",
       "pub_date                                           2020-01-01 00:14:41+00:00\n",
       "document_type                                                        article\n",
       "news_desk                                                           National\n",
       "section_name                                                            U.S.\n",
       "type_of_material                                                        News\n",
       "word_count                                                              1295\n",
       "uri                        nyt://article/22fc94cd-2e4a-5af1-89f8-7260bf27...\n",
       "html                       <!DOCTYPE html>\\n<html lang=\"en-US\" class=\"sto...\n",
       "text                       WHITE SETTLEMENT, Texas — Given West Freeway C...\n",
       "headline.main              ‘Battling a Demon’: Drifter Sought Help Before...\n",
       "headline.kicker                                                         None\n",
       "headline.content_kicker                                                 None\n",
       "headline.print_headline          Church Had Welcomed the Man Who Opened Fire\n",
       "headline.name                                                           None\n",
       "headline.seo                                                            None\n",
       "headline.sub                                                            None\n",
       "byline.original            By Dave Montgomery, Anemona Hartocollis and Ri...\n",
       "byline.person              [{'firstname': 'Dave', 'middlename': None, 'la...\n",
       "byline.organization                                                      NaN\n",
       "subsection_name                                                          NaN\n",
       "Name: nyt://article/22fc94cd-2e4a-5af1-89f8-7260bf275729, dtype: object"
      ]
     },
     "execution_count": 25,
     "metadata": {},
     "output_type": "execute_result"
    }
   ],
   "source": [
    "df_json.iloc[0].T"
   ]
  },
  {
   "cell_type": "markdown",
   "metadata": {},
   "source": [
    "## Join articles to raw article for more features\n",
    "\n",
    "Pull print section, print_page, lead_paragraph, and headlines to provide possible more text features that are not present in original dataset"
   ]
  },
  {
   "cell_type": "code",
   "execution_count": 15,
   "metadata": {},
   "outputs": [
    {
     "name": "stdout",
     "output_type": "stream",
     "text": [
      "Filename: ..//data//raw//2020-01-articles.pickle\n",
      "Filename: ..//data//raw//2020-02-articles.pickle\n",
      "Filename: ..//data//raw//2020-03-articles.pickle\n",
      "Filename: ..//data//raw//2020-04-articles.pickle\n",
      "Filename: ..//data//raw//2020-05-articles.pickle\n",
      "Filename: ..//data//raw//2020-06-articles.pickle\n",
      "Filename: ..//data//raw//2020-07-articles.pickle\n",
      "Filename: ..//data//raw//2020-08-articles.pickle\n",
      "Filename: ..//data//raw//2020-09-articles.pickle\n",
      "Filename: ..//data//raw//2020-10-articles.pickle\n",
      "Filename: ..//data//raw//2020-11-articles.pickle\n",
      "Filename: ..//data//raw//2020-12-articles.pickle\n"
     ]
    }
   ],
   "source": [
    "# build file list matching the pickle file name pattern\n",
    "filelist = ['..//data//raw//2020-'+ str(x).zfill(2) + '-articles.pickle' for x in range(1,13)]\n",
    "\n",
    "df_articles_verbose = pd.DataFrame()\n",
    "df_temp = pd.DataFrame()\n",
    "\n",
    "# For each one of the file names\n",
    "for filename in filelist[0:13]:\n",
    "    print('Filename: ' + filename)\n",
    "    \n",
    "    # Get large articles file\n",
    "    df_json = pd.read_pickle(filename)\n",
    "    df_json = df_json[['uri','print_section','print_page','lead_paragraph','headline.main','byline.person','byline.organization','headline.sub']]\n",
    "    \n",
    "    df_temp = df_temp.append(df_json,ignore_index=True)\n",
    " \n",
    "  \n",
    "    del(df_json)\n"
   ]
  },
  {
   "cell_type": "code",
   "execution_count": 16,
   "metadata": {},
   "outputs": [],
   "source": [
    "df_articles_verbose = pd.merge(df_articles,df_temp, how='left', left_on='uniqueID',right_on='uri',suffixes=['_left','_right'])"
   ]
  },
  {
   "cell_type": "code",
   "execution_count": 18,
   "metadata": {},
   "outputs": [
    {
     "data": {
      "text/plain": [
       "<AxesSubplot:>"
      ]
     },
     "execution_count": 18,
     "metadata": {},
     "output_type": "execute_result"
    },
    {
     "data": {
      "image/png": "[encoded data removed]",
      "text/plain": [
       "<Figure size 1800x720 with 2 Axes>"
      ]
     },
     "metadata": {
      "needs_background": "light"
     },
     "output_type": "display_data"
    }
   ],
   "source": [
    "msno.matrix(df_articles_verbose)"
   ]
  },
  {
   "cell_type": "code",
   "execution_count": 17,
   "metadata": {},
   "outputs": [
    {
     "data": {
      "text/plain": [
       "'Congress invited predatory for-profit colleges to defraud military veterans when it wrote a loophole into the rules governing federal education aid. The loophole, added to the Higher Education Act in 1998, encouraged the schools to take the education aid of Americans who had served the country while giving them valueless degrees — or no degrees at all — in return.'"
      ]
     },
     "execution_count": 17,
     "metadata": {},
     "output_type": "execute_result"
    }
   ],
   "source": [
    "df_articles_verbose.iloc[0]['lead_paragraph']"
   ]
  },
  {
   "cell_type": "code",
   "execution_count": 18,
   "metadata": {},
   "outputs": [
    {
     "data": {
      "text/plain": [
       "'Congress could do much more to protect Americans who have served their country from predatory for-profit colleges.'"
      ]
     },
     "execution_count": 18,
     "metadata": {},
     "output_type": "execute_result"
    }
   ],
   "source": [
    "df_articles_verbose.iloc[0]['abstract']"
   ]
  },
  {
   "cell_type": "code",
   "execution_count": 19,
   "metadata": {},
   "outputs": [
    {
     "name": "stdout",
     "output_type": "stream",
     "text": [
      "<class 'pandas.core.frame.DataFrame'>\n",
      "Int64Index: 16787 entries, 0 to 16786\n",
      "Data columns (total 19 columns):\n",
      " #   Column               Non-Null Count  Dtype              \n",
      "---  ------               --------------  -----              \n",
      " 0   newsdesk             16787 non-null  object             \n",
      " 1   section              16787 non-null  object             \n",
      " 2   subsection           5693 non-null   object             \n",
      " 3   material             16787 non-null  object             \n",
      " 4   headline             16787 non-null  object             \n",
      " 5   abstract             16784 non-null  object             \n",
      " 6   keywords             16786 non-null  object             \n",
      " 7   word_count           16787 non-null  int64              \n",
      " 8   pub_date             16787 non-null  datetime64[ns, UTC]\n",
      " 9   n_comments           16787 non-null  int64              \n",
      " 10  uniqueID             16787 non-null  object             \n",
      " 11  uri                  16787 non-null  object             \n",
      " 12  print_section        11598 non-null  object             \n",
      " 13  print_page           11598 non-null  object             \n",
      " 14  lead_paragraph       16787 non-null  object             \n",
      " 15  headline.main        16787 non-null  object             \n",
      " 16  byline.person        16787 non-null  object             \n",
      " 17  byline.organization  627 non-null    object             \n",
      " 18  headline.sub         0 non-null      object             \n",
      "dtypes: datetime64[ns, UTC](1), int64(2), object(16)\n",
      "memory usage: 2.6+ MB\n"
     ]
    }
   ],
   "source": [
    "df_articles_verbose.info()"
   ]
  },
  {
   "cell_type": "markdown",
   "metadata": {},
   "source": [
    "## Full Article Verbose / Write to file"
   ]
  },
  {
   "cell_type": "code",
   "execution_count": 20,
   "metadata": {},
   "outputs": [],
   "source": [
    "df_articles_verbose.to_csv('..//data//processed//df_articles_verbose.csv')\n",
    "df_articles_verbose.to_pickle('..//data//processed//df_articles_verbose.pkl')"
   ]
  },
  {
   "cell_type": "markdown",
   "metadata": {},
   "source": [
    "## Sample Article Verbose / Write to file\n"
   ]
  },
  {
   "cell_type": "code",
   "execution_count": 21,
   "metadata": {},
   "outputs": [],
   "source": [
    "df_sample = df_articles_verbose.sample(frac=0.05)\n",
    "df_sample.to_csv('..//data//processed//df_articles_verbose_sample.csv')\n",
    "df_sample.to_pickle('..//data//processed//df_articles_verbose_sample.pkl')"
   ]
  },
  {
   "cell_type": "raw",
   "metadata": {},
   "source": [
    "# Webpage url                                                                                                               \n",
    "url = 'https://www.nytimes.com/2019/12/31/us/texas-church-shooting-white-settlement.html'\n"
   ]
  },
  {
   "cell_type": "raw",
   "metadata": {},
   "source": [
    "import requests\n",
    "\n",
    "URL = \"https://www.nytimes.com/2019/12/31/us/texas-church-shooting-white-settlement.html\"\n",
    "page = requests.get(URL)\n",
    "\n",
    "print(page.text)"
   ]
  }
 ],
 "metadata": {
  "interpreter": {
   "hash": "ecaab7e4f2054dc1b3b08bfc690ea1c3d11e0c83265adf695ac1706ca10c6a57"
  },
  "kernelspec": {
   "display_name": "Python 3.9.7 64-bit ('NLP': conda)",
   "language": "python",
   "name": "python3"
  },
  "language_info": {
   "codemirror_mode": {
    "name": "ipython",
    "version": 3
   },
   "file_extension": ".py",
   "mimetype": "text/x-python",
   "name": "python",
   "nbconvert_exporter": "python",
   "pygments_lexer": "ipython3",
   "version": "3.9.7"
  },
  "orig_nbformat": 4
 },
 "nbformat": 4,
 "nbformat_minor": 2
}
